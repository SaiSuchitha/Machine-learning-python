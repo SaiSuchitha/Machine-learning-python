{
  "cells": [
    {
      "cell_type": "markdown",
      "metadata": {
        "id": "view-in-github",
        "colab_type": "text"
      },
      "source": [
        "<a href=\"https://colab.research.google.com/github/SaiSuchitha/Machine-learning-python/blob/main/disease_project_CA1.ipynb\" target=\"_parent\"><img src=\"https://colab.research.google.com/assets/colab-badge.svg\" alt=\"Open In Colab\"/></a>"
      ]
    },
    {
      "cell_type": "code",
      "execution_count": 134,
      "metadata": {
        "id": "PjATI-HaWmqE"
      },
      "outputs": [],
      "source": [
        "import pandas as pd\n",
        "import numpy as np\n",
        "import matplotlib as plt \n",
        "import seaborn as sns\n"
      ]
    },
    {
      "cell_type": "code",
      "execution_count": 135,
      "metadata": {
        "colab": {
          "base_uri": "https://localhost:8080/",
          "height": 74
        },
        "id": "lsXRv1KXXDnc",
        "outputId": "ca9d5c1e-661c-47f3-e494-a014aea5fdb4"
      },
      "outputs": [
        {
          "output_type": "display_data",
          "data": {
            "text/plain": [
              "<IPython.core.display.HTML object>"
            ],
            "text/html": [
              "\n",
              "     <input type=\"file\" id=\"files-7508d9f4-bb38-426b-afeb-e38a72628eb5\" name=\"files[]\" multiple disabled\n",
              "        style=\"border:none\" />\n",
              "     <output id=\"result-7508d9f4-bb38-426b-afeb-e38a72628eb5\">\n",
              "      Upload widget is only available when the cell has been executed in the\n",
              "      current browser session. Please rerun this cell to enable.\n",
              "      </output>\n",
              "      <script>// Copyright 2017 Google LLC\n",
              "//\n",
              "// Licensed under the Apache License, Version 2.0 (the \"License\");\n",
              "// you may not use this file except in compliance with the License.\n",
              "// You may obtain a copy of the License at\n",
              "//\n",
              "//      http://www.apache.org/licenses/LICENSE-2.0\n",
              "//\n",
              "// Unless required by applicable law or agreed to in writing, software\n",
              "// distributed under the License is distributed on an \"AS IS\" BASIS,\n",
              "// WITHOUT WARRANTIES OR CONDITIONS OF ANY KIND, either express or implied.\n",
              "// See the License for the specific language governing permissions and\n",
              "// limitations under the License.\n",
              "\n",
              "/**\n",
              " * @fileoverview Helpers for google.colab Python module.\n",
              " */\n",
              "(function(scope) {\n",
              "function span(text, styleAttributes = {}) {\n",
              "  const element = document.createElement('span');\n",
              "  element.textContent = text;\n",
              "  for (const key of Object.keys(styleAttributes)) {\n",
              "    element.style[key] = styleAttributes[key];\n",
              "  }\n",
              "  return element;\n",
              "}\n",
              "\n",
              "// Max number of bytes which will be uploaded at a time.\n",
              "const MAX_PAYLOAD_SIZE = 100 * 1024;\n",
              "\n",
              "function _uploadFiles(inputId, outputId) {\n",
              "  const steps = uploadFilesStep(inputId, outputId);\n",
              "  const outputElement = document.getElementById(outputId);\n",
              "  // Cache steps on the outputElement to make it available for the next call\n",
              "  // to uploadFilesContinue from Python.\n",
              "  outputElement.steps = steps;\n",
              "\n",
              "  return _uploadFilesContinue(outputId);\n",
              "}\n",
              "\n",
              "// This is roughly an async generator (not supported in the browser yet),\n",
              "// where there are multiple asynchronous steps and the Python side is going\n",
              "// to poll for completion of each step.\n",
              "// This uses a Promise to block the python side on completion of each step,\n",
              "// then passes the result of the previous step as the input to the next step.\n",
              "function _uploadFilesContinue(outputId) {\n",
              "  const outputElement = document.getElementById(outputId);\n",
              "  const steps = outputElement.steps;\n",
              "\n",
              "  const next = steps.next(outputElement.lastPromiseValue);\n",
              "  return Promise.resolve(next.value.promise).then((value) => {\n",
              "    // Cache the last promise value to make it available to the next\n",
              "    // step of the generator.\n",
              "    outputElement.lastPromiseValue = value;\n",
              "    return next.value.response;\n",
              "  });\n",
              "}\n",
              "\n",
              "/**\n",
              " * Generator function which is called between each async step of the upload\n",
              " * process.\n",
              " * @param {string} inputId Element ID of the input file picker element.\n",
              " * @param {string} outputId Element ID of the output display.\n",
              " * @return {!Iterable<!Object>} Iterable of next steps.\n",
              " */\n",
              "function* uploadFilesStep(inputId, outputId) {\n",
              "  const inputElement = document.getElementById(inputId);\n",
              "  inputElement.disabled = false;\n",
              "\n",
              "  const outputElement = document.getElementById(outputId);\n",
              "  outputElement.innerHTML = '';\n",
              "\n",
              "  const pickedPromise = new Promise((resolve) => {\n",
              "    inputElement.addEventListener('change', (e) => {\n",
              "      resolve(e.target.files);\n",
              "    });\n",
              "  });\n",
              "\n",
              "  const cancel = document.createElement('button');\n",
              "  inputElement.parentElement.appendChild(cancel);\n",
              "  cancel.textContent = 'Cancel upload';\n",
              "  const cancelPromise = new Promise((resolve) => {\n",
              "    cancel.onclick = () => {\n",
              "      resolve(null);\n",
              "    };\n",
              "  });\n",
              "\n",
              "  // Wait for the user to pick the files.\n",
              "  const files = yield {\n",
              "    promise: Promise.race([pickedPromise, cancelPromise]),\n",
              "    response: {\n",
              "      action: 'starting',\n",
              "    }\n",
              "  };\n",
              "\n",
              "  cancel.remove();\n",
              "\n",
              "  // Disable the input element since further picks are not allowed.\n",
              "  inputElement.disabled = true;\n",
              "\n",
              "  if (!files) {\n",
              "    return {\n",
              "      response: {\n",
              "        action: 'complete',\n",
              "      }\n",
              "    };\n",
              "  }\n",
              "\n",
              "  for (const file of files) {\n",
              "    const li = document.createElement('li');\n",
              "    li.append(span(file.name, {fontWeight: 'bold'}));\n",
              "    li.append(span(\n",
              "        `(${file.type || 'n/a'}) - ${file.size} bytes, ` +\n",
              "        `last modified: ${\n",
              "            file.lastModifiedDate ? file.lastModifiedDate.toLocaleDateString() :\n",
              "                                    'n/a'} - `));\n",
              "    const percent = span('0% done');\n",
              "    li.appendChild(percent);\n",
              "\n",
              "    outputElement.appendChild(li);\n",
              "\n",
              "    const fileDataPromise = new Promise((resolve) => {\n",
              "      const reader = new FileReader();\n",
              "      reader.onload = (e) => {\n",
              "        resolve(e.target.result);\n",
              "      };\n",
              "      reader.readAsArrayBuffer(file);\n",
              "    });\n",
              "    // Wait for the data to be ready.\n",
              "    let fileData = yield {\n",
              "      promise: fileDataPromise,\n",
              "      response: {\n",
              "        action: 'continue',\n",
              "      }\n",
              "    };\n",
              "\n",
              "    // Use a chunked sending to avoid message size limits. See b/62115660.\n",
              "    let position = 0;\n",
              "    do {\n",
              "      const length = Math.min(fileData.byteLength - position, MAX_PAYLOAD_SIZE);\n",
              "      const chunk = new Uint8Array(fileData, position, length);\n",
              "      position += length;\n",
              "\n",
              "      const base64 = btoa(String.fromCharCode.apply(null, chunk));\n",
              "      yield {\n",
              "        response: {\n",
              "          action: 'append',\n",
              "          file: file.name,\n",
              "          data: base64,\n",
              "        },\n",
              "      };\n",
              "\n",
              "      let percentDone = fileData.byteLength === 0 ?\n",
              "          100 :\n",
              "          Math.round((position / fileData.byteLength) * 100);\n",
              "      percent.textContent = `${percentDone}% done`;\n",
              "\n",
              "    } while (position < fileData.byteLength);\n",
              "  }\n",
              "\n",
              "  // All done.\n",
              "  yield {\n",
              "    response: {\n",
              "      action: 'complete',\n",
              "    }\n",
              "  };\n",
              "}\n",
              "\n",
              "scope.google = scope.google || {};\n",
              "scope.google.colab = scope.google.colab || {};\n",
              "scope.google.colab._files = {\n",
              "  _uploadFiles,\n",
              "  _uploadFilesContinue,\n",
              "};\n",
              "})(self);\n",
              "</script> "
            ]
          },
          "metadata": {}
        },
        {
          "output_type": "stream",
          "name": "stdout",
          "text": [
            "Saving Training.csv to Training (1).csv\n"
          ]
        }
      ],
      "source": [
        "#importing dataset\n",
        "\n",
        "from google.colab import files \n",
        "Training = files.upload()"
      ]
    },
    {
      "cell_type": "code",
      "execution_count": 136,
      "metadata": {
        "id": "WKa8xnG9Xhu6"
      },
      "outputs": [],
      "source": [
        "# converting the dataset into tabluar form\n",
        "\n",
        "df = pd.read_csv(\"/content/Training.csv\")"
      ]
    },
    {
      "cell_type": "code",
      "execution_count": 137,
      "metadata": {
        "id": "9UuTMtwooViH"
      },
      "outputs": [],
      "source": [
        "x = df.drop(columns = \"prognosis\",axis = 1)\n",
        "y = df[\"prognosis\"]"
      ]
    },
    {
      "cell_type": "code",
      "execution_count": 138,
      "metadata": {
        "colab": {
          "base_uri": "https://localhost:8080/"
        },
        "id": "jJnMzytJpk2e",
        "outputId": "4835f2e0-ea26-4e04-e092-8022f488b290"
      },
      "outputs": [
        {
          "output_type": "execute_result",
          "data": {
            "text/plain": [
              "(4920, 132)"
            ]
          },
          "metadata": {},
          "execution_count": 138
        }
      ],
      "source": [
        "\n",
        "x.shape"
      ]
    },
    {
      "cell_type": "code",
      "execution_count": 139,
      "metadata": {
        "colab": {
          "base_uri": "https://localhost:8080/"
        },
        "id": "CNcAPN0Apm1e",
        "outputId": "915ab945-13d4-46a7-8ef2-d3b2c7275c46"
      },
      "outputs": [
        {
          "output_type": "execute_result",
          "data": {
            "text/plain": [
              "(4920,)"
            ]
          },
          "metadata": {},
          "execution_count": 139
        }
      ],
      "source": [
        "y.shape"
      ]
    },
    {
      "cell_type": "code",
      "execution_count": 140,
      "metadata": {
        "colab": {
          "base_uri": "https://localhost:8080/"
        },
        "id": "hK-awHUzX7-Q",
        "outputId": "cb139088-c978-407a-e359-dae39c027f82"
      },
      "outputs": [
        {
          "output_type": "stream",
          "name": "stdout",
          "text": [
            "      itching  skin_rash  nodal_skin_eruptions  continuous_sneezing  \\\n",
            "0           1          1                     1                    0   \n",
            "1           0          1                     1                    0   \n",
            "2           1          0                     1                    0   \n",
            "3           1          1                     0                    0   \n",
            "4           1          1                     1                    0   \n",
            "...       ...        ...                   ...                  ...   \n",
            "4915        0          0                     0                    0   \n",
            "4916        0          1                     0                    0   \n",
            "4917        0          0                     0                    0   \n",
            "4918        0          1                     0                    0   \n",
            "4919        0          1                     0                    0   \n",
            "\n",
            "      shivering  chills  joint_pain  stomach_pain  acidity  ulcers_on_tongue  \\\n",
            "0             0       0           0             0        0                 0   \n",
            "1             0       0           0             0        0                 0   \n",
            "2             0       0           0             0        0                 0   \n",
            "3             0       0           0             0        0                 0   \n",
            "4             0       0           0             0        0                 0   \n",
            "...         ...     ...         ...           ...      ...               ...   \n",
            "4915          0       0           0             0        0                 0   \n",
            "4916          0       0           0             0        0                 0   \n",
            "4917          0       0           0             0        0                 0   \n",
            "4918          0       0           1             0        0                 0   \n",
            "4919          0       0           0             0        0                 0   \n",
            "\n",
            "      ...  blackheads  scurring  skin_peeling  silver_like_dusting  \\\n",
            "0     ...           0         0             0                    0   \n",
            "1     ...           0         0             0                    0   \n",
            "2     ...           0         0             0                    0   \n",
            "3     ...           0         0             0                    0   \n",
            "4     ...           0         0             0                    0   \n",
            "...   ...         ...       ...           ...                  ...   \n",
            "4915  ...           0         0             0                    0   \n",
            "4916  ...           1         1             0                    0   \n",
            "4917  ...           0         0             0                    0   \n",
            "4918  ...           0         0             1                    1   \n",
            "4919  ...           0         0             0                    0   \n",
            "\n",
            "      small_dents_in_nails  inflammatory_nails  blister  red_sore_around_nose  \\\n",
            "0                        0                   0        0                     0   \n",
            "1                        0                   0        0                     0   \n",
            "2                        0                   0        0                     0   \n",
            "3                        0                   0        0                     0   \n",
            "4                        0                   0        0                     0   \n",
            "...                    ...                 ...      ...                   ...   \n",
            "4915                     0                   0        0                     0   \n",
            "4916                     0                   0        0                     0   \n",
            "4917                     0                   0        0                     0   \n",
            "4918                     1                   1        0                     0   \n",
            "4919                     0                   0        1                     1   \n",
            "\n",
            "      yellow_crust_ooze                                prognosis  \n",
            "0                     0                         Fungal infection  \n",
            "1                     0                         Fungal infection  \n",
            "2                     0                         Fungal infection  \n",
            "3                     0                         Fungal infection  \n",
            "4                     0                         Fungal infection  \n",
            "...                 ...                                      ...  \n",
            "4915                  0  (vertigo) Paroymsal  Positional Vertigo  \n",
            "4916                  0                                     Acne  \n",
            "4917                  0                  Urinary tract infection  \n",
            "4918                  0                                Psoriasis  \n",
            "4919                  1                                 Impetigo  \n",
            "\n",
            "[4920 rows x 133 columns]\n"
          ]
        }
      ],
      "source": [
        "\n",
        "print(df)"
      ]
    },
    {
      "cell_type": "code",
      "execution_count": 141,
      "metadata": {
        "colab": {
          "base_uri": "https://localhost:8080/",
          "height": 488
        },
        "id": "lbHPvbe1Yi_Z",
        "outputId": "19e559a7-8d40-4463-95a1-2f21fe279abc"
      },
      "outputs": [
        {
          "output_type": "execute_result",
          "data": {
            "text/plain": [
              "      itching  skin_rash  nodal_skin_eruptions  continuous_sneezing  \\\n",
              "0       False      False                 False                False   \n",
              "1       False      False                 False                False   \n",
              "2       False      False                 False                False   \n",
              "3       False      False                 False                False   \n",
              "4       False      False                 False                False   \n",
              "...       ...        ...                   ...                  ...   \n",
              "4915    False      False                 False                False   \n",
              "4916    False      False                 False                False   \n",
              "4917    False      False                 False                False   \n",
              "4918    False      False                 False                False   \n",
              "4919    False      False                 False                False   \n",
              "\n",
              "      shivering  chills  joint_pain  stomach_pain  acidity  ulcers_on_tongue  \\\n",
              "0         False   False       False         False    False             False   \n",
              "1         False   False       False         False    False             False   \n",
              "2         False   False       False         False    False             False   \n",
              "3         False   False       False         False    False             False   \n",
              "4         False   False       False         False    False             False   \n",
              "...         ...     ...         ...           ...      ...               ...   \n",
              "4915      False   False       False         False    False             False   \n",
              "4916      False   False       False         False    False             False   \n",
              "4917      False   False       False         False    False             False   \n",
              "4918      False   False       False         False    False             False   \n",
              "4919      False   False       False         False    False             False   \n",
              "\n",
              "      ...  blackheads  scurring  skin_peeling  silver_like_dusting  \\\n",
              "0     ...       False     False         False                False   \n",
              "1     ...       False     False         False                False   \n",
              "2     ...       False     False         False                False   \n",
              "3     ...       False     False         False                False   \n",
              "4     ...       False     False         False                False   \n",
              "...   ...         ...       ...           ...                  ...   \n",
              "4915  ...       False     False         False                False   \n",
              "4916  ...       False     False         False                False   \n",
              "4917  ...       False     False         False                False   \n",
              "4918  ...       False     False         False                False   \n",
              "4919  ...       False     False         False                False   \n",
              "\n",
              "      small_dents_in_nails  inflammatory_nails  blister  red_sore_around_nose  \\\n",
              "0                    False               False    False                 False   \n",
              "1                    False               False    False                 False   \n",
              "2                    False               False    False                 False   \n",
              "3                    False               False    False                 False   \n",
              "4                    False               False    False                 False   \n",
              "...                    ...                 ...      ...                   ...   \n",
              "4915                 False               False    False                 False   \n",
              "4916                 False               False    False                 False   \n",
              "4917                 False               False    False                 False   \n",
              "4918                 False               False    False                 False   \n",
              "4919                 False               False    False                 False   \n",
              "\n",
              "      yellow_crust_ooze  prognosis  \n",
              "0                 False      False  \n",
              "1                 False      False  \n",
              "2                 False      False  \n",
              "3                 False      False  \n",
              "4                 False      False  \n",
              "...                 ...        ...  \n",
              "4915              False      False  \n",
              "4916              False      False  \n",
              "4917              False      False  \n",
              "4918              False      False  \n",
              "4919              False      False  \n",
              "\n",
              "[4920 rows x 133 columns]"
            ],
            "text/html": [
              "\n",
              "  <div id=\"df-a779aa43-8679-453f-a864-b2d8f148737d\">\n",
              "    <div class=\"colab-df-container\">\n",
              "      <div>\n",
              "<style scoped>\n",
              "    .dataframe tbody tr th:only-of-type {\n",
              "        vertical-align: middle;\n",
              "    }\n",
              "\n",
              "    .dataframe tbody tr th {\n",
              "        vertical-align: top;\n",
              "    }\n",
              "\n",
              "    .dataframe thead th {\n",
              "        text-align: right;\n",
              "    }\n",
              "</style>\n",
              "<table border=\"1\" class=\"dataframe\">\n",
              "  <thead>\n",
              "    <tr style=\"text-align: right;\">\n",
              "      <th></th>\n",
              "      <th>itching</th>\n",
              "      <th>skin_rash</th>\n",
              "      <th>nodal_skin_eruptions</th>\n",
              "      <th>continuous_sneezing</th>\n",
              "      <th>shivering</th>\n",
              "      <th>chills</th>\n",
              "      <th>joint_pain</th>\n",
              "      <th>stomach_pain</th>\n",
              "      <th>acidity</th>\n",
              "      <th>ulcers_on_tongue</th>\n",
              "      <th>...</th>\n",
              "      <th>blackheads</th>\n",
              "      <th>scurring</th>\n",
              "      <th>skin_peeling</th>\n",
              "      <th>silver_like_dusting</th>\n",
              "      <th>small_dents_in_nails</th>\n",
              "      <th>inflammatory_nails</th>\n",
              "      <th>blister</th>\n",
              "      <th>red_sore_around_nose</th>\n",
              "      <th>yellow_crust_ooze</th>\n",
              "      <th>prognosis</th>\n",
              "    </tr>\n",
              "  </thead>\n",
              "  <tbody>\n",
              "    <tr>\n",
              "      <th>0</th>\n",
              "      <td>False</td>\n",
              "      <td>False</td>\n",
              "      <td>False</td>\n",
              "      <td>False</td>\n",
              "      <td>False</td>\n",
              "      <td>False</td>\n",
              "      <td>False</td>\n",
              "      <td>False</td>\n",
              "      <td>False</td>\n",
              "      <td>False</td>\n",
              "      <td>...</td>\n",
              "      <td>False</td>\n",
              "      <td>False</td>\n",
              "      <td>False</td>\n",
              "      <td>False</td>\n",
              "      <td>False</td>\n",
              "      <td>False</td>\n",
              "      <td>False</td>\n",
              "      <td>False</td>\n",
              "      <td>False</td>\n",
              "      <td>False</td>\n",
              "    </tr>\n",
              "    <tr>\n",
              "      <th>1</th>\n",
              "      <td>False</td>\n",
              "      <td>False</td>\n",
              "      <td>False</td>\n",
              "      <td>False</td>\n",
              "      <td>False</td>\n",
              "      <td>False</td>\n",
              "      <td>False</td>\n",
              "      <td>False</td>\n",
              "      <td>False</td>\n",
              "      <td>False</td>\n",
              "      <td>...</td>\n",
              "      <td>False</td>\n",
              "      <td>False</td>\n",
              "      <td>False</td>\n",
              "      <td>False</td>\n",
              "      <td>False</td>\n",
              "      <td>False</td>\n",
              "      <td>False</td>\n",
              "      <td>False</td>\n",
              "      <td>False</td>\n",
              "      <td>False</td>\n",
              "    </tr>\n",
              "    <tr>\n",
              "      <th>2</th>\n",
              "      <td>False</td>\n",
              "      <td>False</td>\n",
              "      <td>False</td>\n",
              "      <td>False</td>\n",
              "      <td>False</td>\n",
              "      <td>False</td>\n",
              "      <td>False</td>\n",
              "      <td>False</td>\n",
              "      <td>False</td>\n",
              "      <td>False</td>\n",
              "      <td>...</td>\n",
              "      <td>False</td>\n",
              "      <td>False</td>\n",
              "      <td>False</td>\n",
              "      <td>False</td>\n",
              "      <td>False</td>\n",
              "      <td>False</td>\n",
              "      <td>False</td>\n",
              "      <td>False</td>\n",
              "      <td>False</td>\n",
              "      <td>False</td>\n",
              "    </tr>\n",
              "    <tr>\n",
              "      <th>3</th>\n",
              "      <td>False</td>\n",
              "      <td>False</td>\n",
              "      <td>False</td>\n",
              "      <td>False</td>\n",
              "      <td>False</td>\n",
              "      <td>False</td>\n",
              "      <td>False</td>\n",
              "      <td>False</td>\n",
              "      <td>False</td>\n",
              "      <td>False</td>\n",
              "      <td>...</td>\n",
              "      <td>False</td>\n",
              "      <td>False</td>\n",
              "      <td>False</td>\n",
              "      <td>False</td>\n",
              "      <td>False</td>\n",
              "      <td>False</td>\n",
              "      <td>False</td>\n",
              "      <td>False</td>\n",
              "      <td>False</td>\n",
              "      <td>False</td>\n",
              "    </tr>\n",
              "    <tr>\n",
              "      <th>4</th>\n",
              "      <td>False</td>\n",
              "      <td>False</td>\n",
              "      <td>False</td>\n",
              "      <td>False</td>\n",
              "      <td>False</td>\n",
              "      <td>False</td>\n",
              "      <td>False</td>\n",
              "      <td>False</td>\n",
              "      <td>False</td>\n",
              "      <td>False</td>\n",
              "      <td>...</td>\n",
              "      <td>False</td>\n",
              "      <td>False</td>\n",
              "      <td>False</td>\n",
              "      <td>False</td>\n",
              "      <td>False</td>\n",
              "      <td>False</td>\n",
              "      <td>False</td>\n",
              "      <td>False</td>\n",
              "      <td>False</td>\n",
              "      <td>False</td>\n",
              "    </tr>\n",
              "    <tr>\n",
              "      <th>...</th>\n",
              "      <td>...</td>\n",
              "      <td>...</td>\n",
              "      <td>...</td>\n",
              "      <td>...</td>\n",
              "      <td>...</td>\n",
              "      <td>...</td>\n",
              "      <td>...</td>\n",
              "      <td>...</td>\n",
              "      <td>...</td>\n",
              "      <td>...</td>\n",
              "      <td>...</td>\n",
              "      <td>...</td>\n",
              "      <td>...</td>\n",
              "      <td>...</td>\n",
              "      <td>...</td>\n",
              "      <td>...</td>\n",
              "      <td>...</td>\n",
              "      <td>...</td>\n",
              "      <td>...</td>\n",
              "      <td>...</td>\n",
              "      <td>...</td>\n",
              "    </tr>\n",
              "    <tr>\n",
              "      <th>4915</th>\n",
              "      <td>False</td>\n",
              "      <td>False</td>\n",
              "      <td>False</td>\n",
              "      <td>False</td>\n",
              "      <td>False</td>\n",
              "      <td>False</td>\n",
              "      <td>False</td>\n",
              "      <td>False</td>\n",
              "      <td>False</td>\n",
              "      <td>False</td>\n",
              "      <td>...</td>\n",
              "      <td>False</td>\n",
              "      <td>False</td>\n",
              "      <td>False</td>\n",
              "      <td>False</td>\n",
              "      <td>False</td>\n",
              "      <td>False</td>\n",
              "      <td>False</td>\n",
              "      <td>False</td>\n",
              "      <td>False</td>\n",
              "      <td>False</td>\n",
              "    </tr>\n",
              "    <tr>\n",
              "      <th>4916</th>\n",
              "      <td>False</td>\n",
              "      <td>False</td>\n",
              "      <td>False</td>\n",
              "      <td>False</td>\n",
              "      <td>False</td>\n",
              "      <td>False</td>\n",
              "      <td>False</td>\n",
              "      <td>False</td>\n",
              "      <td>False</td>\n",
              "      <td>False</td>\n",
              "      <td>...</td>\n",
              "      <td>False</td>\n",
              "      <td>False</td>\n",
              "      <td>False</td>\n",
              "      <td>False</td>\n",
              "      <td>False</td>\n",
              "      <td>False</td>\n",
              "      <td>False</td>\n",
              "      <td>False</td>\n",
              "      <td>False</td>\n",
              "      <td>False</td>\n",
              "    </tr>\n",
              "    <tr>\n",
              "      <th>4917</th>\n",
              "      <td>False</td>\n",
              "      <td>False</td>\n",
              "      <td>False</td>\n",
              "      <td>False</td>\n",
              "      <td>False</td>\n",
              "      <td>False</td>\n",
              "      <td>False</td>\n",
              "      <td>False</td>\n",
              "      <td>False</td>\n",
              "      <td>False</td>\n",
              "      <td>...</td>\n",
              "      <td>False</td>\n",
              "      <td>False</td>\n",
              "      <td>False</td>\n",
              "      <td>False</td>\n",
              "      <td>False</td>\n",
              "      <td>False</td>\n",
              "      <td>False</td>\n",
              "      <td>False</td>\n",
              "      <td>False</td>\n",
              "      <td>False</td>\n",
              "    </tr>\n",
              "    <tr>\n",
              "      <th>4918</th>\n",
              "      <td>False</td>\n",
              "      <td>False</td>\n",
              "      <td>False</td>\n",
              "      <td>False</td>\n",
              "      <td>False</td>\n",
              "      <td>False</td>\n",
              "      <td>False</td>\n",
              "      <td>False</td>\n",
              "      <td>False</td>\n",
              "      <td>False</td>\n",
              "      <td>...</td>\n",
              "      <td>False</td>\n",
              "      <td>False</td>\n",
              "      <td>False</td>\n",
              "      <td>False</td>\n",
              "      <td>False</td>\n",
              "      <td>False</td>\n",
              "      <td>False</td>\n",
              "      <td>False</td>\n",
              "      <td>False</td>\n",
              "      <td>False</td>\n",
              "    </tr>\n",
              "    <tr>\n",
              "      <th>4919</th>\n",
              "      <td>False</td>\n",
              "      <td>False</td>\n",
              "      <td>False</td>\n",
              "      <td>False</td>\n",
              "      <td>False</td>\n",
              "      <td>False</td>\n",
              "      <td>False</td>\n",
              "      <td>False</td>\n",
              "      <td>False</td>\n",
              "      <td>False</td>\n",
              "      <td>...</td>\n",
              "      <td>False</td>\n",
              "      <td>False</td>\n",
              "      <td>False</td>\n",
              "      <td>False</td>\n",
              "      <td>False</td>\n",
              "      <td>False</td>\n",
              "      <td>False</td>\n",
              "      <td>False</td>\n",
              "      <td>False</td>\n",
              "      <td>False</td>\n",
              "    </tr>\n",
              "  </tbody>\n",
              "</table>\n",
              "<p>4920 rows × 133 columns</p>\n",
              "</div>\n",
              "      <button class=\"colab-df-convert\" onclick=\"convertToInteractive('df-a779aa43-8679-453f-a864-b2d8f148737d')\"\n",
              "              title=\"Convert this dataframe to an interactive table.\"\n",
              "              style=\"display:none;\">\n",
              "        \n",
              "  <svg xmlns=\"http://www.w3.org/2000/svg\" height=\"24px\"viewBox=\"0 0 24 24\"\n",
              "       width=\"24px\">\n",
              "    <path d=\"M0 0h24v24H0V0z\" fill=\"none\"/>\n",
              "    <path d=\"M18.56 5.44l.94 2.06.94-2.06 2.06-.94-2.06-.94-.94-2.06-.94 2.06-2.06.94zm-11 1L8.5 8.5l.94-2.06 2.06-.94-2.06-.94L8.5 2.5l-.94 2.06-2.06.94zm10 10l.94 2.06.94-2.06 2.06-.94-2.06-.94-.94-2.06-.94 2.06-2.06.94z\"/><path d=\"M17.41 7.96l-1.37-1.37c-.4-.4-.92-.59-1.43-.59-.52 0-1.04.2-1.43.59L10.3 9.45l-7.72 7.72c-.78.78-.78 2.05 0 2.83L4 21.41c.39.39.9.59 1.41.59.51 0 1.02-.2 1.41-.59l7.78-7.78 2.81-2.81c.8-.78.8-2.07 0-2.86zM5.41 20L4 18.59l7.72-7.72 1.47 1.35L5.41 20z\"/>\n",
              "  </svg>\n",
              "      </button>\n",
              "      \n",
              "  <style>\n",
              "    .colab-df-container {\n",
              "      display:flex;\n",
              "      flex-wrap:wrap;\n",
              "      gap: 12px;\n",
              "    }\n",
              "\n",
              "    .colab-df-convert {\n",
              "      background-color: #E8F0FE;\n",
              "      border: none;\n",
              "      border-radius: 50%;\n",
              "      cursor: pointer;\n",
              "      display: none;\n",
              "      fill: #1967D2;\n",
              "      height: 32px;\n",
              "      padding: 0 0 0 0;\n",
              "      width: 32px;\n",
              "    }\n",
              "\n",
              "    .colab-df-convert:hover {\n",
              "      background-color: #E2EBFA;\n",
              "      box-shadow: 0px 1px 2px rgba(60, 64, 67, 0.3), 0px 1px 3px 1px rgba(60, 64, 67, 0.15);\n",
              "      fill: #174EA6;\n",
              "    }\n",
              "\n",
              "    [theme=dark] .colab-df-convert {\n",
              "      background-color: #3B4455;\n",
              "      fill: #D2E3FC;\n",
              "    }\n",
              "\n",
              "    [theme=dark] .colab-df-convert:hover {\n",
              "      background-color: #434B5C;\n",
              "      box-shadow: 0px 1px 3px 1px rgba(0, 0, 0, 0.15);\n",
              "      filter: drop-shadow(0px 1px 2px rgba(0, 0, 0, 0.3));\n",
              "      fill: #FFFFFF;\n",
              "    }\n",
              "  </style>\n",
              "\n",
              "      <script>\n",
              "        const buttonEl =\n",
              "          document.querySelector('#df-a779aa43-8679-453f-a864-b2d8f148737d button.colab-df-convert');\n",
              "        buttonEl.style.display =\n",
              "          google.colab.kernel.accessAllowed ? 'block' : 'none';\n",
              "\n",
              "        async function convertToInteractive(key) {\n",
              "          const element = document.querySelector('#df-a779aa43-8679-453f-a864-b2d8f148737d');\n",
              "          const dataTable =\n",
              "            await google.colab.kernel.invokeFunction('convertToInteractive',\n",
              "                                                     [key], {});\n",
              "          if (!dataTable) return;\n",
              "\n",
              "          const docLinkHtml = 'Like what you see? Visit the ' +\n",
              "            '<a target=\"_blank\" href=https://colab.research.google.com/notebooks/data_table.ipynb>data table notebook</a>'\n",
              "            + ' to learn more about interactive tables.';\n",
              "          element.innerHTML = '';\n",
              "          dataTable['output_type'] = 'display_data';\n",
              "          await google.colab.output.renderOutput(dataTable, element);\n",
              "          const docLink = document.createElement('div');\n",
              "          docLink.innerHTML = docLinkHtml;\n",
              "          element.appendChild(docLink);\n",
              "        }\n",
              "      </script>\n",
              "    </div>\n",
              "  </div>\n",
              "  "
            ]
          },
          "metadata": {},
          "execution_count": 141
        }
      ],
      "source": [
        "# checking null values \n",
        "df.isnull()"
      ]
    },
    {
      "cell_type": "code",
      "execution_count": 142,
      "metadata": {
        "colab": {
          "base_uri": "https://localhost:8080/"
        },
        "id": "s2GhtKXFZLWR",
        "outputId": "ddc5671c-a65f-4cdd-e4b9-9e68cf1b8766"
      },
      "outputs": [
        {
          "output_type": "execute_result",
          "data": {
            "text/plain": [
              "itching                 0\n",
              "skin_rash               0\n",
              "nodal_skin_eruptions    0\n",
              "continuous_sneezing     0\n",
              "shivering               0\n",
              "                       ..\n",
              "inflammatory_nails      0\n",
              "blister                 0\n",
              "red_sore_around_nose    0\n",
              "yellow_crust_ooze       0\n",
              "prognosis               0\n",
              "Length: 133, dtype: int64"
            ]
          },
          "metadata": {},
          "execution_count": 142
        }
      ],
      "source": [
        "df.isnull().sum()"
      ]
    },
    {
      "cell_type": "code",
      "execution_count": 143,
      "metadata": {
        "id": "byNhlgl-pC-z"
      },
      "outputs": [],
      "source": [
        "# converting the target variable into numerical \n",
        "\n",
        "from sklearn import preprocessing\n",
        "\n",
        "labelencoder = preprocessing.LabelEncoder()\n",
        "df[\"prognosis\"] = labelencoder.fit_transform(df[\"prognosis\"])\n",
        "\n"
      ]
    },
    {
      "cell_type": "code",
      "execution_count": 144,
      "metadata": {
        "colab": {
          "base_uri": "https://localhost:8080/"
        },
        "id": "T-5sJO1upDNx",
        "outputId": "206b0a2c-9c8b-4ee8-d7f5-696795dea408"
      },
      "outputs": [
        {
          "output_type": "execute_result",
          "data": {
            "text/plain": [
              "array([15,  4, 16,  9, 14, 33,  1, 12, 17,  6, 23, 30,  7, 32, 28, 29,  8,\n",
              "       11, 37, 40, 19, 20, 21, 22,  3, 36, 10, 34, 13, 18, 39, 26, 24, 25,\n",
              "       31,  5,  0,  2, 38, 35, 27])"
            ]
          },
          "metadata": {},
          "execution_count": 144
        }
      ],
      "source": [
        "df[\"prognosis\"].unique()"
      ]
    },
    {
      "cell_type": "code",
      "execution_count": 144,
      "metadata": {
        "id": "9Nwebd-GbkR-"
      },
      "outputs": [],
      "source": []
    },
    {
      "cell_type": "code",
      "execution_count": 145,
      "metadata": {
        "colab": {
          "base_uri": "https://localhost:8080/",
          "height": 299
        },
        "id": "InwLBOP8q0-l",
        "outputId": "fca2c290-6e80-4065-cf4a-2de88e4a7628"
      },
      "outputs": [
        {
          "output_type": "execute_result",
          "data": {
            "text/plain": [
              "   itching  skin_rash  nodal_skin_eruptions  continuous_sneezing  shivering  \\\n",
              "0        1          1                     1                    0          0   \n",
              "1        0          1                     1                    0          0   \n",
              "2        1          0                     1                    0          0   \n",
              "3        1          1                     0                    0          0   \n",
              "4        1          1                     1                    0          0   \n",
              "\n",
              "   chills  joint_pain  stomach_pain  acidity  ulcers_on_tongue  ...  \\\n",
              "0       0           0             0        0                 0  ...   \n",
              "1       0           0             0        0                 0  ...   \n",
              "2       0           0             0        0                 0  ...   \n",
              "3       0           0             0        0                 0  ...   \n",
              "4       0           0             0        0                 0  ...   \n",
              "\n",
              "   blackheads  scurring  skin_peeling  silver_like_dusting  \\\n",
              "0           0         0             0                    0   \n",
              "1           0         0             0                    0   \n",
              "2           0         0             0                    0   \n",
              "3           0         0             0                    0   \n",
              "4           0         0             0                    0   \n",
              "\n",
              "   small_dents_in_nails  inflammatory_nails  blister  red_sore_around_nose  \\\n",
              "0                     0                   0        0                     0   \n",
              "1                     0                   0        0                     0   \n",
              "2                     0                   0        0                     0   \n",
              "3                     0                   0        0                     0   \n",
              "4                     0                   0        0                     0   \n",
              "\n",
              "   yellow_crust_ooze  prognosis  \n",
              "0                  0         15  \n",
              "1                  0         15  \n",
              "2                  0         15  \n",
              "3                  0         15  \n",
              "4                  0         15  \n",
              "\n",
              "[5 rows x 133 columns]"
            ],
            "text/html": [
              "\n",
              "  <div id=\"df-b98fd970-4eff-464e-97eb-8fe8419af802\">\n",
              "    <div class=\"colab-df-container\">\n",
              "      <div>\n",
              "<style scoped>\n",
              "    .dataframe tbody tr th:only-of-type {\n",
              "        vertical-align: middle;\n",
              "    }\n",
              "\n",
              "    .dataframe tbody tr th {\n",
              "        vertical-align: top;\n",
              "    }\n",
              "\n",
              "    .dataframe thead th {\n",
              "        text-align: right;\n",
              "    }\n",
              "</style>\n",
              "<table border=\"1\" class=\"dataframe\">\n",
              "  <thead>\n",
              "    <tr style=\"text-align: right;\">\n",
              "      <th></th>\n",
              "      <th>itching</th>\n",
              "      <th>skin_rash</th>\n",
              "      <th>nodal_skin_eruptions</th>\n",
              "      <th>continuous_sneezing</th>\n",
              "      <th>shivering</th>\n",
              "      <th>chills</th>\n",
              "      <th>joint_pain</th>\n",
              "      <th>stomach_pain</th>\n",
              "      <th>acidity</th>\n",
              "      <th>ulcers_on_tongue</th>\n",
              "      <th>...</th>\n",
              "      <th>blackheads</th>\n",
              "      <th>scurring</th>\n",
              "      <th>skin_peeling</th>\n",
              "      <th>silver_like_dusting</th>\n",
              "      <th>small_dents_in_nails</th>\n",
              "      <th>inflammatory_nails</th>\n",
              "      <th>blister</th>\n",
              "      <th>red_sore_around_nose</th>\n",
              "      <th>yellow_crust_ooze</th>\n",
              "      <th>prognosis</th>\n",
              "    </tr>\n",
              "  </thead>\n",
              "  <tbody>\n",
              "    <tr>\n",
              "      <th>0</th>\n",
              "      <td>1</td>\n",
              "      <td>1</td>\n",
              "      <td>1</td>\n",
              "      <td>0</td>\n",
              "      <td>0</td>\n",
              "      <td>0</td>\n",
              "      <td>0</td>\n",
              "      <td>0</td>\n",
              "      <td>0</td>\n",
              "      <td>0</td>\n",
              "      <td>...</td>\n",
              "      <td>0</td>\n",
              "      <td>0</td>\n",
              "      <td>0</td>\n",
              "      <td>0</td>\n",
              "      <td>0</td>\n",
              "      <td>0</td>\n",
              "      <td>0</td>\n",
              "      <td>0</td>\n",
              "      <td>0</td>\n",
              "      <td>15</td>\n",
              "    </tr>\n",
              "    <tr>\n",
              "      <th>1</th>\n",
              "      <td>0</td>\n",
              "      <td>1</td>\n",
              "      <td>1</td>\n",
              "      <td>0</td>\n",
              "      <td>0</td>\n",
              "      <td>0</td>\n",
              "      <td>0</td>\n",
              "      <td>0</td>\n",
              "      <td>0</td>\n",
              "      <td>0</td>\n",
              "      <td>...</td>\n",
              "      <td>0</td>\n",
              "      <td>0</td>\n",
              "      <td>0</td>\n",
              "      <td>0</td>\n",
              "      <td>0</td>\n",
              "      <td>0</td>\n",
              "      <td>0</td>\n",
              "      <td>0</td>\n",
              "      <td>0</td>\n",
              "      <td>15</td>\n",
              "    </tr>\n",
              "    <tr>\n",
              "      <th>2</th>\n",
              "      <td>1</td>\n",
              "      <td>0</td>\n",
              "      <td>1</td>\n",
              "      <td>0</td>\n",
              "      <td>0</td>\n",
              "      <td>0</td>\n",
              "      <td>0</td>\n",
              "      <td>0</td>\n",
              "      <td>0</td>\n",
              "      <td>0</td>\n",
              "      <td>...</td>\n",
              "      <td>0</td>\n",
              "      <td>0</td>\n",
              "      <td>0</td>\n",
              "      <td>0</td>\n",
              "      <td>0</td>\n",
              "      <td>0</td>\n",
              "      <td>0</td>\n",
              "      <td>0</td>\n",
              "      <td>0</td>\n",
              "      <td>15</td>\n",
              "    </tr>\n",
              "    <tr>\n",
              "      <th>3</th>\n",
              "      <td>1</td>\n",
              "      <td>1</td>\n",
              "      <td>0</td>\n",
              "      <td>0</td>\n",
              "      <td>0</td>\n",
              "      <td>0</td>\n",
              "      <td>0</td>\n",
              "      <td>0</td>\n",
              "      <td>0</td>\n",
              "      <td>0</td>\n",
              "      <td>...</td>\n",
              "      <td>0</td>\n",
              "      <td>0</td>\n",
              "      <td>0</td>\n",
              "      <td>0</td>\n",
              "      <td>0</td>\n",
              "      <td>0</td>\n",
              "      <td>0</td>\n",
              "      <td>0</td>\n",
              "      <td>0</td>\n",
              "      <td>15</td>\n",
              "    </tr>\n",
              "    <tr>\n",
              "      <th>4</th>\n",
              "      <td>1</td>\n",
              "      <td>1</td>\n",
              "      <td>1</td>\n",
              "      <td>0</td>\n",
              "      <td>0</td>\n",
              "      <td>0</td>\n",
              "      <td>0</td>\n",
              "      <td>0</td>\n",
              "      <td>0</td>\n",
              "      <td>0</td>\n",
              "      <td>...</td>\n",
              "      <td>0</td>\n",
              "      <td>0</td>\n",
              "      <td>0</td>\n",
              "      <td>0</td>\n",
              "      <td>0</td>\n",
              "      <td>0</td>\n",
              "      <td>0</td>\n",
              "      <td>0</td>\n",
              "      <td>0</td>\n",
              "      <td>15</td>\n",
              "    </tr>\n",
              "  </tbody>\n",
              "</table>\n",
              "<p>5 rows × 133 columns</p>\n",
              "</div>\n",
              "      <button class=\"colab-df-convert\" onclick=\"convertToInteractive('df-b98fd970-4eff-464e-97eb-8fe8419af802')\"\n",
              "              title=\"Convert this dataframe to an interactive table.\"\n",
              "              style=\"display:none;\">\n",
              "        \n",
              "  <svg xmlns=\"http://www.w3.org/2000/svg\" height=\"24px\"viewBox=\"0 0 24 24\"\n",
              "       width=\"24px\">\n",
              "    <path d=\"M0 0h24v24H0V0z\" fill=\"none\"/>\n",
              "    <path d=\"M18.56 5.44l.94 2.06.94-2.06 2.06-.94-2.06-.94-.94-2.06-.94 2.06-2.06.94zm-11 1L8.5 8.5l.94-2.06 2.06-.94-2.06-.94L8.5 2.5l-.94 2.06-2.06.94zm10 10l.94 2.06.94-2.06 2.06-.94-2.06-.94-.94-2.06-.94 2.06-2.06.94z\"/><path d=\"M17.41 7.96l-1.37-1.37c-.4-.4-.92-.59-1.43-.59-.52 0-1.04.2-1.43.59L10.3 9.45l-7.72 7.72c-.78.78-.78 2.05 0 2.83L4 21.41c.39.39.9.59 1.41.59.51 0 1.02-.2 1.41-.59l7.78-7.78 2.81-2.81c.8-.78.8-2.07 0-2.86zM5.41 20L4 18.59l7.72-7.72 1.47 1.35L5.41 20z\"/>\n",
              "  </svg>\n",
              "      </button>\n",
              "      \n",
              "  <style>\n",
              "    .colab-df-container {\n",
              "      display:flex;\n",
              "      flex-wrap:wrap;\n",
              "      gap: 12px;\n",
              "    }\n",
              "\n",
              "    .colab-df-convert {\n",
              "      background-color: #E8F0FE;\n",
              "      border: none;\n",
              "      border-radius: 50%;\n",
              "      cursor: pointer;\n",
              "      display: none;\n",
              "      fill: #1967D2;\n",
              "      height: 32px;\n",
              "      padding: 0 0 0 0;\n",
              "      width: 32px;\n",
              "    }\n",
              "\n",
              "    .colab-df-convert:hover {\n",
              "      background-color: #E2EBFA;\n",
              "      box-shadow: 0px 1px 2px rgba(60, 64, 67, 0.3), 0px 1px 3px 1px rgba(60, 64, 67, 0.15);\n",
              "      fill: #174EA6;\n",
              "    }\n",
              "\n",
              "    [theme=dark] .colab-df-convert {\n",
              "      background-color: #3B4455;\n",
              "      fill: #D2E3FC;\n",
              "    }\n",
              "\n",
              "    [theme=dark] .colab-df-convert:hover {\n",
              "      background-color: #434B5C;\n",
              "      box-shadow: 0px 1px 3px 1px rgba(0, 0, 0, 0.15);\n",
              "      filter: drop-shadow(0px 1px 2px rgba(0, 0, 0, 0.3));\n",
              "      fill: #FFFFFF;\n",
              "    }\n",
              "  </style>\n",
              "\n",
              "      <script>\n",
              "        const buttonEl =\n",
              "          document.querySelector('#df-b98fd970-4eff-464e-97eb-8fe8419af802 button.colab-df-convert');\n",
              "        buttonEl.style.display =\n",
              "          google.colab.kernel.accessAllowed ? 'block' : 'none';\n",
              "\n",
              "        async function convertToInteractive(key) {\n",
              "          const element = document.querySelector('#df-b98fd970-4eff-464e-97eb-8fe8419af802');\n",
              "          const dataTable =\n",
              "            await google.colab.kernel.invokeFunction('convertToInteractive',\n",
              "                                                     [key], {});\n",
              "          if (!dataTable) return;\n",
              "\n",
              "          const docLinkHtml = 'Like what you see? Visit the ' +\n",
              "            '<a target=\"_blank\" href=https://colab.research.google.com/notebooks/data_table.ipynb>data table notebook</a>'\n",
              "            + ' to learn more about interactive tables.';\n",
              "          element.innerHTML = '';\n",
              "          dataTable['output_type'] = 'display_data';\n",
              "          await google.colab.output.renderOutput(dataTable, element);\n",
              "          const docLink = document.createElement('div');\n",
              "          docLink.innerHTML = docLinkHtml;\n",
              "          element.appendChild(docLink);\n",
              "        }\n",
              "      </script>\n",
              "    </div>\n",
              "  </div>\n",
              "  "
            ]
          },
          "metadata": {},
          "execution_count": 145
        }
      ],
      "source": [
        "df.head()"
      ]
    },
    {
      "cell_type": "code",
      "execution_count": 146,
      "metadata": {
        "id": "E8W3WPlYZOqQ"
      },
      "outputs": [],
      "source": [
        "#spliting the dataset\n",
        "import sklearn\n",
        "\n",
        "from sklearn. model_selection import train_test_split\n",
        "\n"
      ]
    },
    {
      "cell_type": "code",
      "execution_count": 147,
      "metadata": {
        "id": "8CIWfleeaKzt"
      },
      "outputs": [],
      "source": [
        "train_x,test_x,train_y,test_y = train_test_split(x,y,test_size= 0.3)\n"
      ]
    },
    {
      "cell_type": "code",
      "execution_count": 148,
      "metadata": {
        "colab": {
          "base_uri": "https://localhost:8080/"
        },
        "id": "WthQmsAup5Zq",
        "outputId": "f72c06d9-5b6d-49de-c034-2633024ba94a"
      },
      "outputs": [
        {
          "output_type": "execute_result",
          "data": {
            "text/plain": [
              "(3444, 132)"
            ]
          },
          "metadata": {},
          "execution_count": 148
        }
      ],
      "source": [
        "train_x.shape"
      ]
    },
    {
      "cell_type": "code",
      "execution_count": 149,
      "metadata": {
        "colab": {
          "base_uri": "https://localhost:8080/"
        },
        "id": "GVJxuvawuRgj",
        "outputId": "390ce33f-927f-4ef4-d9c8-031a78e29cf0"
      },
      "outputs": [
        {
          "output_type": "execute_result",
          "data": {
            "text/plain": [
              "(1476, 132)"
            ]
          },
          "metadata": {},
          "execution_count": 149
        }
      ],
      "source": [
        "test_x.shape"
      ]
    },
    {
      "cell_type": "code",
      "execution_count": 150,
      "metadata": {
        "colab": {
          "base_uri": "https://localhost:8080/"
        },
        "id": "C7HaKM7Up5li",
        "outputId": "025a5994-1cda-4d7c-9842-2043fae62f38"
      },
      "outputs": [
        {
          "output_type": "execute_result",
          "data": {
            "text/plain": [
              "(3444,)"
            ]
          },
          "metadata": {},
          "execution_count": 150
        }
      ],
      "source": [
        "train_y.shape"
      ]
    },
    {
      "cell_type": "code",
      "execution_count": 151,
      "metadata": {
        "colab": {
          "base_uri": "https://localhost:8080/"
        },
        "id": "AyaL6YZ3rZ-X",
        "outputId": "c4a3ef71-95c8-41f4-8df3-6e7be88b2341"
      },
      "outputs": [
        {
          "output_type": "execute_result",
          "data": {
            "text/plain": [
              "(1476,)"
            ]
          },
          "metadata": {},
          "execution_count": 151
        }
      ],
      "source": [
        "test_y.shape"
      ]
    },
    {
      "cell_type": "code",
      "execution_count": 152,
      "metadata": {
        "colab": {
          "base_uri": "https://localhost:8080/",
          "height": 480
        },
        "id": "AR_Wzrfokuld",
        "outputId": "f3e95d2f-4341-4d0d-8d0e-9ee17388778a"
      },
      "outputs": [
        {
          "output_type": "execute_result",
          "data": {
            "text/plain": [
              "                0             1             2             3             4    \\\n",
              "count  3.444000e+03  3.444000e+03  3.444000e+03  3.444000e+03  3.444000e+03   \n",
              "mean   7.994637e-17 -1.753662e-17  1.650506e-17 -4.332578e-17  1.547349e-18   \n",
              "std    1.000145e+00  1.000145e+00  1.000145e+00  1.000145e+00  1.000145e+00   \n",
              "min   -4.145204e-01 -4.368883e-01 -1.492039e-01 -2.156164e-01 -1.450845e-01   \n",
              "25%   -4.145204e-01 -4.368883e-01 -1.492039e-01 -2.156164e-01 -1.450845e-01   \n",
              "50%   -4.145204e-01 -4.368883e-01 -1.492039e-01 -2.156164e-01 -1.450845e-01   \n",
              "75%   -4.145204e-01 -4.368883e-01 -1.492039e-01 -2.156164e-01 -1.450845e-01   \n",
              "max    2.412427e+00  2.288915e+00  6.702238e+00  4.637866e+00  6.892535e+00   \n",
              "\n",
              "                5             6             7             8             9    \\\n",
              "count  3.444000e+03  3.444000e+03  3.444000e+03  3.444000e+03  3.444000e+03   \n",
              "mean   4.126264e-17 -2.888385e-17  8.716734e-17  3.765216e-17  2.578915e-18   \n",
              "std    1.000145e+00  1.000145e+00  1.000145e+00  1.000145e+00  1.000145e+00   \n",
              "min   -4.359454e-01 -4.033954e-01 -2.141374e-01 -2.088932e-01 -1.450845e-01   \n",
              "25%   -4.359454e-01 -4.033954e-01 -2.141374e-01 -2.088932e-01 -1.450845e-01   \n",
              "50%   -4.359454e-01 -4.033954e-01 -2.141374e-01 -2.088932e-01 -1.450845e-01   \n",
              "75%   -4.359454e-01 -4.033954e-01 -2.141374e-01 -2.088932e-01 -1.450845e-01   \n",
              "max    2.293865e+00  2.478957e+00  4.669898e+00  4.787136e+00  6.892535e+00   \n",
              "\n",
              "       ...           122           123           124           125  \\\n",
              "count  ...  3.444000e+03  3.444000e+03  3.444000e+03  3.444000e+03   \n",
              "mean   ... -4.177843e-17  3.713638e-17  1.289458e-17 -2.578915e-18   \n",
              "std    ...  1.000145e+00  1.000145e+00  1.000145e+00  1.000145e+00   \n",
              "min    ... -1.502176e-01 -1.481839e-01 -1.492039e-01 -1.551955e-01   \n",
              "25%    ... -1.502176e-01 -1.481839e-01 -1.492039e-01 -1.551955e-01   \n",
              "50%    ... -1.502176e-01 -1.481839e-01 -1.492039e-01 -1.551955e-01   \n",
              "75%    ... -1.502176e-01 -1.481839e-01 -1.492039e-01 -1.551955e-01   \n",
              "max    ...  6.657011e+00  6.748373e+00  6.702238e+00  6.443487e+00   \n",
              "\n",
              "                126           127           128           129           130  \\\n",
              "count  3.444000e+03  3.444000e+03  3.444000e+03  3.444000e+03  3.444000e+03   \n",
              "mean   3.094698e-18 -1.959976e-17 -1.856819e-17 -4.848361e-17 -1.031566e-17   \n",
              "std    1.000145e+00  1.000145e+00  1.000145e+00  1.000145e+00  1.000145e+00   \n",
              "min   -1.551955e-01 -1.561738e-01 -1.551955e-01 -1.502176e-01 -1.512251e-01   \n",
              "25%   -1.551955e-01 -1.561738e-01 -1.551955e-01 -1.502176e-01 -1.512251e-01   \n",
              "50%   -1.551955e-01 -1.561738e-01 -1.551955e-01 -1.502176e-01 -1.512251e-01   \n",
              "75%   -1.551955e-01 -1.561738e-01 -1.551955e-01 -1.502176e-01 -1.512251e-01   \n",
              "max    6.443487e+00  6.403124e+00  6.443487e+00  6.657011e+00  6.612660e+00   \n",
              "\n",
              "                131  \n",
              "count  3.444000e+03  \n",
              "mean  -7.220963e-18  \n",
              "std    1.000145e+00  \n",
              "min   -1.512251e-01  \n",
              "25%   -1.512251e-01  \n",
              "50%   -1.512251e-01  \n",
              "75%   -1.512251e-01  \n",
              "max    6.612660e+00  \n",
              "\n",
              "[8 rows x 132 columns]"
            ],
            "text/html": [
              "\n",
              "  <div id=\"df-b2dab18a-53b6-4634-8ccb-909b6f5a8ff1\">\n",
              "    <div class=\"colab-df-container\">\n",
              "      <div>\n",
              "<style scoped>\n",
              "    .dataframe tbody tr th:only-of-type {\n",
              "        vertical-align: middle;\n",
              "    }\n",
              "\n",
              "    .dataframe tbody tr th {\n",
              "        vertical-align: top;\n",
              "    }\n",
              "\n",
              "    .dataframe thead th {\n",
              "        text-align: right;\n",
              "    }\n",
              "</style>\n",
              "<table border=\"1\" class=\"dataframe\">\n",
              "  <thead>\n",
              "    <tr style=\"text-align: right;\">\n",
              "      <th></th>\n",
              "      <th>0</th>\n",
              "      <th>1</th>\n",
              "      <th>2</th>\n",
              "      <th>3</th>\n",
              "      <th>4</th>\n",
              "      <th>5</th>\n",
              "      <th>6</th>\n",
              "      <th>7</th>\n",
              "      <th>8</th>\n",
              "      <th>9</th>\n",
              "      <th>...</th>\n",
              "      <th>122</th>\n",
              "      <th>123</th>\n",
              "      <th>124</th>\n",
              "      <th>125</th>\n",
              "      <th>126</th>\n",
              "      <th>127</th>\n",
              "      <th>128</th>\n",
              "      <th>129</th>\n",
              "      <th>130</th>\n",
              "      <th>131</th>\n",
              "    </tr>\n",
              "  </thead>\n",
              "  <tbody>\n",
              "    <tr>\n",
              "      <th>count</th>\n",
              "      <td>3.444000e+03</td>\n",
              "      <td>3.444000e+03</td>\n",
              "      <td>3.444000e+03</td>\n",
              "      <td>3.444000e+03</td>\n",
              "      <td>3.444000e+03</td>\n",
              "      <td>3.444000e+03</td>\n",
              "      <td>3.444000e+03</td>\n",
              "      <td>3.444000e+03</td>\n",
              "      <td>3.444000e+03</td>\n",
              "      <td>3.444000e+03</td>\n",
              "      <td>...</td>\n",
              "      <td>3.444000e+03</td>\n",
              "      <td>3.444000e+03</td>\n",
              "      <td>3.444000e+03</td>\n",
              "      <td>3.444000e+03</td>\n",
              "      <td>3.444000e+03</td>\n",
              "      <td>3.444000e+03</td>\n",
              "      <td>3.444000e+03</td>\n",
              "      <td>3.444000e+03</td>\n",
              "      <td>3.444000e+03</td>\n",
              "      <td>3.444000e+03</td>\n",
              "    </tr>\n",
              "    <tr>\n",
              "      <th>mean</th>\n",
              "      <td>7.994637e-17</td>\n",
              "      <td>-1.753662e-17</td>\n",
              "      <td>1.650506e-17</td>\n",
              "      <td>-4.332578e-17</td>\n",
              "      <td>1.547349e-18</td>\n",
              "      <td>4.126264e-17</td>\n",
              "      <td>-2.888385e-17</td>\n",
              "      <td>8.716734e-17</td>\n",
              "      <td>3.765216e-17</td>\n",
              "      <td>2.578915e-18</td>\n",
              "      <td>...</td>\n",
              "      <td>-4.177843e-17</td>\n",
              "      <td>3.713638e-17</td>\n",
              "      <td>1.289458e-17</td>\n",
              "      <td>-2.578915e-18</td>\n",
              "      <td>3.094698e-18</td>\n",
              "      <td>-1.959976e-17</td>\n",
              "      <td>-1.856819e-17</td>\n",
              "      <td>-4.848361e-17</td>\n",
              "      <td>-1.031566e-17</td>\n",
              "      <td>-7.220963e-18</td>\n",
              "    </tr>\n",
              "    <tr>\n",
              "      <th>std</th>\n",
              "      <td>1.000145e+00</td>\n",
              "      <td>1.000145e+00</td>\n",
              "      <td>1.000145e+00</td>\n",
              "      <td>1.000145e+00</td>\n",
              "      <td>1.000145e+00</td>\n",
              "      <td>1.000145e+00</td>\n",
              "      <td>1.000145e+00</td>\n",
              "      <td>1.000145e+00</td>\n",
              "      <td>1.000145e+00</td>\n",
              "      <td>1.000145e+00</td>\n",
              "      <td>...</td>\n",
              "      <td>1.000145e+00</td>\n",
              "      <td>1.000145e+00</td>\n",
              "      <td>1.000145e+00</td>\n",
              "      <td>1.000145e+00</td>\n",
              "      <td>1.000145e+00</td>\n",
              "      <td>1.000145e+00</td>\n",
              "      <td>1.000145e+00</td>\n",
              "      <td>1.000145e+00</td>\n",
              "      <td>1.000145e+00</td>\n",
              "      <td>1.000145e+00</td>\n",
              "    </tr>\n",
              "    <tr>\n",
              "      <th>min</th>\n",
              "      <td>-4.145204e-01</td>\n",
              "      <td>-4.368883e-01</td>\n",
              "      <td>-1.492039e-01</td>\n",
              "      <td>-2.156164e-01</td>\n",
              "      <td>-1.450845e-01</td>\n",
              "      <td>-4.359454e-01</td>\n",
              "      <td>-4.033954e-01</td>\n",
              "      <td>-2.141374e-01</td>\n",
              "      <td>-2.088932e-01</td>\n",
              "      <td>-1.450845e-01</td>\n",
              "      <td>...</td>\n",
              "      <td>-1.502176e-01</td>\n",
              "      <td>-1.481839e-01</td>\n",
              "      <td>-1.492039e-01</td>\n",
              "      <td>-1.551955e-01</td>\n",
              "      <td>-1.551955e-01</td>\n",
              "      <td>-1.561738e-01</td>\n",
              "      <td>-1.551955e-01</td>\n",
              "      <td>-1.502176e-01</td>\n",
              "      <td>-1.512251e-01</td>\n",
              "      <td>-1.512251e-01</td>\n",
              "    </tr>\n",
              "    <tr>\n",
              "      <th>25%</th>\n",
              "      <td>-4.145204e-01</td>\n",
              "      <td>-4.368883e-01</td>\n",
              "      <td>-1.492039e-01</td>\n",
              "      <td>-2.156164e-01</td>\n",
              "      <td>-1.450845e-01</td>\n",
              "      <td>-4.359454e-01</td>\n",
              "      <td>-4.033954e-01</td>\n",
              "      <td>-2.141374e-01</td>\n",
              "      <td>-2.088932e-01</td>\n",
              "      <td>-1.450845e-01</td>\n",
              "      <td>...</td>\n",
              "      <td>-1.502176e-01</td>\n",
              "      <td>-1.481839e-01</td>\n",
              "      <td>-1.492039e-01</td>\n",
              "      <td>-1.551955e-01</td>\n",
              "      <td>-1.551955e-01</td>\n",
              "      <td>-1.561738e-01</td>\n",
              "      <td>-1.551955e-01</td>\n",
              "      <td>-1.502176e-01</td>\n",
              "      <td>-1.512251e-01</td>\n",
              "      <td>-1.512251e-01</td>\n",
              "    </tr>\n",
              "    <tr>\n",
              "      <th>50%</th>\n",
              "      <td>-4.145204e-01</td>\n",
              "      <td>-4.368883e-01</td>\n",
              "      <td>-1.492039e-01</td>\n",
              "      <td>-2.156164e-01</td>\n",
              "      <td>-1.450845e-01</td>\n",
              "      <td>-4.359454e-01</td>\n",
              "      <td>-4.033954e-01</td>\n",
              "      <td>-2.141374e-01</td>\n",
              "      <td>-2.088932e-01</td>\n",
              "      <td>-1.450845e-01</td>\n",
              "      <td>...</td>\n",
              "      <td>-1.502176e-01</td>\n",
              "      <td>-1.481839e-01</td>\n",
              "      <td>-1.492039e-01</td>\n",
              "      <td>-1.551955e-01</td>\n",
              "      <td>-1.551955e-01</td>\n",
              "      <td>-1.561738e-01</td>\n",
              "      <td>-1.551955e-01</td>\n",
              "      <td>-1.502176e-01</td>\n",
              "      <td>-1.512251e-01</td>\n",
              "      <td>-1.512251e-01</td>\n",
              "    </tr>\n",
              "    <tr>\n",
              "      <th>75%</th>\n",
              "      <td>-4.145204e-01</td>\n",
              "      <td>-4.368883e-01</td>\n",
              "      <td>-1.492039e-01</td>\n",
              "      <td>-2.156164e-01</td>\n",
              "      <td>-1.450845e-01</td>\n",
              "      <td>-4.359454e-01</td>\n",
              "      <td>-4.033954e-01</td>\n",
              "      <td>-2.141374e-01</td>\n",
              "      <td>-2.088932e-01</td>\n",
              "      <td>-1.450845e-01</td>\n",
              "      <td>...</td>\n",
              "      <td>-1.502176e-01</td>\n",
              "      <td>-1.481839e-01</td>\n",
              "      <td>-1.492039e-01</td>\n",
              "      <td>-1.551955e-01</td>\n",
              "      <td>-1.551955e-01</td>\n",
              "      <td>-1.561738e-01</td>\n",
              "      <td>-1.551955e-01</td>\n",
              "      <td>-1.502176e-01</td>\n",
              "      <td>-1.512251e-01</td>\n",
              "      <td>-1.512251e-01</td>\n",
              "    </tr>\n",
              "    <tr>\n",
              "      <th>max</th>\n",
              "      <td>2.412427e+00</td>\n",
              "      <td>2.288915e+00</td>\n",
              "      <td>6.702238e+00</td>\n",
              "      <td>4.637866e+00</td>\n",
              "      <td>6.892535e+00</td>\n",
              "      <td>2.293865e+00</td>\n",
              "      <td>2.478957e+00</td>\n",
              "      <td>4.669898e+00</td>\n",
              "      <td>4.787136e+00</td>\n",
              "      <td>6.892535e+00</td>\n",
              "      <td>...</td>\n",
              "      <td>6.657011e+00</td>\n",
              "      <td>6.748373e+00</td>\n",
              "      <td>6.702238e+00</td>\n",
              "      <td>6.443487e+00</td>\n",
              "      <td>6.443487e+00</td>\n",
              "      <td>6.403124e+00</td>\n",
              "      <td>6.443487e+00</td>\n",
              "      <td>6.657011e+00</td>\n",
              "      <td>6.612660e+00</td>\n",
              "      <td>6.612660e+00</td>\n",
              "    </tr>\n",
              "  </tbody>\n",
              "</table>\n",
              "<p>8 rows × 132 columns</p>\n",
              "</div>\n",
              "      <button class=\"colab-df-convert\" onclick=\"convertToInteractive('df-b2dab18a-53b6-4634-8ccb-909b6f5a8ff1')\"\n",
              "              title=\"Convert this dataframe to an interactive table.\"\n",
              "              style=\"display:none;\">\n",
              "        \n",
              "  <svg xmlns=\"http://www.w3.org/2000/svg\" height=\"24px\"viewBox=\"0 0 24 24\"\n",
              "       width=\"24px\">\n",
              "    <path d=\"M0 0h24v24H0V0z\" fill=\"none\"/>\n",
              "    <path d=\"M18.56 5.44l.94 2.06.94-2.06 2.06-.94-2.06-.94-.94-2.06-.94 2.06-2.06.94zm-11 1L8.5 8.5l.94-2.06 2.06-.94-2.06-.94L8.5 2.5l-.94 2.06-2.06.94zm10 10l.94 2.06.94-2.06 2.06-.94-2.06-.94-.94-2.06-.94 2.06-2.06.94z\"/><path d=\"M17.41 7.96l-1.37-1.37c-.4-.4-.92-.59-1.43-.59-.52 0-1.04.2-1.43.59L10.3 9.45l-7.72 7.72c-.78.78-.78 2.05 0 2.83L4 21.41c.39.39.9.59 1.41.59.51 0 1.02-.2 1.41-.59l7.78-7.78 2.81-2.81c.8-.78.8-2.07 0-2.86zM5.41 20L4 18.59l7.72-7.72 1.47 1.35L5.41 20z\"/>\n",
              "  </svg>\n",
              "      </button>\n",
              "      \n",
              "  <style>\n",
              "    .colab-df-container {\n",
              "      display:flex;\n",
              "      flex-wrap:wrap;\n",
              "      gap: 12px;\n",
              "    }\n",
              "\n",
              "    .colab-df-convert {\n",
              "      background-color: #E8F0FE;\n",
              "      border: none;\n",
              "      border-radius: 50%;\n",
              "      cursor: pointer;\n",
              "      display: none;\n",
              "      fill: #1967D2;\n",
              "      height: 32px;\n",
              "      padding: 0 0 0 0;\n",
              "      width: 32px;\n",
              "    }\n",
              "\n",
              "    .colab-df-convert:hover {\n",
              "      background-color: #E2EBFA;\n",
              "      box-shadow: 0px 1px 2px rgba(60, 64, 67, 0.3), 0px 1px 3px 1px rgba(60, 64, 67, 0.15);\n",
              "      fill: #174EA6;\n",
              "    }\n",
              "\n",
              "    [theme=dark] .colab-df-convert {\n",
              "      background-color: #3B4455;\n",
              "      fill: #D2E3FC;\n",
              "    }\n",
              "\n",
              "    [theme=dark] .colab-df-convert:hover {\n",
              "      background-color: #434B5C;\n",
              "      box-shadow: 0px 1px 3px 1px rgba(0, 0, 0, 0.15);\n",
              "      filter: drop-shadow(0px 1px 2px rgba(0, 0, 0, 0.3));\n",
              "      fill: #FFFFFF;\n",
              "    }\n",
              "  </style>\n",
              "\n",
              "      <script>\n",
              "        const buttonEl =\n",
              "          document.querySelector('#df-b2dab18a-53b6-4634-8ccb-909b6f5a8ff1 button.colab-df-convert');\n",
              "        buttonEl.style.display =\n",
              "          google.colab.kernel.accessAllowed ? 'block' : 'none';\n",
              "\n",
              "        async function convertToInteractive(key) {\n",
              "          const element = document.querySelector('#df-b2dab18a-53b6-4634-8ccb-909b6f5a8ff1');\n",
              "          const dataTable =\n",
              "            await google.colab.kernel.invokeFunction('convertToInteractive',\n",
              "                                                     [key], {});\n",
              "          if (!dataTable) return;\n",
              "\n",
              "          const docLinkHtml = 'Like what you see? Visit the ' +\n",
              "            '<a target=\"_blank\" href=https://colab.research.google.com/notebooks/data_table.ipynb>data table notebook</a>'\n",
              "            + ' to learn more about interactive tables.';\n",
              "          element.innerHTML = '';\n",
              "          dataTable['output_type'] = 'display_data';\n",
              "          await google.colab.output.renderOutput(dataTable, element);\n",
              "          const docLink = document.createElement('div');\n",
              "          docLink.innerHTML = docLinkHtml;\n",
              "          element.appendChild(docLink);\n",
              "        }\n",
              "      </script>\n",
              "    </div>\n",
              "  </div>\n",
              "  "
            ]
          },
          "metadata": {},
          "execution_count": 152
        }
      ],
      "source": [
        "from sklearn.preprocessing import StandardScaler\n",
        "sc=StandardScaler()\n",
        "train_x_sc=sc.fit_transform(train_x)\n",
        "pd.DataFrame(train_x_sc).describe()"
      ]
    },
    {
      "cell_type": "code",
      "execution_count": 153,
      "metadata": {
        "id": "in79-PdrdOdd"
      },
      "outputs": [],
      "source": [
        "\n",
        "x1 = df.drop(columns = \"prognosis\",axis = 1)\n",
        "y1 = df[\"prognosis\"]\n"
      ]
    },
    {
      "cell_type": "code",
      "execution_count": 154,
      "metadata": {
        "colab": {
          "base_uri": "https://localhost:8080/",
          "height": 480
        },
        "id": "6cMIEPDId9Lj",
        "outputId": "93cc5e50-5303-455c-d5ee-dc5e1442781f"
      },
      "outputs": [
        {
          "output_type": "execute_result",
          "data": {
            "text/plain": [
              "                0             1             2             3             4    \\\n",
              "count  3.444000e+03  3.444000e+03  3.444000e+03  3.444000e+03  3.444000e+03   \n",
              "mean   6.034662e-17 -8.252529e-18  1.237879e-17 -6.189397e-18 -1.727873e-17   \n",
              "std    1.000145e+00  1.000145e+00  1.000145e+00  1.000145e+00  1.000145e+00   \n",
              "min   -3.975378e-01 -4.397126e-01 -1.492039e-01 -2.178193e-01 -1.471574e-01   \n",
              "25%   -3.975378e-01 -4.397126e-01 -1.492039e-01 -2.178193e-01 -1.471574e-01   \n",
              "50%   -3.975378e-01 -4.397126e-01 -1.492039e-01 -2.178193e-01 -1.471574e-01   \n",
              "75%   -3.975378e-01 -4.397126e-01 -1.492039e-01 -2.178193e-01 -1.471574e-01   \n",
              "max    2.515484e+00  2.274213e+00  6.702238e+00  4.590961e+00  6.795446e+00   \n",
              "\n",
              "                5             6             7             8             9    \\\n",
              "count  3.444000e+03  3.444000e+03  3.444000e+03  3.444000e+03  3.444000e+03   \n",
              "mean   2.011554e-17 -2.991542e-17 -4.126264e-17 -1.237879e-17  1.031566e-17   \n",
              "std    1.000145e+00  1.000145e+00  1.000145e+00  1.000145e+00  1.000145e+00   \n",
              "min   -4.448742e-01 -4.009594e-01 -2.126500e-01 -2.170870e-01 -1.461243e-01   \n",
              "25%   -4.448742e-01 -4.009594e-01 -2.126500e-01 -2.170870e-01 -1.461243e-01   \n",
              "50%   -4.448742e-01 -4.009594e-01 -2.126500e-01 -2.170870e-01 -1.461243e-01   \n",
              "75%   -4.448742e-01 -4.009594e-01 -2.126500e-01 -2.170870e-01 -1.461243e-01   \n",
              "max    2.247827e+00  2.494018e+00  4.702562e+00  4.606447e+00  6.843488e+00   \n",
              "\n",
              "       ...           122           123           124           125  \\\n",
              "count  ...  3.444000e+03  3.444000e+03  3.444000e+03  3.444000e+03   \n",
              "mean   ...  5.157831e-18  1.805241e-17  3.197855e-17  6.498866e-17   \n",
              "std    ...  1.000145e+00  1.000145e+00  1.000145e+00  1.000145e+00   \n",
              "min    ... -1.532220e-01 -1.492039e-01 -1.481839e-01 -1.581139e-01   \n",
              "25%    ... -1.532220e-01 -1.492039e-01 -1.481839e-01 -1.581139e-01   \n",
              "50%    ... -1.532220e-01 -1.492039e-01 -1.481839e-01 -1.581139e-01   \n",
              "75%    ... -1.532220e-01 -1.492039e-01 -1.481839e-01 -1.581139e-01   \n",
              "max    ...  6.526480e+00  6.702238e+00  6.748373e+00  6.324555e+00   \n",
              "\n",
              "                126           127           128           129           130  \\\n",
              "count  3.444000e+03  3.444000e+03  3.444000e+03  3.444000e+03  3.444000e+03   \n",
              "mean  -2.733650e-17 -2.475759e-17 -2.939963e-17  2.269445e-17 -2.372602e-17   \n",
              "std    1.000145e+00  1.000145e+00  1.000145e+00  1.000145e+00  1.000145e+00   \n",
              "min   -1.561738e-01 -1.561738e-01 -1.561738e-01 -1.571465e-01 -1.551955e-01   \n",
              "25%   -1.561738e-01 -1.561738e-01 -1.561738e-01 -1.571465e-01 -1.551955e-01   \n",
              "50%   -1.561738e-01 -1.561738e-01 -1.561738e-01 -1.571465e-01 -1.551955e-01   \n",
              "75%   -1.561738e-01 -1.561738e-01 -1.561738e-01 -1.571465e-01 -1.551955e-01   \n",
              "max    6.403124e+00  6.403124e+00  6.403124e+00  6.363488e+00  6.443487e+00   \n",
              "\n",
              "               131  \n",
              "count  3444.000000  \n",
              "mean      0.000000  \n",
              "std       1.000145  \n",
              "min      -0.155195  \n",
              "25%      -0.155195  \n",
              "50%      -0.155195  \n",
              "75%      -0.155195  \n",
              "max       6.443487  \n",
              "\n",
              "[8 rows x 132 columns]"
            ],
            "text/html": [
              "\n",
              "  <div id=\"df-878944ad-dbb6-4c66-a2aa-2987426e81e9\">\n",
              "    <div class=\"colab-df-container\">\n",
              "      <div>\n",
              "<style scoped>\n",
              "    .dataframe tbody tr th:only-of-type {\n",
              "        vertical-align: middle;\n",
              "    }\n",
              "\n",
              "    .dataframe tbody tr th {\n",
              "        vertical-align: top;\n",
              "    }\n",
              "\n",
              "    .dataframe thead th {\n",
              "        text-align: right;\n",
              "    }\n",
              "</style>\n",
              "<table border=\"1\" class=\"dataframe\">\n",
              "  <thead>\n",
              "    <tr style=\"text-align: right;\">\n",
              "      <th></th>\n",
              "      <th>0</th>\n",
              "      <th>1</th>\n",
              "      <th>2</th>\n",
              "      <th>3</th>\n",
              "      <th>4</th>\n",
              "      <th>5</th>\n",
              "      <th>6</th>\n",
              "      <th>7</th>\n",
              "      <th>8</th>\n",
              "      <th>9</th>\n",
              "      <th>...</th>\n",
              "      <th>122</th>\n",
              "      <th>123</th>\n",
              "      <th>124</th>\n",
              "      <th>125</th>\n",
              "      <th>126</th>\n",
              "      <th>127</th>\n",
              "      <th>128</th>\n",
              "      <th>129</th>\n",
              "      <th>130</th>\n",
              "      <th>131</th>\n",
              "    </tr>\n",
              "  </thead>\n",
              "  <tbody>\n",
              "    <tr>\n",
              "      <th>count</th>\n",
              "      <td>3.444000e+03</td>\n",
              "      <td>3.444000e+03</td>\n",
              "      <td>3.444000e+03</td>\n",
              "      <td>3.444000e+03</td>\n",
              "      <td>3.444000e+03</td>\n",
              "      <td>3.444000e+03</td>\n",
              "      <td>3.444000e+03</td>\n",
              "      <td>3.444000e+03</td>\n",
              "      <td>3.444000e+03</td>\n",
              "      <td>3.444000e+03</td>\n",
              "      <td>...</td>\n",
              "      <td>3.444000e+03</td>\n",
              "      <td>3.444000e+03</td>\n",
              "      <td>3.444000e+03</td>\n",
              "      <td>3.444000e+03</td>\n",
              "      <td>3.444000e+03</td>\n",
              "      <td>3.444000e+03</td>\n",
              "      <td>3.444000e+03</td>\n",
              "      <td>3.444000e+03</td>\n",
              "      <td>3.444000e+03</td>\n",
              "      <td>3444.000000</td>\n",
              "    </tr>\n",
              "    <tr>\n",
              "      <th>mean</th>\n",
              "      <td>6.034662e-17</td>\n",
              "      <td>-8.252529e-18</td>\n",
              "      <td>1.237879e-17</td>\n",
              "      <td>-6.189397e-18</td>\n",
              "      <td>-1.727873e-17</td>\n",
              "      <td>2.011554e-17</td>\n",
              "      <td>-2.991542e-17</td>\n",
              "      <td>-4.126264e-17</td>\n",
              "      <td>-1.237879e-17</td>\n",
              "      <td>1.031566e-17</td>\n",
              "      <td>...</td>\n",
              "      <td>5.157831e-18</td>\n",
              "      <td>1.805241e-17</td>\n",
              "      <td>3.197855e-17</td>\n",
              "      <td>6.498866e-17</td>\n",
              "      <td>-2.733650e-17</td>\n",
              "      <td>-2.475759e-17</td>\n",
              "      <td>-2.939963e-17</td>\n",
              "      <td>2.269445e-17</td>\n",
              "      <td>-2.372602e-17</td>\n",
              "      <td>0.000000</td>\n",
              "    </tr>\n",
              "    <tr>\n",
              "      <th>std</th>\n",
              "      <td>1.000145e+00</td>\n",
              "      <td>1.000145e+00</td>\n",
              "      <td>1.000145e+00</td>\n",
              "      <td>1.000145e+00</td>\n",
              "      <td>1.000145e+00</td>\n",
              "      <td>1.000145e+00</td>\n",
              "      <td>1.000145e+00</td>\n",
              "      <td>1.000145e+00</td>\n",
              "      <td>1.000145e+00</td>\n",
              "      <td>1.000145e+00</td>\n",
              "      <td>...</td>\n",
              "      <td>1.000145e+00</td>\n",
              "      <td>1.000145e+00</td>\n",
              "      <td>1.000145e+00</td>\n",
              "      <td>1.000145e+00</td>\n",
              "      <td>1.000145e+00</td>\n",
              "      <td>1.000145e+00</td>\n",
              "      <td>1.000145e+00</td>\n",
              "      <td>1.000145e+00</td>\n",
              "      <td>1.000145e+00</td>\n",
              "      <td>1.000145</td>\n",
              "    </tr>\n",
              "    <tr>\n",
              "      <th>min</th>\n",
              "      <td>-3.975378e-01</td>\n",
              "      <td>-4.397126e-01</td>\n",
              "      <td>-1.492039e-01</td>\n",
              "      <td>-2.178193e-01</td>\n",
              "      <td>-1.471574e-01</td>\n",
              "      <td>-4.448742e-01</td>\n",
              "      <td>-4.009594e-01</td>\n",
              "      <td>-2.126500e-01</td>\n",
              "      <td>-2.170870e-01</td>\n",
              "      <td>-1.461243e-01</td>\n",
              "      <td>...</td>\n",
              "      <td>-1.532220e-01</td>\n",
              "      <td>-1.492039e-01</td>\n",
              "      <td>-1.481839e-01</td>\n",
              "      <td>-1.581139e-01</td>\n",
              "      <td>-1.561738e-01</td>\n",
              "      <td>-1.561738e-01</td>\n",
              "      <td>-1.561738e-01</td>\n",
              "      <td>-1.571465e-01</td>\n",
              "      <td>-1.551955e-01</td>\n",
              "      <td>-0.155195</td>\n",
              "    </tr>\n",
              "    <tr>\n",
              "      <th>25%</th>\n",
              "      <td>-3.975378e-01</td>\n",
              "      <td>-4.397126e-01</td>\n",
              "      <td>-1.492039e-01</td>\n",
              "      <td>-2.178193e-01</td>\n",
              "      <td>-1.471574e-01</td>\n",
              "      <td>-4.448742e-01</td>\n",
              "      <td>-4.009594e-01</td>\n",
              "      <td>-2.126500e-01</td>\n",
              "      <td>-2.170870e-01</td>\n",
              "      <td>-1.461243e-01</td>\n",
              "      <td>...</td>\n",
              "      <td>-1.532220e-01</td>\n",
              "      <td>-1.492039e-01</td>\n",
              "      <td>-1.481839e-01</td>\n",
              "      <td>-1.581139e-01</td>\n",
              "      <td>-1.561738e-01</td>\n",
              "      <td>-1.561738e-01</td>\n",
              "      <td>-1.561738e-01</td>\n",
              "      <td>-1.571465e-01</td>\n",
              "      <td>-1.551955e-01</td>\n",
              "      <td>-0.155195</td>\n",
              "    </tr>\n",
              "    <tr>\n",
              "      <th>50%</th>\n",
              "      <td>-3.975378e-01</td>\n",
              "      <td>-4.397126e-01</td>\n",
              "      <td>-1.492039e-01</td>\n",
              "      <td>-2.178193e-01</td>\n",
              "      <td>-1.471574e-01</td>\n",
              "      <td>-4.448742e-01</td>\n",
              "      <td>-4.009594e-01</td>\n",
              "      <td>-2.126500e-01</td>\n",
              "      <td>-2.170870e-01</td>\n",
              "      <td>-1.461243e-01</td>\n",
              "      <td>...</td>\n",
              "      <td>-1.532220e-01</td>\n",
              "      <td>-1.492039e-01</td>\n",
              "      <td>-1.481839e-01</td>\n",
              "      <td>-1.581139e-01</td>\n",
              "      <td>-1.561738e-01</td>\n",
              "      <td>-1.561738e-01</td>\n",
              "      <td>-1.561738e-01</td>\n",
              "      <td>-1.571465e-01</td>\n",
              "      <td>-1.551955e-01</td>\n",
              "      <td>-0.155195</td>\n",
              "    </tr>\n",
              "    <tr>\n",
              "      <th>75%</th>\n",
              "      <td>-3.975378e-01</td>\n",
              "      <td>-4.397126e-01</td>\n",
              "      <td>-1.492039e-01</td>\n",
              "      <td>-2.178193e-01</td>\n",
              "      <td>-1.471574e-01</td>\n",
              "      <td>-4.448742e-01</td>\n",
              "      <td>-4.009594e-01</td>\n",
              "      <td>-2.126500e-01</td>\n",
              "      <td>-2.170870e-01</td>\n",
              "      <td>-1.461243e-01</td>\n",
              "      <td>...</td>\n",
              "      <td>-1.532220e-01</td>\n",
              "      <td>-1.492039e-01</td>\n",
              "      <td>-1.481839e-01</td>\n",
              "      <td>-1.581139e-01</td>\n",
              "      <td>-1.561738e-01</td>\n",
              "      <td>-1.561738e-01</td>\n",
              "      <td>-1.561738e-01</td>\n",
              "      <td>-1.571465e-01</td>\n",
              "      <td>-1.551955e-01</td>\n",
              "      <td>-0.155195</td>\n",
              "    </tr>\n",
              "    <tr>\n",
              "      <th>max</th>\n",
              "      <td>2.515484e+00</td>\n",
              "      <td>2.274213e+00</td>\n",
              "      <td>6.702238e+00</td>\n",
              "      <td>4.590961e+00</td>\n",
              "      <td>6.795446e+00</td>\n",
              "      <td>2.247827e+00</td>\n",
              "      <td>2.494018e+00</td>\n",
              "      <td>4.702562e+00</td>\n",
              "      <td>4.606447e+00</td>\n",
              "      <td>6.843488e+00</td>\n",
              "      <td>...</td>\n",
              "      <td>6.526480e+00</td>\n",
              "      <td>6.702238e+00</td>\n",
              "      <td>6.748373e+00</td>\n",
              "      <td>6.324555e+00</td>\n",
              "      <td>6.403124e+00</td>\n",
              "      <td>6.403124e+00</td>\n",
              "      <td>6.403124e+00</td>\n",
              "      <td>6.363488e+00</td>\n",
              "      <td>6.443487e+00</td>\n",
              "      <td>6.443487</td>\n",
              "    </tr>\n",
              "  </tbody>\n",
              "</table>\n",
              "<p>8 rows × 132 columns</p>\n",
              "</div>\n",
              "      <button class=\"colab-df-convert\" onclick=\"convertToInteractive('df-878944ad-dbb6-4c66-a2aa-2987426e81e9')\"\n",
              "              title=\"Convert this dataframe to an interactive table.\"\n",
              "              style=\"display:none;\">\n",
              "        \n",
              "  <svg xmlns=\"http://www.w3.org/2000/svg\" height=\"24px\"viewBox=\"0 0 24 24\"\n",
              "       width=\"24px\">\n",
              "    <path d=\"M0 0h24v24H0V0z\" fill=\"none\"/>\n",
              "    <path d=\"M18.56 5.44l.94 2.06.94-2.06 2.06-.94-2.06-.94-.94-2.06-.94 2.06-2.06.94zm-11 1L8.5 8.5l.94-2.06 2.06-.94-2.06-.94L8.5 2.5l-.94 2.06-2.06.94zm10 10l.94 2.06.94-2.06 2.06-.94-2.06-.94-.94-2.06-.94 2.06-2.06.94z\"/><path d=\"M17.41 7.96l-1.37-1.37c-.4-.4-.92-.59-1.43-.59-.52 0-1.04.2-1.43.59L10.3 9.45l-7.72 7.72c-.78.78-.78 2.05 0 2.83L4 21.41c.39.39.9.59 1.41.59.51 0 1.02-.2 1.41-.59l7.78-7.78 2.81-2.81c.8-.78.8-2.07 0-2.86zM5.41 20L4 18.59l7.72-7.72 1.47 1.35L5.41 20z\"/>\n",
              "  </svg>\n",
              "      </button>\n",
              "      \n",
              "  <style>\n",
              "    .colab-df-container {\n",
              "      display:flex;\n",
              "      flex-wrap:wrap;\n",
              "      gap: 12px;\n",
              "    }\n",
              "\n",
              "    .colab-df-convert {\n",
              "      background-color: #E8F0FE;\n",
              "      border: none;\n",
              "      border-radius: 50%;\n",
              "      cursor: pointer;\n",
              "      display: none;\n",
              "      fill: #1967D2;\n",
              "      height: 32px;\n",
              "      padding: 0 0 0 0;\n",
              "      width: 32px;\n",
              "    }\n",
              "\n",
              "    .colab-df-convert:hover {\n",
              "      background-color: #E2EBFA;\n",
              "      box-shadow: 0px 1px 2px rgba(60, 64, 67, 0.3), 0px 1px 3px 1px rgba(60, 64, 67, 0.15);\n",
              "      fill: #174EA6;\n",
              "    }\n",
              "\n",
              "    [theme=dark] .colab-df-convert {\n",
              "      background-color: #3B4455;\n",
              "      fill: #D2E3FC;\n",
              "    }\n",
              "\n",
              "    [theme=dark] .colab-df-convert:hover {\n",
              "      background-color: #434B5C;\n",
              "      box-shadow: 0px 1px 3px 1px rgba(0, 0, 0, 0.15);\n",
              "      filter: drop-shadow(0px 1px 2px rgba(0, 0, 0, 0.3));\n",
              "      fill: #FFFFFF;\n",
              "    }\n",
              "  </style>\n",
              "\n",
              "      <script>\n",
              "        const buttonEl =\n",
              "          document.querySelector('#df-878944ad-dbb6-4c66-a2aa-2987426e81e9 button.colab-df-convert');\n",
              "        buttonEl.style.display =\n",
              "          google.colab.kernel.accessAllowed ? 'block' : 'none';\n",
              "\n",
              "        async function convertToInteractive(key) {\n",
              "          const element = document.querySelector('#df-878944ad-dbb6-4c66-a2aa-2987426e81e9');\n",
              "          const dataTable =\n",
              "            await google.colab.kernel.invokeFunction('convertToInteractive',\n",
              "                                                     [key], {});\n",
              "          if (!dataTable) return;\n",
              "\n",
              "          const docLinkHtml = 'Like what you see? Visit the ' +\n",
              "            '<a target=\"_blank\" href=https://colab.research.google.com/notebooks/data_table.ipynb>data table notebook</a>'\n",
              "            + ' to learn more about interactive tables.';\n",
              "          element.innerHTML = '';\n",
              "          dataTable['output_type'] = 'display_data';\n",
              "          await google.colab.output.renderOutput(dataTable, element);\n",
              "          const docLink = document.createElement('div');\n",
              "          docLink.innerHTML = docLinkHtml;\n",
              "          element.appendChild(docLink);\n",
              "        }\n",
              "      </script>\n",
              "    </div>\n",
              "  </div>\n",
              "  "
            ]
          },
          "metadata": {},
          "execution_count": 154
        }
      ],
      "source": [
        "from sklearn.preprocessing import StandardScaler\n",
        "sc=StandardScaler()\n",
        "train_x1_sc=sc.fit_transform(train_x1)\n",
        "pd.DataFrame(train_x1_sc).describe()"
      ]
    },
    {
      "cell_type": "code",
      "execution_count": 155,
      "metadata": {
        "id": "hFgMAUUOd9PC"
      },
      "outputs": [],
      "source": [
        "from sklearn.linear_model import Perceptron\n",
        "P=Perceptron() "
      ]
    },
    {
      "cell_type": "code",
      "execution_count": 156,
      "metadata": {
        "colab": {
          "base_uri": "https://localhost:8080/"
        },
        "id": "z1rBHRBwd9Sh",
        "outputId": "1a8c4a84-1c45-4102-a071-984246ac2d7f"
      },
      "outputs": [
        {
          "output_type": "execute_result",
          "data": {
            "text/plain": [
              "Perceptron()"
            ]
          },
          "metadata": {},
          "execution_count": 156
        }
      ],
      "source": [
        "P.fit(train_x1_sc,train_y1)\n",
        "Perceptron()"
      ]
    },
    {
      "cell_type": "code",
      "execution_count": 157,
      "metadata": {
        "colab": {
          "base_uri": "https://localhost:8080/"
        },
        "id": "jd4oJ0Ttd9WD",
        "outputId": "f9bb9f3e-203e-44ec-e4e9-aba795e15365"
      },
      "outputs": [
        {
          "output_type": "stream",
          "name": "stderr",
          "text": [
            "/usr/local/lib/python3.8/dist-packages/sklearn/base.py:443: UserWarning: X has feature names, but Perceptron was fitted without feature names\n",
            "  warnings.warn(\n"
          ]
        }
      ],
      "source": [
        "test_predict=P.predict(test_x1)\n",
        "train_predict=P.predict(train_x1_sc)"
      ]
    },
    {
      "cell_type": "code",
      "execution_count": 158,
      "metadata": {
        "colab": {
          "base_uri": "https://localhost:8080/"
        },
        "id": "SGdf_2TAd9Z6",
        "outputId": "0d95c72e-b1ad-4d55-a911-d4a313d65482"
      },
      "outputs": [
        {
          "output_type": "stream",
          "name": "stdout",
          "text": [
            "100.0\n"
          ]
        }
      ],
      "source": [
        "from sklearn.metrics import accuracy_score\n",
        "print(accuracy_score(train_y1,train_predict)*100)"
      ]
    },
    {
      "cell_type": "code",
      "execution_count": 159,
      "metadata": {
        "colab": {
          "base_uri": "https://localhost:8080/"
        },
        "id": "yxmBfNmjd9dS",
        "outputId": "1c657df0-83eb-45d6-d46e-46ee5dd7f553"
      },
      "outputs": [
        {
          "output_type": "stream",
          "name": "stdout",
          "text": [
            "78.11653116531166\n"
          ]
        }
      ],
      "source": [
        "print(accuracy_score(test_y1,test_predict)*100)"
      ]
    },
    {
      "cell_type": "code",
      "execution_count": 160,
      "metadata": {
        "id": "2X1xah62Wmth"
      },
      "outputs": [],
      "source": [
        "from sklearn.metrics import accuracy_score,classification_report,confusion_matrix"
      ]
    },
    {
      "cell_type": "code",
      "execution_count": 161,
      "metadata": {
        "colab": {
          "base_uri": "https://localhost:8080/"
        },
        "id": "p_9EaNUYZhDE",
        "outputId": "4ad9280a-6304-4db9-b568-3b01c8ab5f83"
      },
      "outputs": [
        {
          "output_type": "stream",
          "name": "stdout",
          "text": [
            "[[34  0  0 ...  0  0  0]\n",
            " [11 30  0 ...  0  0  0]\n",
            " [ 0  0 36 ...  0  0  0]\n",
            " ...\n",
            " [ 8  0  0 ... 23  0  0]\n",
            " [ 0  0  0 ...  0 28  0]\n",
            " [ 0  0  0 ...  0  0 38]]\n",
            "              precision    recall  f1-score   support\n",
            "\n",
            "           0       0.16      1.00      0.28        34\n",
            "           1       1.00      0.71      0.83        42\n",
            "           2       1.00      1.00      1.00        36\n",
            "           3       1.00      1.00      1.00        33\n",
            "           4       1.00      0.81      0.90        37\n",
            "           5       0.97      1.00      0.99        38\n",
            "           6       1.00      0.88      0.94        41\n",
            "           7       0.00      0.00      0.00        34\n",
            "           8       1.00      1.00      1.00        28\n",
            "           9       0.00      0.00      0.00        42\n",
            "          10       0.48      1.00      0.65        35\n",
            "          11       1.00      1.00      1.00        37\n",
            "          12       1.00      1.00      1.00        33\n",
            "          13       1.00      1.00      1.00        30\n",
            "          14       1.00      0.93      0.96        40\n",
            "          15       0.93      1.00      0.96        38\n",
            "          16       0.87      1.00      0.93        39\n",
            "          17       1.00      1.00      1.00        34\n",
            "          18       0.89      0.81      0.85        42\n",
            "          19       1.00      0.91      0.95        43\n",
            "          20       0.00      0.00      0.00        39\n",
            "          21       0.00      0.00      0.00        40\n",
            "          22       0.40      1.00      0.57        36\n",
            "          23       1.00      1.00      1.00        39\n",
            "          24       1.00      1.00      1.00        34\n",
            "          25       0.93      1.00      0.96        25\n",
            "          26       1.00      1.00      1.00        42\n",
            "          27       0.97      1.00      0.99        34\n",
            "          28       0.89      1.00      0.94        34\n",
            "          29       0.00      0.00      0.00        31\n",
            "          30       1.00      1.00      1.00        36\n",
            "          31       1.00      0.84      0.91        37\n",
            "          32       0.00      0.00      0.00        40\n",
            "          33       1.00      1.00      1.00        34\n",
            "          34       0.00      0.00      0.00        34\n",
            "          35       1.00      1.00      1.00        33\n",
            "          36       1.00      0.87      0.93        39\n",
            "          37       1.00      1.00      1.00        31\n",
            "          38       1.00      0.64      0.78        36\n",
            "          39       1.00      1.00      1.00        28\n",
            "          40       0.53      1.00      0.69        38\n",
            "\n",
            "    accuracy                           0.78      1476\n",
            "   macro avg       0.76      0.79      0.76      1476\n",
            "weighted avg       0.75      0.78      0.75      1476\n",
            "\n"
          ]
        },
        {
          "output_type": "stream",
          "name": "stderr",
          "text": [
            "/usr/local/lib/python3.8/dist-packages/sklearn/metrics/_classification.py:1318: UndefinedMetricWarning: Precision and F-score are ill-defined and being set to 0.0 in labels with no predicted samples. Use `zero_division` parameter to control this behavior.\n",
            "  _warn_prf(average, modifier, msg_start, len(result))\n",
            "/usr/local/lib/python3.8/dist-packages/sklearn/metrics/_classification.py:1318: UndefinedMetricWarning: Precision and F-score are ill-defined and being set to 0.0 in labels with no predicted samples. Use `zero_division` parameter to control this behavior.\n",
            "  _warn_prf(average, modifier, msg_start, len(result))\n",
            "/usr/local/lib/python3.8/dist-packages/sklearn/metrics/_classification.py:1318: UndefinedMetricWarning: Precision and F-score are ill-defined and being set to 0.0 in labels with no predicted samples. Use `zero_division` parameter to control this behavior.\n",
            "  _warn_prf(average, modifier, msg_start, len(result))\n"
          ]
        }
      ],
      "source": [
        "cm = confusion_matrix(test_y1,test_predict)\n",
        "print(cm)\n",
        "print(classification_report(test_y1,test_predict))"
      ]
    },
    {
      "cell_type": "code",
      "execution_count": 162,
      "metadata": {
        "colab": {
          "base_uri": "https://localhost:8080/"
        },
        "id": "KUa4jOsrd9gx",
        "outputId": "c8b12e4a-777c-440c-b49c-f57c09228095"
      },
      "outputs": [
        {
          "output_type": "execute_result",
          "data": {
            "text/plain": [
              "Perceptron(penalty='elasticnet')"
            ]
          },
          "metadata": {},
          "execution_count": 162
        }
      ],
      "source": [
        "p1=Perceptron(penalty='elasticnet')\n",
        "p1.fit(train_x1_sc,train_y1)\n",
        "Perceptron(penalty='elasticnet')"
      ]
    },
    {
      "cell_type": "code",
      "execution_count": 163,
      "metadata": {
        "colab": {
          "base_uri": "https://localhost:8080/"
        },
        "id": "0-ZyXy3ad9kF",
        "outputId": "4151211b-6a30-48df-a8ec-989da6c7c8f5"
      },
      "outputs": [
        {
          "output_type": "execute_result",
          "data": {
            "text/plain": [
              "Perceptron(penalty='elasticnet')"
            ]
          },
          "metadata": {},
          "execution_count": 163
        }
      ],
      "source": [
        "Perceptron(penalty='elasticnet')"
      ]
    },
    {
      "cell_type": "code",
      "execution_count": 164,
      "metadata": {
        "colab": {
          "base_uri": "https://localhost:8080/"
        },
        "id": "gnNGY9H9d9np",
        "outputId": "87b65006-d993-4c9c-c104-ea0b4607dddf"
      },
      "outputs": [
        {
          "output_type": "stream",
          "name": "stderr",
          "text": [
            "/usr/local/lib/python3.8/dist-packages/sklearn/base.py:443: UserWarning: X has feature names, but Perceptron was fitted without feature names\n",
            "  warnings.warn(\n"
          ]
        }
      ],
      "source": [
        "train_predict_elasticnet= p1.predict(train_x1_sc)\n",
        "test_predict_en= p1.predict(test_x1)"
      ]
    },
    {
      "cell_type": "code",
      "execution_count": 165,
      "metadata": {
        "colab": {
          "base_uri": "https://localhost:8080/"
        },
        "id": "_OdEF5cJiCpJ",
        "outputId": "bca5660b-2de4-48bc-dcab-93e1c133c049"
      },
      "outputs": [
        {
          "output_type": "stream",
          "name": "stdout",
          "text": [
            "Training accuracy 100.0\n",
            "Testing accuracy 73.98373983739837\n"
          ]
        }
      ],
      "source": [
        "print(\"Training accuracy\",accuracy_score(train_y1,train_predict_elasticnet)*100)\n",
        "print(\"Testing accuracy\",accuracy_score(test_y1,test_predict_en)*100)"
      ]
    },
    {
      "cell_type": "code",
      "execution_count": 166,
      "metadata": {
        "colab": {
          "base_uri": "https://localhost:8080/"
        },
        "id": "Nt_KsxnBd9rG",
        "outputId": "0f261619-08f9-4e12-97b9-b9cc68b4a356"
      },
      "outputs": [
        {
          "output_type": "execute_result",
          "data": {
            "text/plain": [
              "(3444, 132)"
            ]
          },
          "metadata": {},
          "execution_count": 166
        }
      ],
      "source": [
        "from sklearn.svm import SVC\n",
        "svc=SVC()\n",
        "train_x1_sc.shape\n"
      ]
    },
    {
      "cell_type": "code",
      "execution_count": 167,
      "metadata": {
        "colab": {
          "base_uri": "https://localhost:8080/"
        },
        "id": "Tfwql3BKivvg",
        "outputId": "f233090e-63b7-432d-9e6d-221c11aae855"
      },
      "outputs": [
        {
          "output_type": "execute_result",
          "data": {
            "text/plain": [
              "SVC()"
            ]
          },
          "metadata": {},
          "execution_count": 167
        }
      ],
      "source": [
        "train_y1.shape\n",
        "svc.fit(train_x1_sc,train_y1)"
      ]
    },
    {
      "cell_type": "code",
      "execution_count": 168,
      "metadata": {
        "colab": {
          "base_uri": "https://localhost:8080/"
        },
        "id": "dOfhdXU5d9uN",
        "outputId": "1ef09372-8efb-4f8c-c04c-08ec44ae64ae"
      },
      "outputs": [
        {
          "output_type": "stream",
          "name": "stderr",
          "text": [
            "/usr/local/lib/python3.8/dist-packages/sklearn/base.py:443: UserWarning: X has feature names, but SVC was fitted without feature names\n",
            "  warnings.warn(\n"
          ]
        }
      ],
      "source": [
        "train_pred_svc=svc.predict(train_x1_sc)\n",
        "test_pred_svc=svc.predict(test_x1)"
      ]
    },
    {
      "cell_type": "code",
      "execution_count": 169,
      "metadata": {
        "colab": {
          "base_uri": "https://localhost:8080/"
        },
        "id": "BLCi-28pd9xW",
        "outputId": "970de52d-3c58-457b-aaab-0a3c1411dfee"
      },
      "outputs": [
        {
          "output_type": "stream",
          "name": "stdout",
          "text": [
            "Training 100.0\n",
            "Test 20.460704607046072\n"
          ]
        }
      ],
      "source": [
        "print(\"Training\",accuracy_score(train_pred_svc,train_y1)*100)\n",
        "print(\"Test\",accuracy_score(test_pred_svc,test_y1)*100)"
      ]
    },
    {
      "cell_type": "code",
      "execution_count": 170,
      "metadata": {
        "colab": {
          "base_uri": "https://localhost:8080/"
        },
        "id": "8cwKi1ZgaYYn",
        "outputId": "e99dcfdb-423f-4210-8c90-b009ff35782d"
      },
      "outputs": [
        {
          "output_type": "stream",
          "name": "stdout",
          "text": [
            "[[0 0 0 ... 0 0 0]\n",
            " [0 0 0 ... 0 0 0]\n",
            " [0 0 0 ... 0 0 0]\n",
            " ...\n",
            " [0 0 0 ... 0 0 0]\n",
            " [0 0 0 ... 0 0 0]\n",
            " [0 0 0 ... 0 0 0]]\n",
            "              precision    recall  f1-score   support\n",
            "\n",
            "           0       0.00      0.00      0.00        34\n",
            "           1       0.00      0.00      0.00        42\n",
            "           2       0.00      0.00      0.00        36\n",
            "           3       0.00      0.00      0.00        33\n",
            "           4       0.00      0.00      0.00        37\n",
            "           5       0.00      0.00      0.00        38\n",
            "           6       1.00      0.61      0.76        41\n",
            "           7       0.00      0.00      0.00        34\n",
            "           8       1.00      1.00      1.00        28\n",
            "           9       0.38      1.00      0.55        42\n",
            "          10       0.00      0.00      0.00        35\n",
            "          11       0.00      0.00      0.00        37\n",
            "          12       0.00      0.00      0.00        33\n",
            "          13       0.00      0.00      0.00        30\n",
            "          14       0.00      0.00      0.00        40\n",
            "          15       0.00      0.00      0.00        38\n",
            "          16       0.00      0.00      0.00        39\n",
            "          17       0.00      0.00      0.00        34\n",
            "          18       0.04      1.00      0.08        42\n",
            "          19       0.00      0.00      0.00        43\n",
            "          20       1.00      0.87      0.93        39\n",
            "          21       0.26      1.00      0.41        40\n",
            "          22       0.00      0.00      0.00        36\n",
            "          23       1.00      0.67      0.80        39\n",
            "          24       0.00      0.00      0.00        34\n",
            "          25       0.00      0.00      0.00        25\n",
            "          26       0.00      0.00      0.00        42\n",
            "          27       0.00      0.00      0.00        34\n",
            "          28       0.85      1.00      0.92        34\n",
            "          29       0.36      1.00      0.53        31\n",
            "          30       0.00      0.00      0.00        36\n",
            "          31       0.00      0.00      0.00        37\n",
            "          32       0.00      0.00      0.00        40\n",
            "          33       0.00      0.00      0.00        34\n",
            "          34       0.00      0.00      0.00        34\n",
            "          35       0.00      0.00      0.00        33\n",
            "          36       0.00      0.00      0.00        39\n",
            "          37       0.00      0.00      0.00        31\n",
            "          38       0.00      0.00      0.00        36\n",
            "          39       0.00      0.00      0.00        28\n",
            "          40       0.00      0.00      0.00        38\n",
            "\n",
            "    accuracy                           0.20      1476\n",
            "   macro avg       0.14      0.20      0.15      1476\n",
            "weighted avg       0.15      0.20      0.15      1476\n",
            "\n"
          ]
        },
        {
          "output_type": "stream",
          "name": "stderr",
          "text": [
            "/usr/local/lib/python3.8/dist-packages/sklearn/metrics/_classification.py:1318: UndefinedMetricWarning: Precision and F-score are ill-defined and being set to 0.0 in labels with no predicted samples. Use `zero_division` parameter to control this behavior.\n",
            "  _warn_prf(average, modifier, msg_start, len(result))\n",
            "/usr/local/lib/python3.8/dist-packages/sklearn/metrics/_classification.py:1318: UndefinedMetricWarning: Precision and F-score are ill-defined and being set to 0.0 in labels with no predicted samples. Use `zero_division` parameter to control this behavior.\n",
            "  _warn_prf(average, modifier, msg_start, len(result))\n",
            "/usr/local/lib/python3.8/dist-packages/sklearn/metrics/_classification.py:1318: UndefinedMetricWarning: Precision and F-score are ill-defined and being set to 0.0 in labels with no predicted samples. Use `zero_division` parameter to control this behavior.\n",
            "  _warn_prf(average, modifier, msg_start, len(result))\n"
          ]
        }
      ],
      "source": [
        "cm_svc = confusion_matrix(test_y1,test_pred_svc)\n",
        "print(cm_svc)\n",
        "print(classification_report(test_y1,test_pred_svc))"
      ]
    },
    {
      "cell_type": "code",
      "execution_count": 171,
      "metadata": {
        "colab": {
          "base_uri": "https://localhost:8080/"
        },
        "id": "tJReql1NjFv8",
        "outputId": "a64f96f1-61ab-4ec7-dda5-7381d9de3d0c"
      },
      "outputs": [
        {
          "output_type": "stream",
          "name": "stderr",
          "text": [
            "/usr/local/lib/python3.8/dist-packages/sklearn/base.py:443: UserWarning: X has feature names, but SVC was fitted without feature names\n",
            "  warnings.warn(\n"
          ]
        }
      ],
      "source": [
        "\n",
        "svc1=SVC(kernel=\"rbf\",C=0.5)\n",
        "svc1.fit(train_x1_sc,train_y1)\n",
        "train_pred_svc1=svc1.predict(train_x1_sc)\n",
        "test_pred_svc1=svc1.predict(test_x1)"
      ]
    },
    {
      "cell_type": "code",
      "execution_count": 172,
      "metadata": {
        "colab": {
          "base_uri": "https://localhost:8080/"
        },
        "id": "QMYO0-j6jJtD",
        "outputId": "a67ac522-9e05-4774-fda0-126799902377"
      },
      "outputs": [
        {
          "output_type": "stream",
          "name": "stdout",
          "text": [
            "Test 18.902439024390244\n"
          ]
        }
      ],
      "source": [
        "print(\"Test\",accuracy_score(test_pred_svc1,test_y1)*100)"
      ]
    },
    {
      "cell_type": "code",
      "execution_count": 173,
      "metadata": {
        "colab": {
          "base_uri": "https://localhost:8080/",
          "height": 1000
        },
        "id": "ViRBoqaWj_E5",
        "outputId": "b6d845e6-ce28-450a-c444-c29c07192ed6"
      },
      "outputs": [
        {
          "output_type": "display_data",
          "data": {
            "text/plain": [
              "<Figure size 1440x1440 with 2 Axes>"
            ],
            "image/png": "[encoded data removed]"
          },
          "metadata": {
            "needs_background": "light"
          }
        }
      ],
      "source": [
        "#SVC\n",
        "import seaborn as sns\n",
        "import matplotlib.pyplot as plt\n",
        "plt.figure(figsize=(20,20))\n",
        "sns.heatmap(cm_svc, annot=True)\n",
        "plt.title(\"Confusion Matrix for SVM Classifier on Test Data\")\n",
        "plt.show()"
      ]
    },
    {
      "cell_type": "markdown",
      "metadata": {
        "id": "ekBlXqkhjW04"
      },
      "source": []
    },
    {
      "cell_type": "code",
      "execution_count": 174,
      "metadata": {
        "colab": {
          "base_uri": "https://localhost:8080/"
        },
        "id": "9b-C2TNjVIBN",
        "outputId": "59722830-f5e4-4fbf-bae4-18d0cea4f916"
      },
      "outputs": [
        {
          "output_type": "stream",
          "name": "stderr",
          "text": [
            "/usr/local/lib/python3.8/dist-packages/sklearn/base.py:443: UserWarning: X has feature names, but KNeighborsClassifier was fitted without feature names\n",
            "  warnings.warn(\n"
          ]
        }
      ],
      "source": [
        "from sklearn.neighbors import KNeighborsClassifier\n",
        "knn=KNeighborsClassifier(n_neighbors=3)\n",
        "knn.fit(train_x1_sc,train_y1)\n",
        "train_pred_knn=knn.predict(train_x1_sc)\n",
        "test_pred_knn=knn.predict(test_x1)\n"
      ]
    },
    {
      "cell_type": "code",
      "execution_count": 175,
      "metadata": {
        "colab": {
          "base_uri": "https://localhost:8080/"
        },
        "id": "CBBLoBKukDti",
        "outputId": "56587bb4-b6d9-48d3-cd7c-9754de66f9a4"
      },
      "outputs": [
        {
          "output_type": "stream",
          "name": "stdout",
          "text": [
            "Training accuracy: 100.0\n",
            "testing accuracy: 15.24390243902439\n"
          ]
        }
      ],
      "source": [
        "print(\"Training accuracy:\",accuracy_score(train_pred_knn,train_y1)*100)\n",
        "print(\"testing accuracy:\",accuracy_score(test_pred_knn,test_y1)*100)"
      ]
    },
    {
      "cell_type": "code",
      "execution_count": 176,
      "metadata": {
        "colab": {
          "base_uri": "https://localhost:8080/"
        },
        "id": "gO-pJgW_bPAJ",
        "outputId": "7f15dfe3-e0e1-4fe5-9c85-c218f3aee9ab"
      },
      "outputs": [
        {
          "output_type": "stream",
          "name": "stdout",
          "text": [
            "[[0 0 0 ... 0 0 0]\n",
            " [0 0 0 ... 0 0 0]\n",
            " [0 0 0 ... 0 0 0]\n",
            " ...\n",
            " [0 0 0 ... 0 0 0]\n",
            " [0 0 0 ... 0 0 0]\n",
            " [0 0 0 ... 0 0 0]]\n",
            "              precision    recall  f1-score   support\n",
            "\n",
            "           0       0.00      0.00      0.00        34\n",
            "           1       0.00      0.00      0.00        42\n",
            "           2       0.00      0.00      0.00        36\n",
            "           3       0.00      0.00      0.00        33\n",
            "           4       0.00      0.00      0.00        37\n",
            "           5       0.00      0.00      0.00        38\n",
            "           6       0.00      0.00      0.00        41\n",
            "           7       0.00      0.00      0.00        34\n",
            "           8       0.00      0.00      0.00        28\n",
            "           9       0.30      1.00      0.46        42\n",
            "          10       0.00      0.00      0.00        35\n",
            "          11       0.00      0.00      0.00        37\n",
            "          12       0.00      0.00      0.00        33\n",
            "          13       0.00      0.00      0.00        30\n",
            "          14       0.00      0.00      0.00        40\n",
            "          15       0.00      0.00      0.00        38\n",
            "          16       0.00      0.00      0.00        39\n",
            "          17       0.00      0.00      0.00        34\n",
            "          18       0.05      1.00      0.09        42\n",
            "          19       0.00      0.00      0.00        43\n",
            "          20       0.19      1.00      0.32        39\n",
            "          21       0.47      0.93      0.63        40\n",
            "          22       0.00      0.00      0.00        36\n",
            "          23       0.00      0.00      0.00        39\n",
            "          24       0.00      0.00      0.00        34\n",
            "          25       0.00      0.00      0.00        25\n",
            "          26       0.00      0.00      0.00        42\n",
            "          27       0.00      0.00      0.00        34\n",
            "          28       0.87      1.00      0.93        34\n",
            "          29       0.33      1.00      0.50        31\n",
            "          30       0.00      0.00      0.00        36\n",
            "          31       0.00      0.00      0.00        37\n",
            "          32       0.00      0.00      0.00        40\n",
            "          33       0.00      0.00      0.00        34\n",
            "          34       0.00      0.00      0.00        34\n",
            "          35       0.00      0.00      0.00        33\n",
            "          36       0.00      0.00      0.00        39\n",
            "          37       0.00      0.00      0.00        31\n",
            "          38       0.00      0.00      0.00        36\n",
            "          39       0.00      0.00      0.00        28\n",
            "          40       0.00      0.00      0.00        38\n",
            "\n",
            "    accuracy                           0.15      1476\n",
            "   macro avg       0.05      0.14      0.07      1476\n",
            "weighted avg       0.05      0.15      0.07      1476\n",
            "\n"
          ]
        },
        {
          "output_type": "stream",
          "name": "stderr",
          "text": [
            "/usr/local/lib/python3.8/dist-packages/sklearn/metrics/_classification.py:1318: UndefinedMetricWarning: Precision and F-score are ill-defined and being set to 0.0 in labels with no predicted samples. Use `zero_division` parameter to control this behavior.\n",
            "  _warn_prf(average, modifier, msg_start, len(result))\n",
            "/usr/local/lib/python3.8/dist-packages/sklearn/metrics/_classification.py:1318: UndefinedMetricWarning: Precision and F-score are ill-defined and being set to 0.0 in labels with no predicted samples. Use `zero_division` parameter to control this behavior.\n",
            "  _warn_prf(average, modifier, msg_start, len(result))\n",
            "/usr/local/lib/python3.8/dist-packages/sklearn/metrics/_classification.py:1318: UndefinedMetricWarning: Precision and F-score are ill-defined and being set to 0.0 in labels with no predicted samples. Use `zero_division` parameter to control this behavior.\n",
            "  _warn_prf(average, modifier, msg_start, len(result))\n"
          ]
        }
      ],
      "source": [
        "cm_knn = confusion_matrix(test_y1,test_pred_knn)\n",
        "print(cm_knn)\n",
        "print(classification_report(test_y1,test_pred_knn))"
      ]
    },
    {
      "cell_type": "code",
      "execution_count": 177,
      "metadata": {
        "colab": {
          "base_uri": "https://localhost:8080/",
          "height": 1000
        },
        "id": "r5OKyZMR82yz",
        "outputId": "216e9461-294f-4052-b71c-b821b2e7f8b5"
      },
      "outputs": [
        {
          "output_type": "display_data",
          "data": {
            "text/plain": [
              "<Figure size 1440x1440 with 2 Axes>"
            ],
            "image/png": "[encoded data removed]"
          },
          "metadata": {
            "needs_background": "light"
          }
        }
      ],
      "source": [
        "plt.figure(figsize=(20,20))\n",
        "sns.heatmap(cm_knn, annot=True)\n",
        "plt.title(\"Confusion Matrix for KNN Classifier on Test Data\")\n",
        "plt.show()"
      ]
    },
    {
      "cell_type": "code",
      "execution_count": 197,
      "metadata": {
        "colab": {
          "base_uri": "https://localhost:8080/"
        },
        "id": "MrWtEVTmmQdo",
        "outputId": "fcae0671-0976-4e80-a31c-d47af647d882"
      },
      "outputs": [
        {
          "output_type": "stream",
          "name": "stdout",
          "text": [
            "Training 100.0\n",
            "testing 20.460704607046072\n"
          ]
        },
        {
          "output_type": "stream",
          "name": "stderr",
          "text": [
            "/usr/local/lib/python3.8/dist-packages/sklearn/base.py:443: UserWarning: X has feature names, but DecisionTreeClassifier was fitted without feature names\n",
            "  warnings.warn(\n"
          ]
        }
      ],
      "source": [
        "from sklearn.tree import DecisionTreeClassifier\n",
        "dt=DecisionTreeClassifier()\n",
        "dt.fit(train_x1_sc,train_y1)\n",
        "train_pred_dt=dt.predict(train_x1_sc)\n",
        "test_pred_dt=dt.predict(test_x1)\n",
        "print(\"Training\",accuracy_score(train_pred_dt,train_y1)*100)\n",
        "print(\"testing\",accuracy_score(test_pred_dt,test_y1)*100)"
      ]
    },
    {
      "cell_type": "code",
      "execution_count": 195,
      "metadata": {
        "colab": {
          "base_uri": "https://localhost:8080/"
        },
        "id": "KuiAxJdubvpG",
        "outputId": "165c1822-442e-44c7-ae0c-a6b2b34cc469"
      },
      "outputs": [
        {
          "output_type": "stream",
          "name": "stdout",
          "text": [
            "[[0 0 0 ... 0 0 0]\n",
            " [0 0 0 ... 0 0 0]\n",
            " [0 0 0 ... 0 0 0]\n",
            " ...\n",
            " [0 0 0 ... 0 0 0]\n",
            " [0 0 0 ... 0 0 0]\n",
            " [0 0 0 ... 0 0 0]]\n",
            "              precision    recall  f1-score   support\n",
            "\n",
            "           0       0.00      0.00      0.00        34\n",
            "           1       0.00      0.00      0.00        42\n",
            "           2       0.00      0.00      0.00        36\n",
            "           3       0.00      0.00      0.00        33\n",
            "           4       0.00      0.00      0.00        37\n",
            "           5       0.03      1.00      0.06        38\n",
            "           6       0.00      0.00      0.00        41\n",
            "           7       0.00      0.00      0.00        34\n",
            "           8       0.00      0.00      0.00        28\n",
            "           9       0.46      0.98      0.62        42\n",
            "          10       0.00      0.00      0.00        35\n",
            "          11       0.00      0.00      0.00        37\n",
            "          12       0.00      0.00      0.00        33\n",
            "          13       0.00      0.00      0.00        30\n",
            "          14       0.00      0.00      0.00        40\n",
            "          15       0.00      0.00      0.00        38\n",
            "          16       0.00      0.00      0.00        39\n",
            "          17       0.00      0.00      0.00        34\n",
            "          18       0.00      0.00      0.00        42\n",
            "          19       0.00      0.00      0.00        43\n",
            "          20       0.43      0.85      0.57        39\n",
            "          21       0.30      0.78      0.43        40\n",
            "          22       0.00      0.00      0.00        36\n",
            "          23       0.00      0.00      0.00        39\n",
            "          24       0.00      0.00      0.00        34\n",
            "          25       0.00      0.00      0.00        25\n",
            "          26       0.00      0.00      0.00        42\n",
            "          27       0.00      0.00      0.00        34\n",
            "          28       0.00      0.00      0.00        34\n",
            "          29       0.00      0.00      0.00        31\n",
            "          30       0.00      0.00      0.00        36\n",
            "          31       0.00      0.00      0.00        37\n",
            "          32       0.00      0.00      0.00        40\n",
            "          33       0.00      0.00      0.00        34\n",
            "          34       0.00      0.00      0.00        34\n",
            "          35       0.00      0.00      0.00        33\n",
            "          36       0.00      0.00      0.00        39\n",
            "          37       0.00      0.00      0.00        31\n",
            "          38       0.00      0.00      0.00        36\n",
            "          39       0.00      0.00      0.00        28\n",
            "          40       0.00      0.00      0.00        38\n",
            "\n",
            "    accuracy                           0.10      1476\n",
            "   macro avg       0.03      0.09      0.04      1476\n",
            "weighted avg       0.03      0.10      0.05      1476\n",
            "\n"
          ]
        },
        {
          "output_type": "stream",
          "name": "stderr",
          "text": [
            "/usr/local/lib/python3.8/dist-packages/sklearn/metrics/_classification.py:1318: UndefinedMetricWarning: Precision and F-score are ill-defined and being set to 0.0 in labels with no predicted samples. Use `zero_division` parameter to control this behavior.\n",
            "  _warn_prf(average, modifier, msg_start, len(result))\n",
            "/usr/local/lib/python3.8/dist-packages/sklearn/metrics/_classification.py:1318: UndefinedMetricWarning: Precision and F-score are ill-defined and being set to 0.0 in labels with no predicted samples. Use `zero_division` parameter to control this behavior.\n",
            "  _warn_prf(average, modifier, msg_start, len(result))\n",
            "/usr/local/lib/python3.8/dist-packages/sklearn/metrics/_classification.py:1318: UndefinedMetricWarning: Precision and F-score are ill-defined and being set to 0.0 in labels with no predicted samples. Use `zero_division` parameter to control this behavior.\n",
            "  _warn_prf(average, modifier, msg_start, len(result))\n"
          ]
        }
      ],
      "source": [
        "cm_dt = confusion_matrix(test_y1,test_pred_dt)\n",
        "print(cm_dt)\n",
        "print(classification_report(test_y1,test_pred_dt))"
      ]
    },
    {
      "cell_type": "code",
      "execution_count": 180,
      "metadata": {
        "colab": {
          "base_uri": "https://localhost:8080/",
          "height": 1000
        },
        "id": "GNdN7oru9F5t",
        "outputId": "5af8ee3a-8ecc-4204-c008-b2473785e831"
      },
      "outputs": [
        {
          "output_type": "display_data",
          "data": {
            "text/plain": [
              "<Figure size 1440x1440 with 2 Axes>"
            ],
            "image/png": "[encoded data removed]"
          },
          "metadata": {
            "needs_background": "light"
          }
        }
      ],
      "source": [
        "plt.figure(figsize=(20,20))\n",
        "sns.heatmap(cm_dt, annot=True)\n",
        "plt.title(\"Confusion Matrix for Decision Tree Classifier on Test Data\")\n",
        "plt.show()"
      ]
    },
    {
      "cell_type": "code",
      "execution_count": 201,
      "metadata": {
        "colab": {
          "base_uri": "https://localhost:8080/"
        },
        "id": "Tu6Uj1GJmVHq",
        "outputId": "c5f877cf-42b9-404b-b132-bbc8babb9aec"
      },
      "outputs": [
        {
          "output_type": "stream",
          "name": "stdout",
          "text": [
            "Training 100.0\n",
            "testing 36.24661246612466\n"
          ]
        },
        {
          "output_type": "stream",
          "name": "stderr",
          "text": [
            "/usr/local/lib/python3.8/dist-packages/sklearn/base.py:443: UserWarning: X has feature names, but DecisionTreeClassifier was fitted without feature names\n",
            "  warnings.warn(\n"
          ]
        }
      ],
      "source": [
        "dt1=DecisionTreeClassifier(criterion='entropy')\n",
        "dt1.fit(train_x1_sc,train_y1)\n",
        "train_pred_dt1=dt1.predict(train_x1_sc)\n",
        "test_pred_dt1=dt1.predict(test_x1)\n",
        "print(\"Training\",accuracy_score(train_pred_dt1,train_y1)*100)\n",
        "print(\"testing\",accuracy_score(test_pred_dt1,test_y1)*100)"
      ]
    },
    {
      "cell_type": "code",
      "execution_count": 204,
      "metadata": {
        "colab": {
          "base_uri": "https://localhost:8080/"
        },
        "id": "slHk_ltQmVD0",
        "outputId": "60f45df4-7e0d-4713-e5ff-2b73b42e38cf"
      },
      "outputs": [
        {
          "output_type": "stream",
          "name": "stdout",
          "text": [
            "Training 100.0\n",
            "Testing 17.682926829268293\n"
          ]
        },
        {
          "output_type": "stream",
          "name": "stderr",
          "text": [
            "/usr/local/lib/python3.8/dist-packages/sklearn/base.py:443: UserWarning: X has feature names, but DecisionTreeClassifier was fitted without feature names\n",
            "  warnings.warn(\n"
          ]
        }
      ],
      "source": [
        "dt2=DecisionTreeClassifier(criterion='gini')\n",
        "dt2.fit(train_x1_sc,train_y1)\n",
        "train_pred_dt2=dt2.predict(train_x1_sc)\n",
        "test_pred_dt2=dt2.predict(test_x1)\n",
        "print(\"Training\",accuracy_score(train_pred_dt2,train_y1)*100)\n",
        "print(\"Testing\",accuracy_score(test_pred_dt2,test_y1)*100)"
      ]
    },
    {
      "cell_type": "code",
      "execution_count": 183,
      "metadata": {
        "colab": {
          "base_uri": "https://localhost:8080/"
        },
        "id": "m15lVDycmU_2",
        "outputId": "32dd93e6-e39d-453d-ac83-a7beae3c7c3a"
      },
      "outputs": [
        {
          "output_type": "stream",
          "name": "stdout",
          "text": [
            "Training 100.0\n",
            "Testing 40.10840108401084\n"
          ]
        },
        {
          "output_type": "stream",
          "name": "stderr",
          "text": [
            "/usr/local/lib/python3.8/dist-packages/sklearn/base.py:443: UserWarning: X has feature names, but RandomForestClassifier was fitted without feature names\n",
            "  warnings.warn(\n"
          ]
        }
      ],
      "source": [
        "from sklearn.ensemble import RandomForestClassifier\n",
        "rf=RandomForestClassifier()\n",
        "rf.fit(train_x1_sc,train_y1)\n",
        "train_pred_rf=rf.predict(train_x1_sc)\n",
        "test_pred_rf=rf.predict(test_x1)\n",
        "print(\"Training\",accuracy_score(train_pred_rf,train_y1)*100)\n",
        "print(\"Testing\",accuracy_score(test_pred_rf,test_y1)*100)"
      ]
    },
    {
      "cell_type": "code",
      "execution_count": 184,
      "metadata": {
        "colab": {
          "base_uri": "https://localhost:8080/"
        },
        "id": "lsW7g6a5cAl_",
        "outputId": "0b047904-b227-49d7-b106-d6bf6ae7cfaa"
      },
      "outputs": [
        {
          "output_type": "stream",
          "name": "stdout",
          "text": [
            "[[33  0  0 ...  0  0  0]\n",
            " [ 0 40  0 ...  0  0  0]\n",
            " [ 0  0 32 ...  0  0  0]\n",
            " ...\n",
            " [ 0  0  0 ...  0  0  0]\n",
            " [ 0  0  0 ...  0 25  0]\n",
            " [ 0  0  0 ...  0  0  0]]\n",
            "              precision    recall  f1-score   support\n",
            "\n",
            "           0       0.53      0.97      0.69        34\n",
            "           1       0.49      0.95      0.65        42\n",
            "           2       0.23      0.89      0.37        36\n",
            "           3       1.00      0.82      0.90        33\n",
            "           4       0.11      1.00      0.19        37\n",
            "           5       0.00      0.00      0.00        38\n",
            "           6       0.00      0.00      0.00        41\n",
            "           7       0.00      0.00      0.00        34\n",
            "           8       1.00      0.82      0.90        28\n",
            "           9       0.47      1.00      0.64        42\n",
            "          10       0.00      0.00      0.00        35\n",
            "          11       1.00      0.95      0.97        37\n",
            "          12       0.00      0.00      0.00        33\n",
            "          13       0.00      0.00      0.00        30\n",
            "          14       0.00      0.00      0.00        40\n",
            "          15       0.00      0.00      0.00        38\n",
            "          16       0.00      0.00      0.00        39\n",
            "          17       0.00      0.00      0.00        34\n",
            "          18       0.34      0.88      0.49        42\n",
            "          19       0.00      0.00      0.00        43\n",
            "          20       0.42      1.00      0.59        39\n",
            "          21       0.51      0.88      0.65        40\n",
            "          22       0.00      0.00      0.00        36\n",
            "          23       0.00      0.00      0.00        39\n",
            "          24       0.00      0.00      0.00        34\n",
            "          25       0.00      0.00      0.00        25\n",
            "          26       0.00      0.00      0.00        42\n",
            "          27       0.93      0.76      0.84        34\n",
            "          28       1.00      1.00      1.00        34\n",
            "          29       0.93      0.84      0.88        31\n",
            "          30       0.00      0.00      0.00        36\n",
            "          31       0.00      0.00      0.00        37\n",
            "          32       0.33      0.90      0.48        40\n",
            "          33       0.89      1.00      0.94        34\n",
            "          34       0.00      0.00      0.00        34\n",
            "          35       0.00      0.00      0.00        33\n",
            "          36       0.00      0.00      0.00        39\n",
            "          37       1.00      1.00      1.00        31\n",
            "          38       0.00      0.00      0.00        36\n",
            "          39       0.19      0.89      0.31        28\n",
            "          40       0.00      0.00      0.00        38\n",
            "\n",
            "    accuracy                           0.40      1476\n",
            "   macro avg       0.28      0.40      0.30      1476\n",
            "weighted avg       0.27      0.40      0.30      1476\n",
            "\n"
          ]
        },
        {
          "output_type": "stream",
          "name": "stderr",
          "text": [
            "/usr/local/lib/python3.8/dist-packages/sklearn/metrics/_classification.py:1318: UndefinedMetricWarning: Precision and F-score are ill-defined and being set to 0.0 in labels with no predicted samples. Use `zero_division` parameter to control this behavior.\n",
            "  _warn_prf(average, modifier, msg_start, len(result))\n",
            "/usr/local/lib/python3.8/dist-packages/sklearn/metrics/_classification.py:1318: UndefinedMetricWarning: Precision and F-score are ill-defined and being set to 0.0 in labels with no predicted samples. Use `zero_division` parameter to control this behavior.\n",
            "  _warn_prf(average, modifier, msg_start, len(result))\n",
            "/usr/local/lib/python3.8/dist-packages/sklearn/metrics/_classification.py:1318: UndefinedMetricWarning: Precision and F-score are ill-defined and being set to 0.0 in labels with no predicted samples. Use `zero_division` parameter to control this behavior.\n",
            "  _warn_prf(average, modifier, msg_start, len(result))\n"
          ]
        }
      ],
      "source": [
        "cm_rf = confusion_matrix(test_y1,test_pred_rf)\n",
        "print(cm_rf)\n",
        "print(classification_report(test_y1,test_pred_rf))"
      ]
    },
    {
      "cell_type": "code",
      "execution_count": 185,
      "metadata": {
        "colab": {
          "base_uri": "https://localhost:8080/",
          "height": 1000
        },
        "id": "eqIGeBAA9PZR",
        "outputId": "391e1546-4650-40b0-de8e-ee2af734d765"
      },
      "outputs": [
        {
          "output_type": "display_data",
          "data": {
            "text/plain": [
              "<Figure size 1440x1440 with 2 Axes>"
            ],
            "image/png": "[encoded data removed]"
          },
          "metadata": {
            "needs_background": "light"
          }
        }
      ],
      "source": [
        "plt.figure(figsize=(20,20))\n",
        "sns.heatmap(cm_rf, annot=True)\n",
        "plt.title(\"Confusion Matrix for Random Forest Classifier on Test Data\")\n",
        "plt.show()"
      ]
    },
    {
      "cell_type": "code",
      "execution_count": 186,
      "metadata": {
        "id": "knmwjq9EFdgT"
      },
      "outputs": [],
      "source": [
        "p=Perceptron()\n",
        "rf=RandomForestClassifier()\n",
        "dt=DecisionTreeClassifier(criterion='entropy')"
      ]
    },
    {
      "cell_type": "code",
      "execution_count": 187,
      "metadata": {
        "id": "cPTLiDzPwQtD"
      },
      "outputs": [],
      "source": [
        "from sklearn.svm import SVC\n",
        "from sklearn.linear_model import LogisticRegression\n",
        "logr=LogisticRegression()\n",
        "from sklearn.tree import DecisionTreeClassifier\n",
        "from sklearn.ensemble import VotingClassifier\n",
        "from sklearn.ensemble import BaggingClassifier\n",
        "from sklearn.ensemble import AdaBoostClassifier, RandomForestClassifier,ExtraTreesClassifier\n",
        "ada=AdaBoostClassifier()"
      ]
    },
    {
      "cell_type": "code",
      "execution_count": 188,
      "metadata": {
        "colab": {
          "base_uri": "https://localhost:8080/"
        },
        "id": "vFf2PFIUH9sP",
        "outputId": "01d7beed-074e-4374-974f-5ac830483f07"
      },
      "outputs": [
        {
          "output_type": "stream",
          "name": "stdout",
          "text": [
            "Training 100.0\n",
            "Testing 16.53116531165312\n"
          ]
        },
        {
          "output_type": "stream",
          "name": "stderr",
          "text": [
            "/usr/local/lib/python3.8/dist-packages/sklearn/base.py:443: UserWarning: X has feature names, but AdaBoostClassifier was fitted without feature names\n",
            "  warnings.warn(\n"
          ]
        }
      ],
      "source": [
        "##boosting\n",
        "adb=AdaBoostClassifier(DecisionTreeClassifier(),n_estimators=100,learning_rate=1)\n",
        "adb.fit(train_x1_sc,train_y1)\n",
        "adb.score(train_x1_sc,train_y1)\n",
        "train_pred_adb=adb.predict(train_x1_sc)\n",
        "test_pred_adb=adb.predict(test_x1)\n",
        "print(\"Training\",accuracy_score(train_pred_adb,train_y1)*100)\n",
        "print(\"Testing\",accuracy_score(test_pred_adb,test_y1)*100)\n",
        "\n"
      ]
    },
    {
      "cell_type": "code",
      "execution_count": 189,
      "metadata": {
        "colab": {
          "base_uri": "https://localhost:8080/"
        },
        "id": "22_Rt8Q2HF35",
        "outputId": "0fc3bb60-5b4f-4868-8627-baa29ef0ee19"
      },
      "outputs": [
        {
          "output_type": "stream",
          "name": "stdout",
          "text": [
            "Training 100.0\n",
            "Testing 75.2710027100271\n"
          ]
        },
        {
          "output_type": "stream",
          "name": "stderr",
          "text": [
            "/usr/local/lib/python3.8/dist-packages/sklearn/base.py:443: UserWarning: X has feature names, but ExtraTreesClassifier was fitted without feature names\n",
            "  warnings.warn(\n"
          ]
        }
      ],
      "source": [
        "\n",
        "dtree_bagging_model=BaggingClassifier(base_estimator=dt,n_estimators=50,random_state=12)\n",
        "extra_trees=ExtraTreesClassifier(n_estimators=100,random_state=12)\n",
        "bg=BaggingClassifier(DecisionTreeClassifier(),max_samples=0.5,n_estimators=100,random_state=12)\n",
        "extra_trees.fit(train_x1_sc,train_y1)\n",
        "train_pred_extra_trees=extra_trees.predict(train_x1_sc)\n",
        "test_pred_extra_trees=extra_trees.predict(test_x1)\n",
        "print(\"Training\",accuracy_score(train_pred_extra_trees,train_y1)*100)\n",
        "print(\"Testing\",accuracy_score(test_pred_extra_trees,test_y1)*100)\n",
        "\n"
      ]
    },
    {
      "cell_type": "code",
      "source": [
        "#bagging\n",
        "#each of the bag contains 50% data\n",
        "#no.of decisiontree is 50\n",
        "bg=BaggingClassifier(DecisionTreeClassifier(),max_samples=0.5,n_estimators=100,random_state=12)\n",
        "bg.fit(train_x1_sc,train_y1)\n",
        "train_pred_bg=bg.predict(train_x1_sc)\n",
        "test_pred_bg=bg.predict(test_x1)\n",
        "print(\"Training\",accuracy_score(train_pred_bg,train_y1)*100)\n",
        "print(\"Testing\",accuracy_score(test_pred_bg,test_y1)*100)"
      ],
      "metadata": {
        "colab": {
          "base_uri": "https://localhost:8080/"
        },
        "id": "kLZtUybyvelh",
        "outputId": "71668bce-2afb-477a-a145-8d538041accf"
      },
      "execution_count": 190,
      "outputs": [
        {
          "output_type": "stream",
          "name": "stdout",
          "text": [
            "Training 100.0\n",
            "Testing 27.64227642276423\n"
          ]
        },
        {
          "output_type": "stream",
          "name": "stderr",
          "text": [
            "/usr/local/lib/python3.8/dist-packages/sklearn/base.py:443: UserWarning: X has feature names, but BaggingClassifier was fitted without feature names\n",
            "  warnings.warn(\n"
          ]
        }
      ]
    },
    {
      "cell_type": "code",
      "execution_count": 191,
      "metadata": {
        "colab": {
          "base_uri": "https://localhost:8080/"
        },
        "id": "_PGrrUiNmUtm",
        "outputId": "02d4b058-3cc6-4ae3-c0ca-209e283a6c42"
      },
      "outputs": [
        {
          "output_type": "stream",
          "name": "stderr",
          "text": [
            "/usr/local/lib/python3.8/dist-packages/sklearn/base.py:443: UserWarning: X has feature names, but Perceptron was fitted without feature names\n",
            "  warnings.warn(\n",
            "/usr/local/lib/python3.8/dist-packages/sklearn/base.py:443: UserWarning: X has feature names, but ExtraTreesClassifier was fitted without feature names\n",
            "  warnings.warn(\n",
            "/usr/local/lib/python3.8/dist-packages/sklearn/base.py:443: UserWarning: X has feature names, but RandomForestClassifier was fitted without feature names\n",
            "  warnings.warn(\n",
            "/usr/local/lib/python3.8/dist-packages/sklearn/base.py:443: UserWarning: X has feature names, but DecisionTreeClassifier was fitted without feature names\n",
            "  warnings.warn(\n",
            "/usr/local/lib/python3.8/dist-packages/sklearn/base.py:443: UserWarning: X has feature names, but BaggingClassifier was fitted without feature names\n",
            "  warnings.warn(\n"
          ]
        },
        {
          "output_type": "stream",
          "name": "stdout",
          "text": [
            "Training 100.0\n",
            "Testing 81.77506775067751\n"
          ]
        },
        {
          "output_type": "stream",
          "name": "stderr",
          "text": [
            "/usr/local/lib/python3.8/dist-packages/sklearn/base.py:443: UserWarning: X has feature names, but AdaBoostClassifier was fitted without feature names\n",
            "  warnings.warn(\n"
          ]
        }
      ],
      "source": [
        "#Voting Classifier\n",
        "from sklearn.ensemble import VotingClassifier\n",
        "vc=VotingClassifier(estimators=[('perceptron',p),('ExtraTreesClassifier',extra_trees),('randomforestclassifier',rf),('decisiontreeclassifier',dt),('BaggingClassifier',bg),('AdaBoostClassifier',ada)],voting='hard', weights=[6,5,4,3,2,1])\n",
        "vc.fit(train_x1_sc,train_y1)\n",
        "train_pred_vc=vc.predict(train_x1_sc)\n",
        "test_pred_vc=vc.predict(test_x1)\n",
        "print(\"Training\",accuracy_score(train_pred_vc,train_y1)*100)\n",
        "print(\"Testing\",accuracy_score(test_pred_vc,test_y1)*100)"
      ]
    },
    {
      "cell_type": "code",
      "execution_count": 191,
      "metadata": {
        "id": "_sp_dkNJmUlk"
      },
      "outputs": [],
      "source": []
    },
    {
      "cell_type": "code",
      "execution_count": 191,
      "metadata": {
        "id": "gJez46bImUhd"
      },
      "outputs": [],
      "source": []
    },
    {
      "cell_type": "code",
      "execution_count": 191,
      "metadata": {
        "id": "RfPYGyz0mUc7"
      },
      "outputs": [],
      "source": []
    },
    {
      "cell_type": "code",
      "execution_count": 191,
      "metadata": {
        "id": "KcJ-fRRNmUP8"
      },
      "outputs": [],
      "source": []
    }
  ],
  "metadata": {
    "colab": {
      "provenance": [],
      "include_colab_link": true
    },
    "kernelspec": {
      "display_name": "Python 3",
      "name": "python3"
    },
    "language_info": {
      "name": "python"
    }
  },
  "nbformat": 4,
  "nbformat_minor": 0
}