{
  "cells": [
    {
      "cell_type": "markdown",
      "metadata": {
        "id": "view-in-github",
        "colab_type": "text"
      },
      "source": [
        "<a href=\"https://colab.research.google.com/github/SaiSuchitha/Machine-learning-python/blob/main/disease_project.ipynb\" target=\"_parent\"><img src=\"https://colab.research.google.com/assets/colab-badge.svg\" alt=\"Open In Colab\"/></a>"
      ]
    },
    {
      "cell_type": "code",
      "execution_count": null,
      "metadata": {
        "id": "PjATI-HaWmqE"
      },
      "outputs": [],
      "source": [
        "import pandas as pd\n",
        "import numpy as np\n",
        "import matplotlib as plt \n",
        "import seaborn as sns\n"
      ]
    },
    {
      "cell_type": "code",
      "execution_count": null,
      "metadata": {
        "id": "lsXRv1KXXDnc",
        "colab": {
          "base_uri": "https://localhost:8080/",
          "height": 74
        },
        "outputId": "285a622a-e73a-441f-ba7d-5e1099ad8eb6"
      },
      "outputs": [
        {
          "output_type": "display_data",
          "data": {
            "text/plain": [
              "<IPython.core.display.HTML object>"
            ],
            "text/html": [
              "\n",
              "     <input type=\"file\" id=\"files-267f84d6-b113-4907-bf5e-533acaec9092\" name=\"files[]\" multiple disabled\n",
              "        style=\"border:none\" />\n",
              "     <output id=\"result-267f84d6-b113-4907-bf5e-533acaec9092\">\n",
              "      Upload widget is only available when the cell has been executed in the\n",
              "      current browser session. Please rerun this cell to enable.\n",
              "      </output>\n",
              "      <script>// Copyright 2017 Google LLC\n",
              "//\n",
              "// Licensed under the Apache License, Version 2.0 (the \"License\");\n",
              "// you may not use this file except in compliance with the License.\n",
              "// You may obtain a copy of the License at\n",
              "//\n",
              "//      http://www.apache.org/licenses/LICENSE-2.0\n",
              "//\n",
              "// Unless required by applicable law or agreed to in writing, software\n",
              "// distributed under the License is distributed on an \"AS IS\" BASIS,\n",
              "// WITHOUT WARRANTIES OR CONDITIONS OF ANY KIND, either express or implied.\n",
              "// See the License for the specific language governing permissions and\n",
              "// limitations under the License.\n",
              "\n",
              "/**\n",
              " * @fileoverview Helpers for google.colab Python module.\n",
              " */\n",
              "(function(scope) {\n",
              "function span(text, styleAttributes = {}) {\n",
              "  const element = document.createElement('span');\n",
              "  element.textContent = text;\n",
              "  for (const key of Object.keys(styleAttributes)) {\n",
              "    element.style[key] = styleAttributes[key];\n",
              "  }\n",
              "  return element;\n",
              "}\n",
              "\n",
              "// Max number of bytes which will be uploaded at a time.\n",
              "const MAX_PAYLOAD_SIZE = 100 * 1024;\n",
              "\n",
              "function _uploadFiles(inputId, outputId) {\n",
              "  const steps = uploadFilesStep(inputId, outputId);\n",
              "  const outputElement = document.getElementById(outputId);\n",
              "  // Cache steps on the outputElement to make it available for the next call\n",
              "  // to uploadFilesContinue from Python.\n",
              "  outputElement.steps = steps;\n",
              "\n",
              "  return _uploadFilesContinue(outputId);\n",
              "}\n",
              "\n",
              "// This is roughly an async generator (not supported in the browser yet),\n",
              "// where there are multiple asynchronous steps and the Python side is going\n",
              "// to poll for completion of each step.\n",
              "// This uses a Promise to block the python side on completion of each step,\n",
              "// then passes the result of the previous step as the input to the next step.\n",
              "function _uploadFilesContinue(outputId) {\n",
              "  const outputElement = document.getElementById(outputId);\n",
              "  const steps = outputElement.steps;\n",
              "\n",
              "  const next = steps.next(outputElement.lastPromiseValue);\n",
              "  return Promise.resolve(next.value.promise).then((value) => {\n",
              "    // Cache the last promise value to make it available to the next\n",
              "    // step of the generator.\n",
              "    outputElement.lastPromiseValue = value;\n",
              "    return next.value.response;\n",
              "  });\n",
              "}\n",
              "\n",
              "/**\n",
              " * Generator function which is called between each async step of the upload\n",
              " * process.\n",
              " * @param {string} inputId Element ID of the input file picker element.\n",
              " * @param {string} outputId Element ID of the output display.\n",
              " * @return {!Iterable<!Object>} Iterable of next steps.\n",
              " */\n",
              "function* uploadFilesStep(inputId, outputId) {\n",
              "  const inputElement = document.getElementById(inputId);\n",
              "  inputElement.disabled = false;\n",
              "\n",
              "  const outputElement = document.getElementById(outputId);\n",
              "  outputElement.innerHTML = '';\n",
              "\n",
              "  const pickedPromise = new Promise((resolve) => {\n",
              "    inputElement.addEventListener('change', (e) => {\n",
              "      resolve(e.target.files);\n",
              "    });\n",
              "  });\n",
              "\n",
              "  const cancel = document.createElement('button');\n",
              "  inputElement.parentElement.appendChild(cancel);\n",
              "  cancel.textContent = 'Cancel upload';\n",
              "  const cancelPromise = new Promise((resolve) => {\n",
              "    cancel.onclick = () => {\n",
              "      resolve(null);\n",
              "    };\n",
              "  });\n",
              "\n",
              "  // Wait for the user to pick the files.\n",
              "  const files = yield {\n",
              "    promise: Promise.race([pickedPromise, cancelPromise]),\n",
              "    response: {\n",
              "      action: 'starting',\n",
              "    }\n",
              "  };\n",
              "\n",
              "  cancel.remove();\n",
              "\n",
              "  // Disable the input element since further picks are not allowed.\n",
              "  inputElement.disabled = true;\n",
              "\n",
              "  if (!files) {\n",
              "    return {\n",
              "      response: {\n",
              "        action: 'complete',\n",
              "      }\n",
              "    };\n",
              "  }\n",
              "\n",
              "  for (const file of files) {\n",
              "    const li = document.createElement('li');\n",
              "    li.append(span(file.name, {fontWeight: 'bold'}));\n",
              "    li.append(span(\n",
              "        `(${file.type || 'n/a'}) - ${file.size} bytes, ` +\n",
              "        `last modified: ${\n",
              "            file.lastModifiedDate ? file.lastModifiedDate.toLocaleDateString() :\n",
              "                                    'n/a'} - `));\n",
              "    const percent = span('0% done');\n",
              "    li.appendChild(percent);\n",
              "\n",
              "    outputElement.appendChild(li);\n",
              "\n",
              "    const fileDataPromise = new Promise((resolve) => {\n",
              "      const reader = new FileReader();\n",
              "      reader.onload = (e) => {\n",
              "        resolve(e.target.result);\n",
              "      };\n",
              "      reader.readAsArrayBuffer(file);\n",
              "    });\n",
              "    // Wait for the data to be ready.\n",
              "    let fileData = yield {\n",
              "      promise: fileDataPromise,\n",
              "      response: {\n",
              "        action: 'continue',\n",
              "      }\n",
              "    };\n",
              "\n",
              "    // Use a chunked sending to avoid message size limits. See b/62115660.\n",
              "    let position = 0;\n",
              "    do {\n",
              "      const length = Math.min(fileData.byteLength - position, MAX_PAYLOAD_SIZE);\n",
              "      const chunk = new Uint8Array(fileData, position, length);\n",
              "      position += length;\n",
              "\n",
              "      const base64 = btoa(String.fromCharCode.apply(null, chunk));\n",
              "      yield {\n",
              "        response: {\n",
              "          action: 'append',\n",
              "          file: file.name,\n",
              "          data: base64,\n",
              "        },\n",
              "      };\n",
              "\n",
              "      let percentDone = fileData.byteLength === 0 ?\n",
              "          100 :\n",
              "          Math.round((position / fileData.byteLength) * 100);\n",
              "      percent.textContent = `${percentDone}% done`;\n",
              "\n",
              "    } while (position < fileData.byteLength);\n",
              "  }\n",
              "\n",
              "  // All done.\n",
              "  yield {\n",
              "    response: {\n",
              "      action: 'complete',\n",
              "    }\n",
              "  };\n",
              "}\n",
              "\n",
              "scope.google = scope.google || {};\n",
              "scope.google.colab = scope.google.colab || {};\n",
              "scope.google.colab._files = {\n",
              "  _uploadFiles,\n",
              "  _uploadFilesContinue,\n",
              "};\n",
              "})(self);\n",
              "</script> "
            ]
          },
          "metadata": {}
        },
        {
          "output_type": "stream",
          "name": "stdout",
          "text": [
            "Saving Training.csv to Training (1).csv\n"
          ]
        }
      ],
      "source": [
        "#importing dataset\n",
        "\n",
        "from google.colab import files \n",
        "Training = files.upload()"
      ]
    },
    {
      "cell_type": "code",
      "execution_count": null,
      "metadata": {
        "id": "WKa8xnG9Xhu6"
      },
      "outputs": [],
      "source": [
        "# converting the dataset into tabluar form\n",
        "\n",
        "df = pd.read_csv(\"/content/Training.csv\")"
      ]
    },
    {
      "cell_type": "code",
      "execution_count": null,
      "metadata": {
        "id": "9UuTMtwooViH"
      },
      "outputs": [],
      "source": [
        "x = df.drop(columns = \"prognosis\",axis = 1)\n",
        "y = df[\"prognosis\"]"
      ]
    },
    {
      "cell_type": "code",
      "execution_count": null,
      "metadata": {
        "id": "jJnMzytJpk2e",
        "colab": {
          "base_uri": "https://localhost:8080/"
        },
        "outputId": "ce44a177-83d1-49c5-bafd-28f34a8933ff"
      },
      "outputs": [
        {
          "output_type": "execute_result",
          "data": {
            "text/plain": [
              "(4920, 132)"
            ]
          },
          "metadata": {},
          "execution_count": 92
        }
      ],
      "source": [
        "x.shape"
      ]
    },
    {
      "cell_type": "code",
      "execution_count": null,
      "metadata": {
        "id": "CNcAPN0Apm1e",
        "colab": {
          "base_uri": "https://localhost:8080/"
        },
        "outputId": "6f5e734c-55c9-4ed0-caff-3319a9325d3a"
      },
      "outputs": [
        {
          "output_type": "execute_result",
          "data": {
            "text/plain": [
              "(4920,)"
            ]
          },
          "metadata": {},
          "execution_count": 93
        }
      ],
      "source": [
        "y.shape"
      ]
    },
    {
      "cell_type": "code",
      "execution_count": null,
      "metadata": {
        "id": "hK-awHUzX7-Q",
        "colab": {
          "base_uri": "https://localhost:8080/"
        },
        "outputId": "2d7f299d-aa36-4bc3-e7be-0c1de36a1313"
      },
      "outputs": [
        {
          "output_type": "stream",
          "name": "stdout",
          "text": [
            "      itching  skin_rash  nodal_skin_eruptions  continuous_sneezing  \\\n",
            "0           1          1                     1                    0   \n",
            "1           0          1                     1                    0   \n",
            "2           1          0                     1                    0   \n",
            "3           1          1                     0                    0   \n",
            "4           1          1                     1                    0   \n",
            "...       ...        ...                   ...                  ...   \n",
            "4915        0          0                     0                    0   \n",
            "4916        0          1                     0                    0   \n",
            "4917        0          0                     0                    0   \n",
            "4918        0          1                     0                    0   \n",
            "4919        0          1                     0                    0   \n",
            "\n",
            "      shivering  chills  joint_pain  stomach_pain  acidity  ulcers_on_tongue  \\\n",
            "0             0       0           0             0        0                 0   \n",
            "1             0       0           0             0        0                 0   \n",
            "2             0       0           0             0        0                 0   \n",
            "3             0       0           0             0        0                 0   \n",
            "4             0       0           0             0        0                 0   \n",
            "...         ...     ...         ...           ...      ...               ...   \n",
            "4915          0       0           0             0        0                 0   \n",
            "4916          0       0           0             0        0                 0   \n",
            "4917          0       0           0             0        0                 0   \n",
            "4918          0       0           1             0        0                 0   \n",
            "4919          0       0           0             0        0                 0   \n",
            "\n",
            "      ...  blackheads  scurring  skin_peeling  silver_like_dusting  \\\n",
            "0     ...           0         0             0                    0   \n",
            "1     ...           0         0             0                    0   \n",
            "2     ...           0         0             0                    0   \n",
            "3     ...           0         0             0                    0   \n",
            "4     ...           0         0             0                    0   \n",
            "...   ...         ...       ...           ...                  ...   \n",
            "4915  ...           0         0             0                    0   \n",
            "4916  ...           1         1             0                    0   \n",
            "4917  ...           0         0             0                    0   \n",
            "4918  ...           0         0             1                    1   \n",
            "4919  ...           0         0             0                    0   \n",
            "\n",
            "      small_dents_in_nails  inflammatory_nails  blister  red_sore_around_nose  \\\n",
            "0                        0                   0        0                     0   \n",
            "1                        0                   0        0                     0   \n",
            "2                        0                   0        0                     0   \n",
            "3                        0                   0        0                     0   \n",
            "4                        0                   0        0                     0   \n",
            "...                    ...                 ...      ...                   ...   \n",
            "4915                     0                   0        0                     0   \n",
            "4916                     0                   0        0                     0   \n",
            "4917                     0                   0        0                     0   \n",
            "4918                     1                   1        0                     0   \n",
            "4919                     0                   0        1                     1   \n",
            "\n",
            "      yellow_crust_ooze                                prognosis  \n",
            "0                     0                         Fungal infection  \n",
            "1                     0                         Fungal infection  \n",
            "2                     0                         Fungal infection  \n",
            "3                     0                         Fungal infection  \n",
            "4                     0                         Fungal infection  \n",
            "...                 ...                                      ...  \n",
            "4915                  0  (vertigo) Paroymsal  Positional Vertigo  \n",
            "4916                  0                                     Acne  \n",
            "4917                  0                  Urinary tract infection  \n",
            "4918                  0                                Psoriasis  \n",
            "4919                  1                                 Impetigo  \n",
            "\n",
            "[4920 rows x 133 columns]\n"
          ]
        }
      ],
      "source": [
        "print(df)"
      ]
    },
    {
      "cell_type": "code",
      "execution_count": null,
      "metadata": {
        "id": "lbHPvbe1Yi_Z",
        "colab": {
          "base_uri": "https://localhost:8080/",
          "height": 424
        },
        "outputId": "e2e0d497-82a2-4a35-fb78-b87d8b6199b9"
      },
      "outputs": [
        {
          "output_type": "execute_result",
          "data": {
            "text/plain": [
              "      itching  skin_rash  nodal_skin_eruptions  continuous_sneezing  \\\n",
              "0       False      False                 False                False   \n",
              "1       False      False                 False                False   \n",
              "2       False      False                 False                False   \n",
              "3       False      False                 False                False   \n",
              "4       False      False                 False                False   \n",
              "...       ...        ...                   ...                  ...   \n",
              "4915    False      False                 False                False   \n",
              "4916    False      False                 False                False   \n",
              "4917    False      False                 False                False   \n",
              "4918    False      False                 False                False   \n",
              "4919    False      False                 False                False   \n",
              "\n",
              "      shivering  chills  joint_pain  stomach_pain  acidity  ulcers_on_tongue  \\\n",
              "0         False   False       False         False    False             False   \n",
              "1         False   False       False         False    False             False   \n",
              "2         False   False       False         False    False             False   \n",
              "3         False   False       False         False    False             False   \n",
              "4         False   False       False         False    False             False   \n",
              "...         ...     ...         ...           ...      ...               ...   \n",
              "4915      False   False       False         False    False             False   \n",
              "4916      False   False       False         False    False             False   \n",
              "4917      False   False       False         False    False             False   \n",
              "4918      False   False       False         False    False             False   \n",
              "4919      False   False       False         False    False             False   \n",
              "\n",
              "      ...  blackheads  scurring  skin_peeling  silver_like_dusting  \\\n",
              "0     ...       False     False         False                False   \n",
              "1     ...       False     False         False                False   \n",
              "2     ...       False     False         False                False   \n",
              "3     ...       False     False         False                False   \n",
              "4     ...       False     False         False                False   \n",
              "...   ...         ...       ...           ...                  ...   \n",
              "4915  ...       False     False         False                False   \n",
              "4916  ...       False     False         False                False   \n",
              "4917  ...       False     False         False                False   \n",
              "4918  ...       False     False         False                False   \n",
              "4919  ...       False     False         False                False   \n",
              "\n",
              "      small_dents_in_nails  inflammatory_nails  blister  red_sore_around_nose  \\\n",
              "0                    False               False    False                 False   \n",
              "1                    False               False    False                 False   \n",
              "2                    False               False    False                 False   \n",
              "3                    False               False    False                 False   \n",
              "4                    False               False    False                 False   \n",
              "...                    ...                 ...      ...                   ...   \n",
              "4915                 False               False    False                 False   \n",
              "4916                 False               False    False                 False   \n",
              "4917                 False               False    False                 False   \n",
              "4918                 False               False    False                 False   \n",
              "4919                 False               False    False                 False   \n",
              "\n",
              "      yellow_crust_ooze  prognosis  \n",
              "0                 False      False  \n",
              "1                 False      False  \n",
              "2                 False      False  \n",
              "3                 False      False  \n",
              "4                 False      False  \n",
              "...                 ...        ...  \n",
              "4915              False      False  \n",
              "4916              False      False  \n",
              "4917              False      False  \n",
              "4918              False      False  \n",
              "4919              False      False  \n",
              "\n",
              "[4920 rows x 133 columns]"
            ],
            "text/html": [
              "\n",
              "  <div id=\"df-107e7baf-c26c-45b3-a13f-2f2fb06c27ef\">\n",
              "    <div class=\"colab-df-container\">\n",
              "      <div>\n",
              "<style scoped>\n",
              "    .dataframe tbody tr th:only-of-type {\n",
              "        vertical-align: middle;\n",
              "    }\n",
              "\n",
              "    .dataframe tbody tr th {\n",
              "        vertical-align: top;\n",
              "    }\n",
              "\n",
              "    .dataframe thead th {\n",
              "        text-align: right;\n",
              "    }\n",
              "</style>\n",
              "<table border=\"1\" class=\"dataframe\">\n",
              "  <thead>\n",
              "    <tr style=\"text-align: right;\">\n",
              "      <th></th>\n",
              "      <th>itching</th>\n",
              "      <th>skin_rash</th>\n",
              "      <th>nodal_skin_eruptions</th>\n",
              "      <th>continuous_sneezing</th>\n",
              "      <th>shivering</th>\n",
              "      <th>chills</th>\n",
              "      <th>joint_pain</th>\n",
              "      <th>stomach_pain</th>\n",
              "      <th>acidity</th>\n",
              "      <th>ulcers_on_tongue</th>\n",
              "      <th>...</th>\n",
              "      <th>blackheads</th>\n",
              "      <th>scurring</th>\n",
              "      <th>skin_peeling</th>\n",
              "      <th>silver_like_dusting</th>\n",
              "      <th>small_dents_in_nails</th>\n",
              "      <th>inflammatory_nails</th>\n",
              "      <th>blister</th>\n",
              "      <th>red_sore_around_nose</th>\n",
              "      <th>yellow_crust_ooze</th>\n",
              "      <th>prognosis</th>\n",
              "    </tr>\n",
              "  </thead>\n",
              "  <tbody>\n",
              "    <tr>\n",
              "      <th>0</th>\n",
              "      <td>False</td>\n",
              "      <td>False</td>\n",
              "      <td>False</td>\n",
              "      <td>False</td>\n",
              "      <td>False</td>\n",
              "      <td>False</td>\n",
              "      <td>False</td>\n",
              "      <td>False</td>\n",
              "      <td>False</td>\n",
              "      <td>False</td>\n",
              "      <td>...</td>\n",
              "      <td>False</td>\n",
              "      <td>False</td>\n",
              "      <td>False</td>\n",
              "      <td>False</td>\n",
              "      <td>False</td>\n",
              "      <td>False</td>\n",
              "      <td>False</td>\n",
              "      <td>False</td>\n",
              "      <td>False</td>\n",
              "      <td>False</td>\n",
              "    </tr>\n",
              "    <tr>\n",
              "      <th>1</th>\n",
              "      <td>False</td>\n",
              "      <td>False</td>\n",
              "      <td>False</td>\n",
              "      <td>False</td>\n",
              "      <td>False</td>\n",
              "      <td>False</td>\n",
              "      <td>False</td>\n",
              "      <td>False</td>\n",
              "      <td>False</td>\n",
              "      <td>False</td>\n",
              "      <td>...</td>\n",
              "      <td>False</td>\n",
              "      <td>False</td>\n",
              "      <td>False</td>\n",
              "      <td>False</td>\n",
              "      <td>False</td>\n",
              "      <td>False</td>\n",
              "      <td>False</td>\n",
              "      <td>False</td>\n",
              "      <td>False</td>\n",
              "      <td>False</td>\n",
              "    </tr>\n",
              "    <tr>\n",
              "      <th>2</th>\n",
              "      <td>False</td>\n",
              "      <td>False</td>\n",
              "      <td>False</td>\n",
              "      <td>False</td>\n",
              "      <td>False</td>\n",
              "      <td>False</td>\n",
              "      <td>False</td>\n",
              "      <td>False</td>\n",
              "      <td>False</td>\n",
              "      <td>False</td>\n",
              "      <td>...</td>\n",
              "      <td>False</td>\n",
              "      <td>False</td>\n",
              "      <td>False</td>\n",
              "      <td>False</td>\n",
              "      <td>False</td>\n",
              "      <td>False</td>\n",
              "      <td>False</td>\n",
              "      <td>False</td>\n",
              "      <td>False</td>\n",
              "      <td>False</td>\n",
              "    </tr>\n",
              "    <tr>\n",
              "      <th>3</th>\n",
              "      <td>False</td>\n",
              "      <td>False</td>\n",
              "      <td>False</td>\n",
              "      <td>False</td>\n",
              "      <td>False</td>\n",
              "      <td>False</td>\n",
              "      <td>False</td>\n",
              "      <td>False</td>\n",
              "      <td>False</td>\n",
              "      <td>False</td>\n",
              "      <td>...</td>\n",
              "      <td>False</td>\n",
              "      <td>False</td>\n",
              "      <td>False</td>\n",
              "      <td>False</td>\n",
              "      <td>False</td>\n",
              "      <td>False</td>\n",
              "      <td>False</td>\n",
              "      <td>False</td>\n",
              "      <td>False</td>\n",
              "      <td>False</td>\n",
              "    </tr>\n",
              "    <tr>\n",
              "      <th>4</th>\n",
              "      <td>False</td>\n",
              "      <td>False</td>\n",
              "      <td>False</td>\n",
              "      <td>False</td>\n",
              "      <td>False</td>\n",
              "      <td>False</td>\n",
              "      <td>False</td>\n",
              "      <td>False</td>\n",
              "      <td>False</td>\n",
              "      <td>False</td>\n",
              "      <td>...</td>\n",
              "      <td>False</td>\n",
              "      <td>False</td>\n",
              "      <td>False</td>\n",
              "      <td>False</td>\n",
              "      <td>False</td>\n",
              "      <td>False</td>\n",
              "      <td>False</td>\n",
              "      <td>False</td>\n",
              "      <td>False</td>\n",
              "      <td>False</td>\n",
              "    </tr>\n",
              "    <tr>\n",
              "      <th>...</th>\n",
              "      <td>...</td>\n",
              "      <td>...</td>\n",
              "      <td>...</td>\n",
              "      <td>...</td>\n",
              "      <td>...</td>\n",
              "      <td>...</td>\n",
              "      <td>...</td>\n",
              "      <td>...</td>\n",
              "      <td>...</td>\n",
              "      <td>...</td>\n",
              "      <td>...</td>\n",
              "      <td>...</td>\n",
              "      <td>...</td>\n",
              "      <td>...</td>\n",
              "      <td>...</td>\n",
              "      <td>...</td>\n",
              "      <td>...</td>\n",
              "      <td>...</td>\n",
              "      <td>...</td>\n",
              "      <td>...</td>\n",
              "      <td>...</td>\n",
              "    </tr>\n",
              "    <tr>\n",
              "      <th>4915</th>\n",
              "      <td>False</td>\n",
              "      <td>False</td>\n",
              "      <td>False</td>\n",
              "      <td>False</td>\n",
              "      <td>False</td>\n",
              "      <td>False</td>\n",
              "      <td>False</td>\n",
              "      <td>False</td>\n",
              "      <td>False</td>\n",
              "      <td>False</td>\n",
              "      <td>...</td>\n",
              "      <td>False</td>\n",
              "      <td>False</td>\n",
              "      <td>False</td>\n",
              "      <td>False</td>\n",
              "      <td>False</td>\n",
              "      <td>False</td>\n",
              "      <td>False</td>\n",
              "      <td>False</td>\n",
              "      <td>False</td>\n",
              "      <td>False</td>\n",
              "    </tr>\n",
              "    <tr>\n",
              "      <th>4916</th>\n",
              "      <td>False</td>\n",
              "      <td>False</td>\n",
              "      <td>False</td>\n",
              "      <td>False</td>\n",
              "      <td>False</td>\n",
              "      <td>False</td>\n",
              "      <td>False</td>\n",
              "      <td>False</td>\n",
              "      <td>False</td>\n",
              "      <td>False</td>\n",
              "      <td>...</td>\n",
              "      <td>False</td>\n",
              "      <td>False</td>\n",
              "      <td>False</td>\n",
              "      <td>False</td>\n",
              "      <td>False</td>\n",
              "      <td>False</td>\n",
              "      <td>False</td>\n",
              "      <td>False</td>\n",
              "      <td>False</td>\n",
              "      <td>False</td>\n",
              "    </tr>\n",
              "    <tr>\n",
              "      <th>4917</th>\n",
              "      <td>False</td>\n",
              "      <td>False</td>\n",
              "      <td>False</td>\n",
              "      <td>False</td>\n",
              "      <td>False</td>\n",
              "      <td>False</td>\n",
              "      <td>False</td>\n",
              "      <td>False</td>\n",
              "      <td>False</td>\n",
              "      <td>False</td>\n",
              "      <td>...</td>\n",
              "      <td>False</td>\n",
              "      <td>False</td>\n",
              "      <td>False</td>\n",
              "      <td>False</td>\n",
              "      <td>False</td>\n",
              "      <td>False</td>\n",
              "      <td>False</td>\n",
              "      <td>False</td>\n",
              "      <td>False</td>\n",
              "      <td>False</td>\n",
              "    </tr>\n",
              "    <tr>\n",
              "      <th>4918</th>\n",
              "      <td>False</td>\n",
              "      <td>False</td>\n",
              "      <td>False</td>\n",
              "      <td>False</td>\n",
              "      <td>False</td>\n",
              "      <td>False</td>\n",
              "      <td>False</td>\n",
              "      <td>False</td>\n",
              "      <td>False</td>\n",
              "      <td>False</td>\n",
              "      <td>...</td>\n",
              "      <td>False</td>\n",
              "      <td>False</td>\n",
              "      <td>False</td>\n",
              "      <td>False</td>\n",
              "      <td>False</td>\n",
              "      <td>False</td>\n",
              "      <td>False</td>\n",
              "      <td>False</td>\n",
              "      <td>False</td>\n",
              "      <td>False</td>\n",
              "    </tr>\n",
              "    <tr>\n",
              "      <th>4919</th>\n",
              "      <td>False</td>\n",
              "      <td>False</td>\n",
              "      <td>False</td>\n",
              "      <td>False</td>\n",
              "      <td>False</td>\n",
              "      <td>False</td>\n",
              "      <td>False</td>\n",
              "      <td>False</td>\n",
              "      <td>False</td>\n",
              "      <td>False</td>\n",
              "      <td>...</td>\n",
              "      <td>False</td>\n",
              "      <td>False</td>\n",
              "      <td>False</td>\n",
              "      <td>False</td>\n",
              "      <td>False</td>\n",
              "      <td>False</td>\n",
              "      <td>False</td>\n",
              "      <td>False</td>\n",
              "      <td>False</td>\n",
              "      <td>False</td>\n",
              "    </tr>\n",
              "  </tbody>\n",
              "</table>\n",
              "<p>4920 rows × 133 columns</p>\n",
              "</div>\n",
              "      <button class=\"colab-df-convert\" onclick=\"convertToInteractive('df-107e7baf-c26c-45b3-a13f-2f2fb06c27ef')\"\n",
              "              title=\"Convert this dataframe to an interactive table.\"\n",
              "              style=\"display:none;\">\n",
              "        \n",
              "  <svg xmlns=\"http://www.w3.org/2000/svg\" height=\"24px\"viewBox=\"0 0 24 24\"\n",
              "       width=\"24px\">\n",
              "    <path d=\"M0 0h24v24H0V0z\" fill=\"none\"/>\n",
              "    <path d=\"M18.56 5.44l.94 2.06.94-2.06 2.06-.94-2.06-.94-.94-2.06-.94 2.06-2.06.94zm-11 1L8.5 8.5l.94-2.06 2.06-.94-2.06-.94L8.5 2.5l-.94 2.06-2.06.94zm10 10l.94 2.06.94-2.06 2.06-.94-2.06-.94-.94-2.06-.94 2.06-2.06.94z\"/><path d=\"M17.41 7.96l-1.37-1.37c-.4-.4-.92-.59-1.43-.59-.52 0-1.04.2-1.43.59L10.3 9.45l-7.72 7.72c-.78.78-.78 2.05 0 2.83L4 21.41c.39.39.9.59 1.41.59.51 0 1.02-.2 1.41-.59l7.78-7.78 2.81-2.81c.8-.78.8-2.07 0-2.86zM5.41 20L4 18.59l7.72-7.72 1.47 1.35L5.41 20z\"/>\n",
              "  </svg>\n",
              "      </button>\n",
              "      \n",
              "  <style>\n",
              "    .colab-df-container {\n",
              "      display:flex;\n",
              "      flex-wrap:wrap;\n",
              "      gap: 12px;\n",
              "    }\n",
              "\n",
              "    .colab-df-convert {\n",
              "      background-color: #E8F0FE;\n",
              "      border: none;\n",
              "      border-radius: 50%;\n",
              "      cursor: pointer;\n",
              "      display: none;\n",
              "      fill: #1967D2;\n",
              "      height: 32px;\n",
              "      padding: 0 0 0 0;\n",
              "      width: 32px;\n",
              "    }\n",
              "\n",
              "    .colab-df-convert:hover {\n",
              "      background-color: #E2EBFA;\n",
              "      box-shadow: 0px 1px 2px rgba(60, 64, 67, 0.3), 0px 1px 3px 1px rgba(60, 64, 67, 0.15);\n",
              "      fill: #174EA6;\n",
              "    }\n",
              "\n",
              "    [theme=dark] .colab-df-convert {\n",
              "      background-color: #3B4455;\n",
              "      fill: #D2E3FC;\n",
              "    }\n",
              "\n",
              "    [theme=dark] .colab-df-convert:hover {\n",
              "      background-color: #434B5C;\n",
              "      box-shadow: 0px 1px 3px 1px rgba(0, 0, 0, 0.15);\n",
              "      filter: drop-shadow(0px 1px 2px rgba(0, 0, 0, 0.3));\n",
              "      fill: #FFFFFF;\n",
              "    }\n",
              "  </style>\n",
              "\n",
              "      <script>\n",
              "        const buttonEl =\n",
              "          document.querySelector('#df-107e7baf-c26c-45b3-a13f-2f2fb06c27ef button.colab-df-convert');\n",
              "        buttonEl.style.display =\n",
              "          google.colab.kernel.accessAllowed ? 'block' : 'none';\n",
              "\n",
              "        async function convertToInteractive(key) {\n",
              "          const element = document.querySelector('#df-107e7baf-c26c-45b3-a13f-2f2fb06c27ef');\n",
              "          const dataTable =\n",
              "            await google.colab.kernel.invokeFunction('convertToInteractive',\n",
              "                                                     [key], {});\n",
              "          if (!dataTable) return;\n",
              "\n",
              "          const docLinkHtml = 'Like what you see? Visit the ' +\n",
              "            '<a target=\"_blank\" href=https://colab.research.google.com/notebooks/data_table.ipynb>data table notebook</a>'\n",
              "            + ' to learn more about interactive tables.';\n",
              "          element.innerHTML = '';\n",
              "          dataTable['output_type'] = 'display_data';\n",
              "          await google.colab.output.renderOutput(dataTable, element);\n",
              "          const docLink = document.createElement('div');\n",
              "          docLink.innerHTML = docLinkHtml;\n",
              "          element.appendChild(docLink);\n",
              "        }\n",
              "      </script>\n",
              "    </div>\n",
              "  </div>\n",
              "  "
            ]
          },
          "metadata": {},
          "execution_count": 95
        }
      ],
      "source": [
        "# checking null values \n",
        "df.isnull()"
      ]
    },
    {
      "cell_type": "code",
      "execution_count": null,
      "metadata": {
        "id": "s2GhtKXFZLWR",
        "colab": {
          "base_uri": "https://localhost:8080/"
        },
        "outputId": "d26d91df-0d63-4d0d-bcba-6cb5d06542fd"
      },
      "outputs": [
        {
          "output_type": "execute_result",
          "data": {
            "text/plain": [
              "itching                 0\n",
              "skin_rash               0\n",
              "nodal_skin_eruptions    0\n",
              "continuous_sneezing     0\n",
              "shivering               0\n",
              "                       ..\n",
              "inflammatory_nails      0\n",
              "blister                 0\n",
              "red_sore_around_nose    0\n",
              "yellow_crust_ooze       0\n",
              "prognosis               0\n",
              "Length: 133, dtype: int64"
            ]
          },
          "metadata": {},
          "execution_count": 96
        }
      ],
      "source": [
        "df.isnull().sum()"
      ]
    },
    {
      "cell_type": "code",
      "execution_count": null,
      "metadata": {
        "id": "byNhlgl-pC-z"
      },
      "outputs": [],
      "source": [
        "# converting the target variable into numerical \n",
        "\n",
        "from sklearn import preprocessing\n",
        "\n",
        "labelencoder = preprocessing.LabelEncoder()\n",
        "df[\"prognosis\"] = labelencoder.fit_transform(df[\"prognosis\"])\n",
        "\n"
      ]
    },
    {
      "cell_type": "code",
      "execution_count": null,
      "metadata": {
        "id": "T-5sJO1upDNx",
        "colab": {
          "base_uri": "https://localhost:8080/"
        },
        "outputId": "ef64d20c-acb1-4cda-cb0d-f99c78539599"
      },
      "outputs": [
        {
          "output_type": "execute_result",
          "data": {
            "text/plain": [
              "array([15,  4, 16,  9, 14, 33,  1, 12, 17,  6, 23, 30,  7, 32, 28, 29,  8,\n",
              "       11, 37, 40, 19, 20, 21, 22,  3, 36, 10, 34, 13, 18, 39, 26, 24, 25,\n",
              "       31,  5,  0,  2, 38, 35, 27])"
            ]
          },
          "metadata": {},
          "execution_count": 98
        }
      ],
      "source": [
        "df[\"prognosis\"].unique()"
      ]
    },
    {
      "cell_type": "code",
      "execution_count": null,
      "metadata": {
        "id": "9Nwebd-GbkR-"
      },
      "outputs": [],
      "source": []
    },
    {
      "cell_type": "code",
      "execution_count": null,
      "metadata": {
        "id": "InwLBOP8q0-l",
        "colab": {
          "base_uri": "https://localhost:8080/",
          "height": 236
        },
        "outputId": "0c3f4eeb-b82f-4f45-f1cf-bbc8890e1295"
      },
      "outputs": [
        {
          "output_type": "execute_result",
          "data": {
            "text/plain": [
              "   itching  skin_rash  nodal_skin_eruptions  continuous_sneezing  shivering  \\\n",
              "0        1          1                     1                    0          0   \n",
              "1        0          1                     1                    0          0   \n",
              "2        1          0                     1                    0          0   \n",
              "3        1          1                     0                    0          0   \n",
              "4        1          1                     1                    0          0   \n",
              "\n",
              "   chills  joint_pain  stomach_pain  acidity  ulcers_on_tongue  ...  \\\n",
              "0       0           0             0        0                 0  ...   \n",
              "1       0           0             0        0                 0  ...   \n",
              "2       0           0             0        0                 0  ...   \n",
              "3       0           0             0        0                 0  ...   \n",
              "4       0           0             0        0                 0  ...   \n",
              "\n",
              "   blackheads  scurring  skin_peeling  silver_like_dusting  \\\n",
              "0           0         0             0                    0   \n",
              "1           0         0             0                    0   \n",
              "2           0         0             0                    0   \n",
              "3           0         0             0                    0   \n",
              "4           0         0             0                    0   \n",
              "\n",
              "   small_dents_in_nails  inflammatory_nails  blister  red_sore_around_nose  \\\n",
              "0                     0                   0        0                     0   \n",
              "1                     0                   0        0                     0   \n",
              "2                     0                   0        0                     0   \n",
              "3                     0                   0        0                     0   \n",
              "4                     0                   0        0                     0   \n",
              "\n",
              "   yellow_crust_ooze  prognosis  \n",
              "0                  0         15  \n",
              "1                  0         15  \n",
              "2                  0         15  \n",
              "3                  0         15  \n",
              "4                  0         15  \n",
              "\n",
              "[5 rows x 133 columns]"
            ],
            "text/html": [
              "\n",
              "  <div id=\"df-c02e3b6b-cc6f-41c4-95bd-6460bedebb96\">\n",
              "    <div class=\"colab-df-container\">\n",
              "      <div>\n",
              "<style scoped>\n",
              "    .dataframe tbody tr th:only-of-type {\n",
              "        vertical-align: middle;\n",
              "    }\n",
              "\n",
              "    .dataframe tbody tr th {\n",
              "        vertical-align: top;\n",
              "    }\n",
              "\n",
              "    .dataframe thead th {\n",
              "        text-align: right;\n",
              "    }\n",
              "</style>\n",
              "<table border=\"1\" class=\"dataframe\">\n",
              "  <thead>\n",
              "    <tr style=\"text-align: right;\">\n",
              "      <th></th>\n",
              "      <th>itching</th>\n",
              "      <th>skin_rash</th>\n",
              "      <th>nodal_skin_eruptions</th>\n",
              "      <th>continuous_sneezing</th>\n",
              "      <th>shivering</th>\n",
              "      <th>chills</th>\n",
              "      <th>joint_pain</th>\n",
              "      <th>stomach_pain</th>\n",
              "      <th>acidity</th>\n",
              "      <th>ulcers_on_tongue</th>\n",
              "      <th>...</th>\n",
              "      <th>blackheads</th>\n",
              "      <th>scurring</th>\n",
              "      <th>skin_peeling</th>\n",
              "      <th>silver_like_dusting</th>\n",
              "      <th>small_dents_in_nails</th>\n",
              "      <th>inflammatory_nails</th>\n",
              "      <th>blister</th>\n",
              "      <th>red_sore_around_nose</th>\n",
              "      <th>yellow_crust_ooze</th>\n",
              "      <th>prognosis</th>\n",
              "    </tr>\n",
              "  </thead>\n",
              "  <tbody>\n",
              "    <tr>\n",
              "      <th>0</th>\n",
              "      <td>1</td>\n",
              "      <td>1</td>\n",
              "      <td>1</td>\n",
              "      <td>0</td>\n",
              "      <td>0</td>\n",
              "      <td>0</td>\n",
              "      <td>0</td>\n",
              "      <td>0</td>\n",
              "      <td>0</td>\n",
              "      <td>0</td>\n",
              "      <td>...</td>\n",
              "      <td>0</td>\n",
              "      <td>0</td>\n",
              "      <td>0</td>\n",
              "      <td>0</td>\n",
              "      <td>0</td>\n",
              "      <td>0</td>\n",
              "      <td>0</td>\n",
              "      <td>0</td>\n",
              "      <td>0</td>\n",
              "      <td>15</td>\n",
              "    </tr>\n",
              "    <tr>\n",
              "      <th>1</th>\n",
              "      <td>0</td>\n",
              "      <td>1</td>\n",
              "      <td>1</td>\n",
              "      <td>0</td>\n",
              "      <td>0</td>\n",
              "      <td>0</td>\n",
              "      <td>0</td>\n",
              "      <td>0</td>\n",
              "      <td>0</td>\n",
              "      <td>0</td>\n",
              "      <td>...</td>\n",
              "      <td>0</td>\n",
              "      <td>0</td>\n",
              "      <td>0</td>\n",
              "      <td>0</td>\n",
              "      <td>0</td>\n",
              "      <td>0</td>\n",
              "      <td>0</td>\n",
              "      <td>0</td>\n",
              "      <td>0</td>\n",
              "      <td>15</td>\n",
              "    </tr>\n",
              "    <tr>\n",
              "      <th>2</th>\n",
              "      <td>1</td>\n",
              "      <td>0</td>\n",
              "      <td>1</td>\n",
              "      <td>0</td>\n",
              "      <td>0</td>\n",
              "      <td>0</td>\n",
              "      <td>0</td>\n",
              "      <td>0</td>\n",
              "      <td>0</td>\n",
              "      <td>0</td>\n",
              "      <td>...</td>\n",
              "      <td>0</td>\n",
              "      <td>0</td>\n",
              "      <td>0</td>\n",
              "      <td>0</td>\n",
              "      <td>0</td>\n",
              "      <td>0</td>\n",
              "      <td>0</td>\n",
              "      <td>0</td>\n",
              "      <td>0</td>\n",
              "      <td>15</td>\n",
              "    </tr>\n",
              "    <tr>\n",
              "      <th>3</th>\n",
              "      <td>1</td>\n",
              "      <td>1</td>\n",
              "      <td>0</td>\n",
              "      <td>0</td>\n",
              "      <td>0</td>\n",
              "      <td>0</td>\n",
              "      <td>0</td>\n",
              "      <td>0</td>\n",
              "      <td>0</td>\n",
              "      <td>0</td>\n",
              "      <td>...</td>\n",
              "      <td>0</td>\n",
              "      <td>0</td>\n",
              "      <td>0</td>\n",
              "      <td>0</td>\n",
              "      <td>0</td>\n",
              "      <td>0</td>\n",
              "      <td>0</td>\n",
              "      <td>0</td>\n",
              "      <td>0</td>\n",
              "      <td>15</td>\n",
              "    </tr>\n",
              "    <tr>\n",
              "      <th>4</th>\n",
              "      <td>1</td>\n",
              "      <td>1</td>\n",
              "      <td>1</td>\n",
              "      <td>0</td>\n",
              "      <td>0</td>\n",
              "      <td>0</td>\n",
              "      <td>0</td>\n",
              "      <td>0</td>\n",
              "      <td>0</td>\n",
              "      <td>0</td>\n",
              "      <td>...</td>\n",
              "      <td>0</td>\n",
              "      <td>0</td>\n",
              "      <td>0</td>\n",
              "      <td>0</td>\n",
              "      <td>0</td>\n",
              "      <td>0</td>\n",
              "      <td>0</td>\n",
              "      <td>0</td>\n",
              "      <td>0</td>\n",
              "      <td>15</td>\n",
              "    </tr>\n",
              "  </tbody>\n",
              "</table>\n",
              "<p>5 rows × 133 columns</p>\n",
              "</div>\n",
              "      <button class=\"colab-df-convert\" onclick=\"convertToInteractive('df-c02e3b6b-cc6f-41c4-95bd-6460bedebb96')\"\n",
              "              title=\"Convert this dataframe to an interactive table.\"\n",
              "              style=\"display:none;\">\n",
              "        \n",
              "  <svg xmlns=\"http://www.w3.org/2000/svg\" height=\"24px\"viewBox=\"0 0 24 24\"\n",
              "       width=\"24px\">\n",
              "    <path d=\"M0 0h24v24H0V0z\" fill=\"none\"/>\n",
              "    <path d=\"M18.56 5.44l.94 2.06.94-2.06 2.06-.94-2.06-.94-.94-2.06-.94 2.06-2.06.94zm-11 1L8.5 8.5l.94-2.06 2.06-.94-2.06-.94L8.5 2.5l-.94 2.06-2.06.94zm10 10l.94 2.06.94-2.06 2.06-.94-2.06-.94-.94-2.06-.94 2.06-2.06.94z\"/><path d=\"M17.41 7.96l-1.37-1.37c-.4-.4-.92-.59-1.43-.59-.52 0-1.04.2-1.43.59L10.3 9.45l-7.72 7.72c-.78.78-.78 2.05 0 2.83L4 21.41c.39.39.9.59 1.41.59.51 0 1.02-.2 1.41-.59l7.78-7.78 2.81-2.81c.8-.78.8-2.07 0-2.86zM5.41 20L4 18.59l7.72-7.72 1.47 1.35L5.41 20z\"/>\n",
              "  </svg>\n",
              "      </button>\n",
              "      \n",
              "  <style>\n",
              "    .colab-df-container {\n",
              "      display:flex;\n",
              "      flex-wrap:wrap;\n",
              "      gap: 12px;\n",
              "    }\n",
              "\n",
              "    .colab-df-convert {\n",
              "      background-color: #E8F0FE;\n",
              "      border: none;\n",
              "      border-radius: 50%;\n",
              "      cursor: pointer;\n",
              "      display: none;\n",
              "      fill: #1967D2;\n",
              "      height: 32px;\n",
              "      padding: 0 0 0 0;\n",
              "      width: 32px;\n",
              "    }\n",
              "\n",
              "    .colab-df-convert:hover {\n",
              "      background-color: #E2EBFA;\n",
              "      box-shadow: 0px 1px 2px rgba(60, 64, 67, 0.3), 0px 1px 3px 1px rgba(60, 64, 67, 0.15);\n",
              "      fill: #174EA6;\n",
              "    }\n",
              "\n",
              "    [theme=dark] .colab-df-convert {\n",
              "      background-color: #3B4455;\n",
              "      fill: #D2E3FC;\n",
              "    }\n",
              "\n",
              "    [theme=dark] .colab-df-convert:hover {\n",
              "      background-color: #434B5C;\n",
              "      box-shadow: 0px 1px 3px 1px rgba(0, 0, 0, 0.15);\n",
              "      filter: drop-shadow(0px 1px 2px rgba(0, 0, 0, 0.3));\n",
              "      fill: #FFFFFF;\n",
              "    }\n",
              "  </style>\n",
              "\n",
              "      <script>\n",
              "        const buttonEl =\n",
              "          document.querySelector('#df-c02e3b6b-cc6f-41c4-95bd-6460bedebb96 button.colab-df-convert');\n",
              "        buttonEl.style.display =\n",
              "          google.colab.kernel.accessAllowed ? 'block' : 'none';\n",
              "\n",
              "        async function convertToInteractive(key) {\n",
              "          const element = document.querySelector('#df-c02e3b6b-cc6f-41c4-95bd-6460bedebb96');\n",
              "          const dataTable =\n",
              "            await google.colab.kernel.invokeFunction('convertToInteractive',\n",
              "                                                     [key], {});\n",
              "          if (!dataTable) return;\n",
              "\n",
              "          const docLinkHtml = 'Like what you see? Visit the ' +\n",
              "            '<a target=\"_blank\" href=https://colab.research.google.com/notebooks/data_table.ipynb>data table notebook</a>'\n",
              "            + ' to learn more about interactive tables.';\n",
              "          element.innerHTML = '';\n",
              "          dataTable['output_type'] = 'display_data';\n",
              "          await google.colab.output.renderOutput(dataTable, element);\n",
              "          const docLink = document.createElement('div');\n",
              "          docLink.innerHTML = docLinkHtml;\n",
              "          element.appendChild(docLink);\n",
              "        }\n",
              "      </script>\n",
              "    </div>\n",
              "  </div>\n",
              "  "
            ]
          },
          "metadata": {},
          "execution_count": 99
        }
      ],
      "source": [
        "df.head()"
      ]
    },
    {
      "cell_type": "code",
      "execution_count": null,
      "metadata": {
        "id": "E8W3WPlYZOqQ"
      },
      "outputs": [],
      "source": [
        "#spliting the dataset\n",
        "import sklearn\n",
        "\n",
        "from sklearn. model_selection import train_test_split\n",
        "\n"
      ]
    },
    {
      "cell_type": "code",
      "execution_count": null,
      "metadata": {
        "id": "8CIWfleeaKzt"
      },
      "outputs": [],
      "source": [
        "train_x,test_x,train_y,test_y = train_test_split(x,y,test_size= 0.3)\n"
      ]
    },
    {
      "cell_type": "code",
      "execution_count": null,
      "metadata": {
        "id": "WthQmsAup5Zq",
        "colab": {
          "base_uri": "https://localhost:8080/"
        },
        "outputId": "25f834a1-2ea1-4c80-bb45-34bff0e3e9a7"
      },
      "outputs": [
        {
          "output_type": "execute_result",
          "data": {
            "text/plain": [
              "(3444, 132)"
            ]
          },
          "metadata": {},
          "execution_count": 102
        }
      ],
      "source": [
        "train_x.shape"
      ]
    },
    {
      "cell_type": "code",
      "execution_count": null,
      "metadata": {
        "id": "GVJxuvawuRgj",
        "colab": {
          "base_uri": "https://localhost:8080/"
        },
        "outputId": "7e64f4db-350a-4ba5-b8a0-2ebd2f010aef"
      },
      "outputs": [
        {
          "output_type": "execute_result",
          "data": {
            "text/plain": [
              "(1476, 132)"
            ]
          },
          "metadata": {},
          "execution_count": 103
        }
      ],
      "source": [
        "test_x.shape"
      ]
    },
    {
      "cell_type": "code",
      "execution_count": null,
      "metadata": {
        "id": "C7HaKM7Up5li",
        "colab": {
          "base_uri": "https://localhost:8080/"
        },
        "outputId": "5ccc00d6-5362-4620-9379-cb51526f336d"
      },
      "outputs": [
        {
          "output_type": "execute_result",
          "data": {
            "text/plain": [
              "(3444,)"
            ]
          },
          "metadata": {},
          "execution_count": 104
        }
      ],
      "source": [
        "train_y.shape"
      ]
    },
    {
      "cell_type": "code",
      "execution_count": null,
      "metadata": {
        "id": "AyaL6YZ3rZ-X",
        "colab": {
          "base_uri": "https://localhost:8080/"
        },
        "outputId": "f6ed24a6-c54a-4370-b374-5ecbf6f3cf28"
      },
      "outputs": [
        {
          "output_type": "execute_result",
          "data": {
            "text/plain": [
              "(1476,)"
            ]
          },
          "metadata": {},
          "execution_count": 105
        }
      ],
      "source": [
        "test_y.shape"
      ]
    },
    {
      "cell_type": "code",
      "execution_count": null,
      "metadata": {
        "id": "83L6RhggraZf"
      },
      "outputs": [],
      "source": [
        "# uploading test data set \n"
      ]
    },
    {
      "cell_type": "code",
      "execution_count": null,
      "metadata": {
        "colab": {
          "base_uri": "https://localhost:8080/",
          "height": 74
        },
        "id": "O0yhOW4SdEjc",
        "outputId": "3b0e604c-34ba-4c90-fdd1-74c62581175e"
      },
      "outputs": [
        {
          "output_type": "display_data",
          "data": {
            "text/plain": [
              "<IPython.core.display.HTML object>"
            ],
            "text/html": [
              "\n",
              "     <input type=\"file\" id=\"files-bdc81658-a0f6-477e-8b3c-4b4c3e9b86b1\" name=\"files[]\" multiple disabled\n",
              "        style=\"border:none\" />\n",
              "     <output id=\"result-bdc81658-a0f6-477e-8b3c-4b4c3e9b86b1\">\n",
              "      Upload widget is only available when the cell has been executed in the\n",
              "      current browser session. Please rerun this cell to enable.\n",
              "      </output>\n",
              "      <script>// Copyright 2017 Google LLC\n",
              "//\n",
              "// Licensed under the Apache License, Version 2.0 (the \"License\");\n",
              "// you may not use this file except in compliance with the License.\n",
              "// You may obtain a copy of the License at\n",
              "//\n",
              "//      http://www.apache.org/licenses/LICENSE-2.0\n",
              "//\n",
              "// Unless required by applicable law or agreed to in writing, software\n",
              "// distributed under the License is distributed on an \"AS IS\" BASIS,\n",
              "// WITHOUT WARRANTIES OR CONDITIONS OF ANY KIND, either express or implied.\n",
              "// See the License for the specific language governing permissions and\n",
              "// limitations under the License.\n",
              "\n",
              "/**\n",
              " * @fileoverview Helpers for google.colab Python module.\n",
              " */\n",
              "(function(scope) {\n",
              "function span(text, styleAttributes = {}) {\n",
              "  const element = document.createElement('span');\n",
              "  element.textContent = text;\n",
              "  for (const key of Object.keys(styleAttributes)) {\n",
              "    element.style[key] = styleAttributes[key];\n",
              "  }\n",
              "  return element;\n",
              "}\n",
              "\n",
              "// Max number of bytes which will be uploaded at a time.\n",
              "const MAX_PAYLOAD_SIZE = 100 * 1024;\n",
              "\n",
              "function _uploadFiles(inputId, outputId) {\n",
              "  const steps = uploadFilesStep(inputId, outputId);\n",
              "  const outputElement = document.getElementById(outputId);\n",
              "  // Cache steps on the outputElement to make it available for the next call\n",
              "  // to uploadFilesContinue from Python.\n",
              "  outputElement.steps = steps;\n",
              "\n",
              "  return _uploadFilesContinue(outputId);\n",
              "}\n",
              "\n",
              "// This is roughly an async generator (not supported in the browser yet),\n",
              "// where there are multiple asynchronous steps and the Python side is going\n",
              "// to poll for completion of each step.\n",
              "// This uses a Promise to block the python side on completion of each step,\n",
              "// then passes the result of the previous step as the input to the next step.\n",
              "function _uploadFilesContinue(outputId) {\n",
              "  const outputElement = document.getElementById(outputId);\n",
              "  const steps = outputElement.steps;\n",
              "\n",
              "  const next = steps.next(outputElement.lastPromiseValue);\n",
              "  return Promise.resolve(next.value.promise).then((value) => {\n",
              "    // Cache the last promise value to make it available to the next\n",
              "    // step of the generator.\n",
              "    outputElement.lastPromiseValue = value;\n",
              "    return next.value.response;\n",
              "  });\n",
              "}\n",
              "\n",
              "/**\n",
              " * Generator function which is called between each async step of the upload\n",
              " * process.\n",
              " * @param {string} inputId Element ID of the input file picker element.\n",
              " * @param {string} outputId Element ID of the output display.\n",
              " * @return {!Iterable<!Object>} Iterable of next steps.\n",
              " */\n",
              "function* uploadFilesStep(inputId, outputId) {\n",
              "  const inputElement = document.getElementById(inputId);\n",
              "  inputElement.disabled = false;\n",
              "\n",
              "  const outputElement = document.getElementById(outputId);\n",
              "  outputElement.innerHTML = '';\n",
              "\n",
              "  const pickedPromise = new Promise((resolve) => {\n",
              "    inputElement.addEventListener('change', (e) => {\n",
              "      resolve(e.target.files);\n",
              "    });\n",
              "  });\n",
              "\n",
              "  const cancel = document.createElement('button');\n",
              "  inputElement.parentElement.appendChild(cancel);\n",
              "  cancel.textContent = 'Cancel upload';\n",
              "  const cancelPromise = new Promise((resolve) => {\n",
              "    cancel.onclick = () => {\n",
              "      resolve(null);\n",
              "    };\n",
              "  });\n",
              "\n",
              "  // Wait for the user to pick the files.\n",
              "  const files = yield {\n",
              "    promise: Promise.race([pickedPromise, cancelPromise]),\n",
              "    response: {\n",
              "      action: 'starting',\n",
              "    }\n",
              "  };\n",
              "\n",
              "  cancel.remove();\n",
              "\n",
              "  // Disable the input element since further picks are not allowed.\n",
              "  inputElement.disabled = true;\n",
              "\n",
              "  if (!files) {\n",
              "    return {\n",
              "      response: {\n",
              "        action: 'complete',\n",
              "      }\n",
              "    };\n",
              "  }\n",
              "\n",
              "  for (const file of files) {\n",
              "    const li = document.createElement('li');\n",
              "    li.append(span(file.name, {fontWeight: 'bold'}));\n",
              "    li.append(span(\n",
              "        `(${file.type || 'n/a'}) - ${file.size} bytes, ` +\n",
              "        `last modified: ${\n",
              "            file.lastModifiedDate ? file.lastModifiedDate.toLocaleDateString() :\n",
              "                                    'n/a'} - `));\n",
              "    const percent = span('0% done');\n",
              "    li.appendChild(percent);\n",
              "\n",
              "    outputElement.appendChild(li);\n",
              "\n",
              "    const fileDataPromise = new Promise((resolve) => {\n",
              "      const reader = new FileReader();\n",
              "      reader.onload = (e) => {\n",
              "        resolve(e.target.result);\n",
              "      };\n",
              "      reader.readAsArrayBuffer(file);\n",
              "    });\n",
              "    // Wait for the data to be ready.\n",
              "    let fileData = yield {\n",
              "      promise: fileDataPromise,\n",
              "      response: {\n",
              "        action: 'continue',\n",
              "      }\n",
              "    };\n",
              "\n",
              "    // Use a chunked sending to avoid message size limits. See b/62115660.\n",
              "    let position = 0;\n",
              "    do {\n",
              "      const length = Math.min(fileData.byteLength - position, MAX_PAYLOAD_SIZE);\n",
              "      const chunk = new Uint8Array(fileData, position, length);\n",
              "      position += length;\n",
              "\n",
              "      const base64 = btoa(String.fromCharCode.apply(null, chunk));\n",
              "      yield {\n",
              "        response: {\n",
              "          action: 'append',\n",
              "          file: file.name,\n",
              "          data: base64,\n",
              "        },\n",
              "      };\n",
              "\n",
              "      let percentDone = fileData.byteLength === 0 ?\n",
              "          100 :\n",
              "          Math.round((position / fileData.byteLength) * 100);\n",
              "      percent.textContent = `${percentDone}% done`;\n",
              "\n",
              "    } while (position < fileData.byteLength);\n",
              "  }\n",
              "\n",
              "  // All done.\n",
              "  yield {\n",
              "    response: {\n",
              "      action: 'complete',\n",
              "    }\n",
              "  };\n",
              "}\n",
              "\n",
              "scope.google = scope.google || {};\n",
              "scope.google.colab = scope.google.colab || {};\n",
              "scope.google.colab._files = {\n",
              "  _uploadFiles,\n",
              "  _uploadFilesContinue,\n",
              "};\n",
              "})(self);\n",
              "</script> "
            ]
          },
          "metadata": {}
        },
        {
          "output_type": "stream",
          "name": "stdout",
          "text": [
            "Saving Testing.csv to Testing (1).csv\n"
          ]
        }
      ],
      "source": [
        "#importing dataset TESTING\n",
        "\n",
        "from google.colab import files \n",
        "Testing = files.upload()"
      ]
    },
    {
      "cell_type": "code",
      "execution_count": null,
      "metadata": {
        "colab": {
          "base_uri": "https://localhost:8080/",
          "height": 330
        },
        "id": "AR_Wzrfokuld",
        "outputId": "aea874f9-6d71-4d17-ed5c-020ce994a3d1"
      },
      "outputs": [
        {
          "output_type": "execute_result",
          "data": {
            "text/plain": [
              "                0             1             2             3             4    \\\n",
              "count  3.444000e+03  3.444000e+03  3.444000e+03  3.444000e+03  3.444000e+03   \n",
              "mean   7.943059e-17  3.094698e-18 -4.538891e-17 -1.237879e-17  3.094698e-18   \n",
              "std    1.000145e+00  1.000145e+00  1.000145e+00  1.000145e+00  1.000145e+00   \n",
              "min   -3.965578e-01 -4.316931e-01 -1.502176e-01 -2.133948e-01 -1.532220e-01   \n",
              "25%   -3.965578e-01 -4.316931e-01 -1.502176e-01 -2.133948e-01 -1.532220e-01   \n",
              "50%   -3.965578e-01 -4.316931e-01 -1.502176e-01 -2.133948e-01 -1.532220e-01   \n",
              "75%   -3.965578e-01 -4.316931e-01 -1.502176e-01 -2.133948e-01 -1.532220e-01   \n",
              "max    2.521701e+00  2.316460e+00  6.657011e+00  4.686150e+00  6.526480e+00   \n",
              "\n",
              "                5             6             7             8             9    \\\n",
              "count  3.444000e+03  3.444000e+03  3.444000e+03  3.444000e+03  3.444000e+03   \n",
              "mean  -9.077782e-17  4.538891e-17  5.467300e-17  1.547349e-18 -4.951517e-17   \n",
              "std    1.000145e+00  1.000145e+00  1.000145e+00  1.000145e+00  1.000145e+00   \n",
              "min   -4.383013e-01 -4.019346e-01 -2.214509e-01 -2.185496e-01 -1.542116e-01   \n",
              "25%   -4.383013e-01 -4.019346e-01 -2.214509e-01 -2.185496e-01 -1.542116e-01   \n",
              "50%   -4.383013e-01 -4.019346e-01 -2.214509e-01 -2.185496e-01 -1.542116e-01   \n",
              "75%   -4.383013e-01 -4.019346e-01 -2.214509e-01 -2.185496e-01 -1.542116e-01   \n",
              "max    2.281536e+00  2.487967e+00  4.515673e+00  4.575621e+00  6.484597e+00   \n",
              "\n",
              "       ...           122           123           124           125  \\\n",
              "count  ...  3.444000e+03  3.444000e+03  3.444000e+03  3.444000e+03   \n",
              "mean   ... -4.332578e-17 -5.415722e-17 -1.753662e-17  1.856819e-17   \n",
              "std    ...  1.000145e+00  1.000145e+00  1.000145e+00  1.000145e+00   \n",
              "min    ... -1.502176e-01 -1.542116e-01 -1.522265e-01 -1.492039e-01   \n",
              "25%    ... -1.502176e-01 -1.542116e-01 -1.522265e-01 -1.492039e-01   \n",
              "50%    ... -1.502176e-01 -1.542116e-01 -1.522265e-01 -1.492039e-01   \n",
              "75%    ... -1.502176e-01 -1.542116e-01 -1.522265e-01 -1.492039e-01   \n",
              "max    ...  6.657011e+00  6.484597e+00  6.569159e+00  6.702238e+00   \n",
              "\n",
              "                126           127           128           129           130  \\\n",
              "count  3.444000e+03  3.444000e+03  3.444000e+03  3.444000e+03  3.444000e+03   \n",
              "mean  -5.364144e-17 -6.189397e-18 -5.364144e-17 -4.642047e-17 -1.650506e-17   \n",
              "std    1.000145e+00  1.000145e+00  1.000145e+00  1.000145e+00  1.000145e+00   \n",
              "min   -1.502176e-01 -1.512251e-01 -1.502176e-01 -1.502176e-01 -1.522265e-01   \n",
              "25%   -1.502176e-01 -1.512251e-01 -1.502176e-01 -1.502176e-01 -1.522265e-01   \n",
              "50%   -1.502176e-01 -1.512251e-01 -1.502176e-01 -1.502176e-01 -1.522265e-01   \n",
              "75%   -1.502176e-01 -1.512251e-01 -1.502176e-01 -1.502176e-01 -1.522265e-01   \n",
              "max    6.657011e+00  6.612660e+00  6.657011e+00  6.657011e+00  6.569159e+00   \n",
              "\n",
              "                131  \n",
              "count  3.444000e+03  \n",
              "mean  -1.650506e-17  \n",
              "std    1.000145e+00  \n",
              "min   -1.522265e-01  \n",
              "25%   -1.522265e-01  \n",
              "50%   -1.522265e-01  \n",
              "75%   -1.522265e-01  \n",
              "max    6.569159e+00  \n",
              "\n",
              "[8 rows x 132 columns]"
            ],
            "text/html": [
              "\n",
              "  <div id=\"df-911217f4-40e6-409f-bb28-6f410b407227\">\n",
              "    <div class=\"colab-df-container\">\n",
              "      <div>\n",
              "<style scoped>\n",
              "    .dataframe tbody tr th:only-of-type {\n",
              "        vertical-align: middle;\n",
              "    }\n",
              "\n",
              "    .dataframe tbody tr th {\n",
              "        vertical-align: top;\n",
              "    }\n",
              "\n",
              "    .dataframe thead th {\n",
              "        text-align: right;\n",
              "    }\n",
              "</style>\n",
              "<table border=\"1\" class=\"dataframe\">\n",
              "  <thead>\n",
              "    <tr style=\"text-align: right;\">\n",
              "      <th></th>\n",
              "      <th>0</th>\n",
              "      <th>1</th>\n",
              "      <th>2</th>\n",
              "      <th>3</th>\n",
              "      <th>4</th>\n",
              "      <th>5</th>\n",
              "      <th>6</th>\n",
              "      <th>7</th>\n",
              "      <th>8</th>\n",
              "      <th>9</th>\n",
              "      <th>...</th>\n",
              "      <th>122</th>\n",
              "      <th>123</th>\n",
              "      <th>124</th>\n",
              "      <th>125</th>\n",
              "      <th>126</th>\n",
              "      <th>127</th>\n",
              "      <th>128</th>\n",
              "      <th>129</th>\n",
              "      <th>130</th>\n",
              "      <th>131</th>\n",
              "    </tr>\n",
              "  </thead>\n",
              "  <tbody>\n",
              "    <tr>\n",
              "      <th>count</th>\n",
              "      <td>3.444000e+03</td>\n",
              "      <td>3.444000e+03</td>\n",
              "      <td>3.444000e+03</td>\n",
              "      <td>3.444000e+03</td>\n",
              "      <td>3.444000e+03</td>\n",
              "      <td>3.444000e+03</td>\n",
              "      <td>3.444000e+03</td>\n",
              "      <td>3.444000e+03</td>\n",
              "      <td>3.444000e+03</td>\n",
              "      <td>3.444000e+03</td>\n",
              "      <td>...</td>\n",
              "      <td>3.444000e+03</td>\n",
              "      <td>3.444000e+03</td>\n",
              "      <td>3.444000e+03</td>\n",
              "      <td>3.444000e+03</td>\n",
              "      <td>3.444000e+03</td>\n",
              "      <td>3.444000e+03</td>\n",
              "      <td>3.444000e+03</td>\n",
              "      <td>3.444000e+03</td>\n",
              "      <td>3.444000e+03</td>\n",
              "      <td>3.444000e+03</td>\n",
              "    </tr>\n",
              "    <tr>\n",
              "      <th>mean</th>\n",
              "      <td>7.943059e-17</td>\n",
              "      <td>3.094698e-18</td>\n",
              "      <td>-4.538891e-17</td>\n",
              "      <td>-1.237879e-17</td>\n",
              "      <td>3.094698e-18</td>\n",
              "      <td>-9.077782e-17</td>\n",
              "      <td>4.538891e-17</td>\n",
              "      <td>5.467300e-17</td>\n",
              "      <td>1.547349e-18</td>\n",
              "      <td>-4.951517e-17</td>\n",
              "      <td>...</td>\n",
              "      <td>-4.332578e-17</td>\n",
              "      <td>-5.415722e-17</td>\n",
              "      <td>-1.753662e-17</td>\n",
              "      <td>1.856819e-17</td>\n",
              "      <td>-5.364144e-17</td>\n",
              "      <td>-6.189397e-18</td>\n",
              "      <td>-5.364144e-17</td>\n",
              "      <td>-4.642047e-17</td>\n",
              "      <td>-1.650506e-17</td>\n",
              "      <td>-1.650506e-17</td>\n",
              "    </tr>\n",
              "    <tr>\n",
              "      <th>std</th>\n",
              "      <td>1.000145e+00</td>\n",
              "      <td>1.000145e+00</td>\n",
              "      <td>1.000145e+00</td>\n",
              "      <td>1.000145e+00</td>\n",
              "      <td>1.000145e+00</td>\n",
              "      <td>1.000145e+00</td>\n",
              "      <td>1.000145e+00</td>\n",
              "      <td>1.000145e+00</td>\n",
              "      <td>1.000145e+00</td>\n",
              "      <td>1.000145e+00</td>\n",
              "      <td>...</td>\n",
              "      <td>1.000145e+00</td>\n",
              "      <td>1.000145e+00</td>\n",
              "      <td>1.000145e+00</td>\n",
              "      <td>1.000145e+00</td>\n",
              "      <td>1.000145e+00</td>\n",
              "      <td>1.000145e+00</td>\n",
              "      <td>1.000145e+00</td>\n",
              "      <td>1.000145e+00</td>\n",
              "      <td>1.000145e+00</td>\n",
              "      <td>1.000145e+00</td>\n",
              "    </tr>\n",
              "    <tr>\n",
              "      <th>min</th>\n",
              "      <td>-3.965578e-01</td>\n",
              "      <td>-4.316931e-01</td>\n",
              "      <td>-1.502176e-01</td>\n",
              "      <td>-2.133948e-01</td>\n",
              "      <td>-1.532220e-01</td>\n",
              "      <td>-4.383013e-01</td>\n",
              "      <td>-4.019346e-01</td>\n",
              "      <td>-2.214509e-01</td>\n",
              "      <td>-2.185496e-01</td>\n",
              "      <td>-1.542116e-01</td>\n",
              "      <td>...</td>\n",
              "      <td>-1.502176e-01</td>\n",
              "      <td>-1.542116e-01</td>\n",
              "      <td>-1.522265e-01</td>\n",
              "      <td>-1.492039e-01</td>\n",
              "      <td>-1.502176e-01</td>\n",
              "      <td>-1.512251e-01</td>\n",
              "      <td>-1.502176e-01</td>\n",
              "      <td>-1.502176e-01</td>\n",
              "      <td>-1.522265e-01</td>\n",
              "      <td>-1.522265e-01</td>\n",
              "    </tr>\n",
              "    <tr>\n",
              "      <th>25%</th>\n",
              "      <td>-3.965578e-01</td>\n",
              "      <td>-4.316931e-01</td>\n",
              "      <td>-1.502176e-01</td>\n",
              "      <td>-2.133948e-01</td>\n",
              "      <td>-1.532220e-01</td>\n",
              "      <td>-4.383013e-01</td>\n",
              "      <td>-4.019346e-01</td>\n",
              "      <td>-2.214509e-01</td>\n",
              "      <td>-2.185496e-01</td>\n",
              "      <td>-1.542116e-01</td>\n",
              "      <td>...</td>\n",
              "      <td>-1.502176e-01</td>\n",
              "      <td>-1.542116e-01</td>\n",
              "      <td>-1.522265e-01</td>\n",
              "      <td>-1.492039e-01</td>\n",
              "      <td>-1.502176e-01</td>\n",
              "      <td>-1.512251e-01</td>\n",
              "      <td>-1.502176e-01</td>\n",
              "      <td>-1.502176e-01</td>\n",
              "      <td>-1.522265e-01</td>\n",
              "      <td>-1.522265e-01</td>\n",
              "    </tr>\n",
              "    <tr>\n",
              "      <th>50%</th>\n",
              "      <td>-3.965578e-01</td>\n",
              "      <td>-4.316931e-01</td>\n",
              "      <td>-1.502176e-01</td>\n",
              "      <td>-2.133948e-01</td>\n",
              "      <td>-1.532220e-01</td>\n",
              "      <td>-4.383013e-01</td>\n",
              "      <td>-4.019346e-01</td>\n",
              "      <td>-2.214509e-01</td>\n",
              "      <td>-2.185496e-01</td>\n",
              "      <td>-1.542116e-01</td>\n",
              "      <td>...</td>\n",
              "      <td>-1.502176e-01</td>\n",
              "      <td>-1.542116e-01</td>\n",
              "      <td>-1.522265e-01</td>\n",
              "      <td>-1.492039e-01</td>\n",
              "      <td>-1.502176e-01</td>\n",
              "      <td>-1.512251e-01</td>\n",
              "      <td>-1.502176e-01</td>\n",
              "      <td>-1.502176e-01</td>\n",
              "      <td>-1.522265e-01</td>\n",
              "      <td>-1.522265e-01</td>\n",
              "    </tr>\n",
              "    <tr>\n",
              "      <th>75%</th>\n",
              "      <td>-3.965578e-01</td>\n",
              "      <td>-4.316931e-01</td>\n",
              "      <td>-1.502176e-01</td>\n",
              "      <td>-2.133948e-01</td>\n",
              "      <td>-1.532220e-01</td>\n",
              "      <td>-4.383013e-01</td>\n",
              "      <td>-4.019346e-01</td>\n",
              "      <td>-2.214509e-01</td>\n",
              "      <td>-2.185496e-01</td>\n",
              "      <td>-1.542116e-01</td>\n",
              "      <td>...</td>\n",
              "      <td>-1.502176e-01</td>\n",
              "      <td>-1.542116e-01</td>\n",
              "      <td>-1.522265e-01</td>\n",
              "      <td>-1.492039e-01</td>\n",
              "      <td>-1.502176e-01</td>\n",
              "      <td>-1.512251e-01</td>\n",
              "      <td>-1.502176e-01</td>\n",
              "      <td>-1.502176e-01</td>\n",
              "      <td>-1.522265e-01</td>\n",
              "      <td>-1.522265e-01</td>\n",
              "    </tr>\n",
              "    <tr>\n",
              "      <th>max</th>\n",
              "      <td>2.521701e+00</td>\n",
              "      <td>2.316460e+00</td>\n",
              "      <td>6.657011e+00</td>\n",
              "      <td>4.686150e+00</td>\n",
              "      <td>6.526480e+00</td>\n",
              "      <td>2.281536e+00</td>\n",
              "      <td>2.487967e+00</td>\n",
              "      <td>4.515673e+00</td>\n",
              "      <td>4.575621e+00</td>\n",
              "      <td>6.484597e+00</td>\n",
              "      <td>...</td>\n",
              "      <td>6.657011e+00</td>\n",
              "      <td>6.484597e+00</td>\n",
              "      <td>6.569159e+00</td>\n",
              "      <td>6.702238e+00</td>\n",
              "      <td>6.657011e+00</td>\n",
              "      <td>6.612660e+00</td>\n",
              "      <td>6.657011e+00</td>\n",
              "      <td>6.657011e+00</td>\n",
              "      <td>6.569159e+00</td>\n",
              "      <td>6.569159e+00</td>\n",
              "    </tr>\n",
              "  </tbody>\n",
              "</table>\n",
              "<p>8 rows × 132 columns</p>\n",
              "</div>\n",
              "      <button class=\"colab-df-convert\" onclick=\"convertToInteractive('df-911217f4-40e6-409f-bb28-6f410b407227')\"\n",
              "              title=\"Convert this dataframe to an interactive table.\"\n",
              "              style=\"display:none;\">\n",
              "        \n",
              "  <svg xmlns=\"http://www.w3.org/2000/svg\" height=\"24px\"viewBox=\"0 0 24 24\"\n",
              "       width=\"24px\">\n",
              "    <path d=\"M0 0h24v24H0V0z\" fill=\"none\"/>\n",
              "    <path d=\"M18.56 5.44l.94 2.06.94-2.06 2.06-.94-2.06-.94-.94-2.06-.94 2.06-2.06.94zm-11 1L8.5 8.5l.94-2.06 2.06-.94-2.06-.94L8.5 2.5l-.94 2.06-2.06.94zm10 10l.94 2.06.94-2.06 2.06-.94-2.06-.94-.94-2.06-.94 2.06-2.06.94z\"/><path d=\"M17.41 7.96l-1.37-1.37c-.4-.4-.92-.59-1.43-.59-.52 0-1.04.2-1.43.59L10.3 9.45l-7.72 7.72c-.78.78-.78 2.05 0 2.83L4 21.41c.39.39.9.59 1.41.59.51 0 1.02-.2 1.41-.59l7.78-7.78 2.81-2.81c.8-.78.8-2.07 0-2.86zM5.41 20L4 18.59l7.72-7.72 1.47 1.35L5.41 20z\"/>\n",
              "  </svg>\n",
              "      </button>\n",
              "      \n",
              "  <style>\n",
              "    .colab-df-container {\n",
              "      display:flex;\n",
              "      flex-wrap:wrap;\n",
              "      gap: 12px;\n",
              "    }\n",
              "\n",
              "    .colab-df-convert {\n",
              "      background-color: #E8F0FE;\n",
              "      border: none;\n",
              "      border-radius: 50%;\n",
              "      cursor: pointer;\n",
              "      display: none;\n",
              "      fill: #1967D2;\n",
              "      height: 32px;\n",
              "      padding: 0 0 0 0;\n",
              "      width: 32px;\n",
              "    }\n",
              "\n",
              "    .colab-df-convert:hover {\n",
              "      background-color: #E2EBFA;\n",
              "      box-shadow: 0px 1px 2px rgba(60, 64, 67, 0.3), 0px 1px 3px 1px rgba(60, 64, 67, 0.15);\n",
              "      fill: #174EA6;\n",
              "    }\n",
              "\n",
              "    [theme=dark] .colab-df-convert {\n",
              "      background-color: #3B4455;\n",
              "      fill: #D2E3FC;\n",
              "    }\n",
              "\n",
              "    [theme=dark] .colab-df-convert:hover {\n",
              "      background-color: #434B5C;\n",
              "      box-shadow: 0px 1px 3px 1px rgba(0, 0, 0, 0.15);\n",
              "      filter: drop-shadow(0px 1px 2px rgba(0, 0, 0, 0.3));\n",
              "      fill: #FFFFFF;\n",
              "    }\n",
              "  </style>\n",
              "\n",
              "      <script>\n",
              "        const buttonEl =\n",
              "          document.querySelector('#df-911217f4-40e6-409f-bb28-6f410b407227 button.colab-df-convert');\n",
              "        buttonEl.style.display =\n",
              "          google.colab.kernel.accessAllowed ? 'block' : 'none';\n",
              "\n",
              "        async function convertToInteractive(key) {\n",
              "          const element = document.querySelector('#df-911217f4-40e6-409f-bb28-6f410b407227');\n",
              "          const dataTable =\n",
              "            await google.colab.kernel.invokeFunction('convertToInteractive',\n",
              "                                                     [key], {});\n",
              "          if (!dataTable) return;\n",
              "\n",
              "          const docLinkHtml = 'Like what you see? Visit the ' +\n",
              "            '<a target=\"_blank\" href=https://colab.research.google.com/notebooks/data_table.ipynb>data table notebook</a>'\n",
              "            + ' to learn more about interactive tables.';\n",
              "          element.innerHTML = '';\n",
              "          dataTable['output_type'] = 'display_data';\n",
              "          await google.colab.output.renderOutput(dataTable, element);\n",
              "          const docLink = document.createElement('div');\n",
              "          docLink.innerHTML = docLinkHtml;\n",
              "          element.appendChild(docLink);\n",
              "        }\n",
              "      </script>\n",
              "    </div>\n",
              "  </div>\n",
              "  "
            ]
          },
          "metadata": {},
          "execution_count": 108
        }
      ],
      "source": [
        "from sklearn.preprocessing import StandardScaler\n",
        "sc=StandardScaler()\n",
        "train_x_sc=sc.fit_transform(train_x)\n",
        "pd.DataFrame(train_x_sc).describe()"
      ]
    },
    {
      "cell_type": "code",
      "execution_count": null,
      "metadata": {
        "id": "O7IWXDcvdNyY"
      },
      "outputs": [],
      "source": [
        "df1 = pd.read_csv(\"/content/Testing.csv\")"
      ]
    },
    {
      "cell_type": "code",
      "execution_count": null,
      "metadata": {
        "id": "in79-PdrdOdd"
      },
      "outputs": [],
      "source": [
        "\n",
        "x1 = df.drop(columns = \"prognosis\",axis = 1)\n",
        "y1 = df[\"prognosis\"]\n"
      ]
    },
    {
      "cell_type": "code",
      "execution_count": null,
      "metadata": {
        "colab": {
          "base_uri": "https://localhost:8080/"
        },
        "id": "E8GjSIUkdk6o",
        "outputId": "07a2849e-0f8d-4b15-db9f-8070620b2c4d"
      },
      "outputs": [
        {
          "output_type": "execute_result",
          "data": {
            "text/plain": [
              "(4920, 132)"
            ]
          },
          "metadata": {},
          "execution_count": 111
        }
      ],
      "source": [
        "x1.shape"
      ]
    },
    {
      "cell_type": "code",
      "execution_count": null,
      "metadata": {
        "colab": {
          "base_uri": "https://localhost:8080/"
        },
        "id": "vpDNFc1KdnOc",
        "outputId": "d9116dc0-e12f-4ded-e2de-85686dad43c2"
      },
      "outputs": [
        {
          "output_type": "execute_result",
          "data": {
            "text/plain": [
              "(4920,)"
            ]
          },
          "metadata": {},
          "execution_count": 112
        }
      ],
      "source": [
        "y1.shape"
      ]
    },
    {
      "cell_type": "code",
      "execution_count": null,
      "metadata": {
        "id": "a-9zINDqdpfd"
      },
      "outputs": [],
      "source": [
        "#spliting th test data set \n",
        "import sklearn\n",
        "\n",
        "from sklearn. model_selection import train_test_split\n"
      ]
    },
    {
      "cell_type": "code",
      "execution_count": null,
      "metadata": {
        "id": "OqqDzCYwd84q"
      },
      "outputs": [],
      "source": [
        "train_x1,test_x1,train_y1,test_y1 = train_test_split(x1,y1,test_size= 0.3)"
      ]
    },
    {
      "cell_type": "code",
      "execution_count": null,
      "metadata": {
        "colab": {
          "base_uri": "https://localhost:8080/"
        },
        "id": "xLPxnm4sd88J",
        "outputId": "83dfb16a-f3bd-461e-ca92-1cd638784501"
      },
      "outputs": [
        {
          "output_type": "execute_result",
          "data": {
            "text/plain": [
              "(3444, 132)"
            ]
          },
          "metadata": {},
          "execution_count": 115
        }
      ],
      "source": [
        "train_x1.shape"
      ]
    },
    {
      "cell_type": "code",
      "execution_count": null,
      "metadata": {
        "colab": {
          "base_uri": "https://localhost:8080/"
        },
        "id": "kzL-laR4d9AM",
        "outputId": "91aa318d-9559-478a-8889-f5895e897d2c"
      },
      "outputs": [
        {
          "output_type": "execute_result",
          "data": {
            "text/plain": [
              "(1476, 132)"
            ]
          },
          "metadata": {},
          "execution_count": 116
        }
      ],
      "source": [
        "test_x1.shape"
      ]
    },
    {
      "cell_type": "code",
      "execution_count": null,
      "metadata": {
        "colab": {
          "base_uri": "https://localhost:8080/"
        },
        "id": "mjSxsPexd9D2",
        "outputId": "246e7fed-7afd-4cfc-a312-0032e2843130"
      },
      "outputs": [
        {
          "output_type": "execute_result",
          "data": {
            "text/plain": [
              "(3444,)"
            ]
          },
          "metadata": {},
          "execution_count": 117
        }
      ],
      "source": [
        "train_y1.shape"
      ]
    },
    {
      "cell_type": "code",
      "execution_count": null,
      "metadata": {
        "colab": {
          "base_uri": "https://localhost:8080/"
        },
        "id": "4f4mtvB7d9IL",
        "outputId": "5326da10-0110-4dd3-d468-0b4eae948793"
      },
      "outputs": [
        {
          "output_type": "execute_result",
          "data": {
            "text/plain": [
              "(1476,)"
            ]
          },
          "metadata": {},
          "execution_count": 118
        }
      ],
      "source": [
        "test_y1.shape"
      ]
    },
    {
      "cell_type": "code",
      "execution_count": null,
      "metadata": {
        "colab": {
          "base_uri": "https://localhost:8080/",
          "height": 330
        },
        "id": "6cMIEPDId9Lj",
        "outputId": "adfa1590-f693-4f8e-e891-d17768c59a2b"
      },
      "outputs": [
        {
          "output_type": "execute_result",
          "data": {
            "text/plain": [
              "                0             1             2             3             4    \\\n",
              "count  3.444000e+03  3.444000e+03  3.444000e+03  3.444000e+03  3.444000e+03   \n",
              "mean   3.301012e-17  2.269445e-17  4.023108e-17 -6.859915e-17 -1.237879e-17   \n",
              "std    1.000145e+00  1.000145e+00  1.000145e+00  1.000145e+00  1.000145e+00   \n",
              "min   -4.033954e-01 -4.406526e-01 -1.481839e-01 -2.192778e-01 -1.440378e-01   \n",
              "25%   -4.033954e-01 -4.406526e-01 -1.481839e-01 -2.192778e-01 -1.440378e-01   \n",
              "50%   -4.033954e-01 -4.406526e-01 -1.481839e-01 -2.192778e-01 -1.440378e-01   \n",
              "75%   -4.033954e-01 -4.406526e-01 -1.481839e-01 -2.192778e-01 -1.440378e-01   \n",
              "max    2.478957e+00  2.269361e+00  6.748373e+00  4.560424e+00  6.942622e+00   \n",
              "\n",
              "                5             6             7             8             9    \\\n",
              "count  3.444000e+03  3.444000e+03  3.444000e+03  3.444000e+03  3.444000e+03   \n",
              "mean  -8.252529e-18  4.925728e-17 -9.799878e-18  4.126264e-17 -1.753662e-17   \n",
              "std    1.000145e+00  1.000145e+00  1.000145e+00  1.000145e+00  1.000145e+00   \n",
              "min   -4.495489e-01 -4.077641e-01 -2.170870e-01 -2.066119e-01 -1.440378e-01   \n",
              "25%   -4.495489e-01 -4.077641e-01 -2.170870e-01 -2.066119e-01 -1.440378e-01   \n",
              "50%   -4.495489e-01 -4.077641e-01 -2.170870e-01 -2.066119e-01 -1.440378e-01   \n",
              "75%   -4.495489e-01 -4.077641e-01 -2.170870e-01 -2.066119e-01 -1.440378e-01   \n",
              "max    2.224452e+00  2.452398e+00  4.606447e+00  4.839993e+00  6.942622e+00   \n",
              "\n",
              "       ...           122           123           124           125  \\\n",
              "count  ...  3.444000e+03  3.444000e+03  3.444000e+03  3.444000e+03   \n",
              "mean   ... -4.951517e-17 -2.682072e-17 -1.444193e-17  1.031566e-18   \n",
              "std    ...  1.000145e+00  1.000145e+00  1.000145e+00  1.000145e+00   \n",
              "min    ... -1.542116e-01 -1.522265e-01 -1.512251e-01 -1.609845e-01   \n",
              "25%    ... -1.542116e-01 -1.522265e-01 -1.512251e-01 -1.609845e-01   \n",
              "50%    ... -1.542116e-01 -1.522265e-01 -1.512251e-01 -1.609845e-01   \n",
              "75%    ... -1.542116e-01 -1.522265e-01 -1.512251e-01 -1.609845e-01   \n",
              "max    ...  6.484597e+00  6.569159e+00  6.612660e+00  6.211780e+00   \n",
              "\n",
              "                126           127           128           129           130  \\\n",
              "count  3.444000e+03  3.444000e+03  3.444000e+03  3.444000e+03  3.444000e+03   \n",
              "mean   5.570457e-17  5.157831e-17  6.189397e-18 -1.444193e-17 -5.157831e-18   \n",
              "std    1.000145e+00  1.000145e+00  1.000145e+00  1.000145e+00  1.000145e+00   \n",
              "min   -1.619311e-01 -1.619311e-01 -1.600328e-01 -1.522265e-01 -1.512251e-01   \n",
              "25%   -1.619311e-01 -1.619311e-01 -1.600328e-01 -1.522265e-01 -1.512251e-01   \n",
              "50%   -1.619311e-01 -1.619311e-01 -1.600328e-01 -1.522265e-01 -1.512251e-01   \n",
              "75%   -1.619311e-01 -1.619311e-01 -1.600328e-01 -1.522265e-01 -1.512251e-01   \n",
              "max    6.175465e+00  6.175465e+00  6.248721e+00  6.569159e+00  6.612660e+00   \n",
              "\n",
              "                131  \n",
              "count  3.444000e+03  \n",
              "mean  -5.879927e-17  \n",
              "std    1.000145e+00  \n",
              "min   -1.542116e-01  \n",
              "25%   -1.542116e-01  \n",
              "50%   -1.542116e-01  \n",
              "75%   -1.542116e-01  \n",
              "max    6.484597e+00  \n",
              "\n",
              "[8 rows x 132 columns]"
            ],
            "text/html": [
              "\n",
              "  <div id=\"df-464c8ecb-9a5b-4f7d-92bb-4259b4804a10\">\n",
              "    <div class=\"colab-df-container\">\n",
              "      <div>\n",
              "<style scoped>\n",
              "    .dataframe tbody tr th:only-of-type {\n",
              "        vertical-align: middle;\n",
              "    }\n",
              "\n",
              "    .dataframe tbody tr th {\n",
              "        vertical-align: top;\n",
              "    }\n",
              "\n",
              "    .dataframe thead th {\n",
              "        text-align: right;\n",
              "    }\n",
              "</style>\n",
              "<table border=\"1\" class=\"dataframe\">\n",
              "  <thead>\n",
              "    <tr style=\"text-align: right;\">\n",
              "      <th></th>\n",
              "      <th>0</th>\n",
              "      <th>1</th>\n",
              "      <th>2</th>\n",
              "      <th>3</th>\n",
              "      <th>4</th>\n",
              "      <th>5</th>\n",
              "      <th>6</th>\n",
              "      <th>7</th>\n",
              "      <th>8</th>\n",
              "      <th>9</th>\n",
              "      <th>...</th>\n",
              "      <th>122</th>\n",
              "      <th>123</th>\n",
              "      <th>124</th>\n",
              "      <th>125</th>\n",
              "      <th>126</th>\n",
              "      <th>127</th>\n",
              "      <th>128</th>\n",
              "      <th>129</th>\n",
              "      <th>130</th>\n",
              "      <th>131</th>\n",
              "    </tr>\n",
              "  </thead>\n",
              "  <tbody>\n",
              "    <tr>\n",
              "      <th>count</th>\n",
              "      <td>3.444000e+03</td>\n",
              "      <td>3.444000e+03</td>\n",
              "      <td>3.444000e+03</td>\n",
              "      <td>3.444000e+03</td>\n",
              "      <td>3.444000e+03</td>\n",
              "      <td>3.444000e+03</td>\n",
              "      <td>3.444000e+03</td>\n",
              "      <td>3.444000e+03</td>\n",
              "      <td>3.444000e+03</td>\n",
              "      <td>3.444000e+03</td>\n",
              "      <td>...</td>\n",
              "      <td>3.444000e+03</td>\n",
              "      <td>3.444000e+03</td>\n",
              "      <td>3.444000e+03</td>\n",
              "      <td>3.444000e+03</td>\n",
              "      <td>3.444000e+03</td>\n",
              "      <td>3.444000e+03</td>\n",
              "      <td>3.444000e+03</td>\n",
              "      <td>3.444000e+03</td>\n",
              "      <td>3.444000e+03</td>\n",
              "      <td>3.444000e+03</td>\n",
              "    </tr>\n",
              "    <tr>\n",
              "      <th>mean</th>\n",
              "      <td>3.301012e-17</td>\n",
              "      <td>2.269445e-17</td>\n",
              "      <td>4.023108e-17</td>\n",
              "      <td>-6.859915e-17</td>\n",
              "      <td>-1.237879e-17</td>\n",
              "      <td>-8.252529e-18</td>\n",
              "      <td>4.925728e-17</td>\n",
              "      <td>-9.799878e-18</td>\n",
              "      <td>4.126264e-17</td>\n",
              "      <td>-1.753662e-17</td>\n",
              "      <td>...</td>\n",
              "      <td>-4.951517e-17</td>\n",
              "      <td>-2.682072e-17</td>\n",
              "      <td>-1.444193e-17</td>\n",
              "      <td>1.031566e-18</td>\n",
              "      <td>5.570457e-17</td>\n",
              "      <td>5.157831e-17</td>\n",
              "      <td>6.189397e-18</td>\n",
              "      <td>-1.444193e-17</td>\n",
              "      <td>-5.157831e-18</td>\n",
              "      <td>-5.879927e-17</td>\n",
              "    </tr>\n",
              "    <tr>\n",
              "      <th>std</th>\n",
              "      <td>1.000145e+00</td>\n",
              "      <td>1.000145e+00</td>\n",
              "      <td>1.000145e+00</td>\n",
              "      <td>1.000145e+00</td>\n",
              "      <td>1.000145e+00</td>\n",
              "      <td>1.000145e+00</td>\n",
              "      <td>1.000145e+00</td>\n",
              "      <td>1.000145e+00</td>\n",
              "      <td>1.000145e+00</td>\n",
              "      <td>1.000145e+00</td>\n",
              "      <td>...</td>\n",
              "      <td>1.000145e+00</td>\n",
              "      <td>1.000145e+00</td>\n",
              "      <td>1.000145e+00</td>\n",
              "      <td>1.000145e+00</td>\n",
              "      <td>1.000145e+00</td>\n",
              "      <td>1.000145e+00</td>\n",
              "      <td>1.000145e+00</td>\n",
              "      <td>1.000145e+00</td>\n",
              "      <td>1.000145e+00</td>\n",
              "      <td>1.000145e+00</td>\n",
              "    </tr>\n",
              "    <tr>\n",
              "      <th>min</th>\n",
              "      <td>-4.033954e-01</td>\n",
              "      <td>-4.406526e-01</td>\n",
              "      <td>-1.481839e-01</td>\n",
              "      <td>-2.192778e-01</td>\n",
              "      <td>-1.440378e-01</td>\n",
              "      <td>-4.495489e-01</td>\n",
              "      <td>-4.077641e-01</td>\n",
              "      <td>-2.170870e-01</td>\n",
              "      <td>-2.066119e-01</td>\n",
              "      <td>-1.440378e-01</td>\n",
              "      <td>...</td>\n",
              "      <td>-1.542116e-01</td>\n",
              "      <td>-1.522265e-01</td>\n",
              "      <td>-1.512251e-01</td>\n",
              "      <td>-1.609845e-01</td>\n",
              "      <td>-1.619311e-01</td>\n",
              "      <td>-1.619311e-01</td>\n",
              "      <td>-1.600328e-01</td>\n",
              "      <td>-1.522265e-01</td>\n",
              "      <td>-1.512251e-01</td>\n",
              "      <td>-1.542116e-01</td>\n",
              "    </tr>\n",
              "    <tr>\n",
              "      <th>25%</th>\n",
              "      <td>-4.033954e-01</td>\n",
              "      <td>-4.406526e-01</td>\n",
              "      <td>-1.481839e-01</td>\n",
              "      <td>-2.192778e-01</td>\n",
              "      <td>-1.440378e-01</td>\n",
              "      <td>-4.495489e-01</td>\n",
              "      <td>-4.077641e-01</td>\n",
              "      <td>-2.170870e-01</td>\n",
              "      <td>-2.066119e-01</td>\n",
              "      <td>-1.440378e-01</td>\n",
              "      <td>...</td>\n",
              "      <td>-1.542116e-01</td>\n",
              "      <td>-1.522265e-01</td>\n",
              "      <td>-1.512251e-01</td>\n",
              "      <td>-1.609845e-01</td>\n",
              "      <td>-1.619311e-01</td>\n",
              "      <td>-1.619311e-01</td>\n",
              "      <td>-1.600328e-01</td>\n",
              "      <td>-1.522265e-01</td>\n",
              "      <td>-1.512251e-01</td>\n",
              "      <td>-1.542116e-01</td>\n",
              "    </tr>\n",
              "    <tr>\n",
              "      <th>50%</th>\n",
              "      <td>-4.033954e-01</td>\n",
              "      <td>-4.406526e-01</td>\n",
              "      <td>-1.481839e-01</td>\n",
              "      <td>-2.192778e-01</td>\n",
              "      <td>-1.440378e-01</td>\n",
              "      <td>-4.495489e-01</td>\n",
              "      <td>-4.077641e-01</td>\n",
              "      <td>-2.170870e-01</td>\n",
              "      <td>-2.066119e-01</td>\n",
              "      <td>-1.440378e-01</td>\n",
              "      <td>...</td>\n",
              "      <td>-1.542116e-01</td>\n",
              "      <td>-1.522265e-01</td>\n",
              "      <td>-1.512251e-01</td>\n",
              "      <td>-1.609845e-01</td>\n",
              "      <td>-1.619311e-01</td>\n",
              "      <td>-1.619311e-01</td>\n",
              "      <td>-1.600328e-01</td>\n",
              "      <td>-1.522265e-01</td>\n",
              "      <td>-1.512251e-01</td>\n",
              "      <td>-1.542116e-01</td>\n",
              "    </tr>\n",
              "    <tr>\n",
              "      <th>75%</th>\n",
              "      <td>-4.033954e-01</td>\n",
              "      <td>-4.406526e-01</td>\n",
              "      <td>-1.481839e-01</td>\n",
              "      <td>-2.192778e-01</td>\n",
              "      <td>-1.440378e-01</td>\n",
              "      <td>-4.495489e-01</td>\n",
              "      <td>-4.077641e-01</td>\n",
              "      <td>-2.170870e-01</td>\n",
              "      <td>-2.066119e-01</td>\n",
              "      <td>-1.440378e-01</td>\n",
              "      <td>...</td>\n",
              "      <td>-1.542116e-01</td>\n",
              "      <td>-1.522265e-01</td>\n",
              "      <td>-1.512251e-01</td>\n",
              "      <td>-1.609845e-01</td>\n",
              "      <td>-1.619311e-01</td>\n",
              "      <td>-1.619311e-01</td>\n",
              "      <td>-1.600328e-01</td>\n",
              "      <td>-1.522265e-01</td>\n",
              "      <td>-1.512251e-01</td>\n",
              "      <td>-1.542116e-01</td>\n",
              "    </tr>\n",
              "    <tr>\n",
              "      <th>max</th>\n",
              "      <td>2.478957e+00</td>\n",
              "      <td>2.269361e+00</td>\n",
              "      <td>6.748373e+00</td>\n",
              "      <td>4.560424e+00</td>\n",
              "      <td>6.942622e+00</td>\n",
              "      <td>2.224452e+00</td>\n",
              "      <td>2.452398e+00</td>\n",
              "      <td>4.606447e+00</td>\n",
              "      <td>4.839993e+00</td>\n",
              "      <td>6.942622e+00</td>\n",
              "      <td>...</td>\n",
              "      <td>6.484597e+00</td>\n",
              "      <td>6.569159e+00</td>\n",
              "      <td>6.612660e+00</td>\n",
              "      <td>6.211780e+00</td>\n",
              "      <td>6.175465e+00</td>\n",
              "      <td>6.175465e+00</td>\n",
              "      <td>6.248721e+00</td>\n",
              "      <td>6.569159e+00</td>\n",
              "      <td>6.612660e+00</td>\n",
              "      <td>6.484597e+00</td>\n",
              "    </tr>\n",
              "  </tbody>\n",
              "</table>\n",
              "<p>8 rows × 132 columns</p>\n",
              "</div>\n",
              "      <button class=\"colab-df-convert\" onclick=\"convertToInteractive('df-464c8ecb-9a5b-4f7d-92bb-4259b4804a10')\"\n",
              "              title=\"Convert this dataframe to an interactive table.\"\n",
              "              style=\"display:none;\">\n",
              "        \n",
              "  <svg xmlns=\"http://www.w3.org/2000/svg\" height=\"24px\"viewBox=\"0 0 24 24\"\n",
              "       width=\"24px\">\n",
              "    <path d=\"M0 0h24v24H0V0z\" fill=\"none\"/>\n",
              "    <path d=\"M18.56 5.44l.94 2.06.94-2.06 2.06-.94-2.06-.94-.94-2.06-.94 2.06-2.06.94zm-11 1L8.5 8.5l.94-2.06 2.06-.94-2.06-.94L8.5 2.5l-.94 2.06-2.06.94zm10 10l.94 2.06.94-2.06 2.06-.94-2.06-.94-.94-2.06-.94 2.06-2.06.94z\"/><path d=\"M17.41 7.96l-1.37-1.37c-.4-.4-.92-.59-1.43-.59-.52 0-1.04.2-1.43.59L10.3 9.45l-7.72 7.72c-.78.78-.78 2.05 0 2.83L4 21.41c.39.39.9.59 1.41.59.51 0 1.02-.2 1.41-.59l7.78-7.78 2.81-2.81c.8-.78.8-2.07 0-2.86zM5.41 20L4 18.59l7.72-7.72 1.47 1.35L5.41 20z\"/>\n",
              "  </svg>\n",
              "      </button>\n",
              "      \n",
              "  <style>\n",
              "    .colab-df-container {\n",
              "      display:flex;\n",
              "      flex-wrap:wrap;\n",
              "      gap: 12px;\n",
              "    }\n",
              "\n",
              "    .colab-df-convert {\n",
              "      background-color: #E8F0FE;\n",
              "      border: none;\n",
              "      border-radius: 50%;\n",
              "      cursor: pointer;\n",
              "      display: none;\n",
              "      fill: #1967D2;\n",
              "      height: 32px;\n",
              "      padding: 0 0 0 0;\n",
              "      width: 32px;\n",
              "    }\n",
              "\n",
              "    .colab-df-convert:hover {\n",
              "      background-color: #E2EBFA;\n",
              "      box-shadow: 0px 1px 2px rgba(60, 64, 67, 0.3), 0px 1px 3px 1px rgba(60, 64, 67, 0.15);\n",
              "      fill: #174EA6;\n",
              "    }\n",
              "\n",
              "    [theme=dark] .colab-df-convert {\n",
              "      background-color: #3B4455;\n",
              "      fill: #D2E3FC;\n",
              "    }\n",
              "\n",
              "    [theme=dark] .colab-df-convert:hover {\n",
              "      background-color: #434B5C;\n",
              "      box-shadow: 0px 1px 3px 1px rgba(0, 0, 0, 0.15);\n",
              "      filter: drop-shadow(0px 1px 2px rgba(0, 0, 0, 0.3));\n",
              "      fill: #FFFFFF;\n",
              "    }\n",
              "  </style>\n",
              "\n",
              "      <script>\n",
              "        const buttonEl =\n",
              "          document.querySelector('#df-464c8ecb-9a5b-4f7d-92bb-4259b4804a10 button.colab-df-convert');\n",
              "        buttonEl.style.display =\n",
              "          google.colab.kernel.accessAllowed ? 'block' : 'none';\n",
              "\n",
              "        async function convertToInteractive(key) {\n",
              "          const element = document.querySelector('#df-464c8ecb-9a5b-4f7d-92bb-4259b4804a10');\n",
              "          const dataTable =\n",
              "            await google.colab.kernel.invokeFunction('convertToInteractive',\n",
              "                                                     [key], {});\n",
              "          if (!dataTable) return;\n",
              "\n",
              "          const docLinkHtml = 'Like what you see? Visit the ' +\n",
              "            '<a target=\"_blank\" href=https://colab.research.google.com/notebooks/data_table.ipynb>data table notebook</a>'\n",
              "            + ' to learn more about interactive tables.';\n",
              "          element.innerHTML = '';\n",
              "          dataTable['output_type'] = 'display_data';\n",
              "          await google.colab.output.renderOutput(dataTable, element);\n",
              "          const docLink = document.createElement('div');\n",
              "          docLink.innerHTML = docLinkHtml;\n",
              "          element.appendChild(docLink);\n",
              "        }\n",
              "      </script>\n",
              "    </div>\n",
              "  </div>\n",
              "  "
            ]
          },
          "metadata": {},
          "execution_count": 119
        }
      ],
      "source": [
        "from sklearn.preprocessing import StandardScaler\n",
        "sc=StandardScaler()\n",
        "train_x1_sc=sc.fit_transform(train_x1)\n",
        "pd.DataFrame(train_x1_sc).describe()"
      ]
    },
    {
      "cell_type": "code",
      "execution_count": null,
      "metadata": {
        "id": "hFgMAUUOd9PC"
      },
      "outputs": [],
      "source": [
        "from sklearn.linear_model import Perceptron\n",
        "P=Perceptron() "
      ]
    },
    {
      "cell_type": "code",
      "execution_count": null,
      "metadata": {
        "colab": {
          "base_uri": "https://localhost:8080/"
        },
        "id": "z1rBHRBwd9Sh",
        "outputId": "2f588721-33d5-46ae-dd2c-45607a11d368"
      },
      "outputs": [
        {
          "output_type": "execute_result",
          "data": {
            "text/plain": [
              "Perceptron()"
            ]
          },
          "metadata": {},
          "execution_count": 121
        }
      ],
      "source": [
        "P.fit(train_x1_sc,train_y1)\n",
        "Perceptron()"
      ]
    },
    {
      "cell_type": "code",
      "execution_count": null,
      "metadata": {
        "colab": {
          "base_uri": "https://localhost:8080/"
        },
        "id": "jd4oJ0Ttd9WD",
        "outputId": "b898d15c-f56e-4713-f5e5-4945913722f1"
      },
      "outputs": [
        {
          "output_type": "stream",
          "name": "stderr",
          "text": [
            "/usr/local/lib/python3.7/dist-packages/sklearn/base.py:444: UserWarning: X has feature names, but Perceptron was fitted without feature names\n",
            "  f\"X has feature names, but {self.__class__.__name__} was fitted without\"\n"
          ]
        }
      ],
      "source": [
        "test_predict=P.predict(test_x1)\n",
        "train_predict=P.predict(train_x1_sc)"
      ]
    },
    {
      "cell_type": "code",
      "execution_count": null,
      "metadata": {
        "colab": {
          "base_uri": "https://localhost:8080/"
        },
        "id": "SGdf_2TAd9Z6",
        "outputId": "f91dd1ae-0183-4a37-d9d8-3bc32292e311"
      },
      "outputs": [
        {
          "output_type": "stream",
          "name": "stdout",
          "text": [
            "100.0\n"
          ]
        }
      ],
      "source": [
        "from sklearn.metrics import accuracy_score\n",
        "print(accuracy_score(train_y1,train_predict)*100)"
      ]
    },
    {
      "cell_type": "code",
      "execution_count": null,
      "metadata": {
        "colab": {
          "base_uri": "https://localhost:8080/"
        },
        "id": "yxmBfNmjd9dS",
        "outputId": "6a345c59-db77-45e3-cf5b-5f512d441771"
      },
      "outputs": [
        {
          "output_type": "stream",
          "name": "stdout",
          "text": [
            "68.36043360433605\n"
          ]
        }
      ],
      "source": [
        "print(accuracy_score(test_y1,test_predict)*100)"
      ]
    },
    {
      "cell_type": "code",
      "source": [
        "from sklearn.metrics import accuracy_score,classification_report,confusion_matrix"
      ],
      "metadata": {
        "id": "2X1xah62Wmth"
      },
      "execution_count": null,
      "outputs": []
    },
    {
      "cell_type": "code",
      "source": [
        "cm = confusion_matrix(test_y1,test_predict)\n",
        "print(cm)\n",
        "print(classification_report(test_y1,test_predict))"
      ],
      "metadata": {
        "colab": {
          "base_uri": "https://localhost:8080/"
        },
        "id": "p_9EaNUYZhDE",
        "outputId": "bc7dcaab-b5c1-4f23-a991-cc4b3bea0c96"
      },
      "execution_count": null,
      "outputs": [
        {
          "output_type": "stream",
          "name": "stdout",
          "text": [
            "[[20  0  0 ...  0  0  0]\n",
            " [ 0 34  0 ...  0  0  0]\n",
            " [ 0  0 32 ...  0  0  0]\n",
            " ...\n",
            " [ 0  0  0 ... 37  0  0]\n",
            " [ 0  0  0 ...  0 39  0]\n",
            " [ 0  0  0 ...  0  0  0]]\n",
            "              precision    recall  f1-score   support\n",
            "\n",
            "           0       1.00      0.67      0.80        30\n",
            "           1       1.00      1.00      1.00        34\n",
            "           2       0.55      1.00      0.71        32\n",
            "           3       1.00      1.00      1.00        29\n",
            "           4       1.00      1.00      1.00        43\n",
            "           5       1.00      0.66      0.79        44\n",
            "           6       0.00      0.00      0.00        47\n",
            "           7       0.67      1.00      0.80        44\n",
            "           8       0.00      0.00      0.00        38\n",
            "           9       0.92      1.00      0.96        34\n",
            "          10       1.00      1.00      1.00        28\n",
            "          11       1.00      1.00      1.00        33\n",
            "          12       0.98      1.00      0.99        44\n",
            "          13       1.00      1.00      1.00        38\n",
            "          14       0.45      1.00      0.62        34\n",
            "          15       1.00      1.00      1.00        37\n",
            "          16       1.00      0.67      0.80        39\n",
            "          17       0.00      0.00      0.00        41\n",
            "          18       0.00      0.00      0.00        35\n",
            "          19       1.00      1.00      1.00        30\n",
            "          20       0.00      0.00      0.00        29\n",
            "          21       0.00      0.00      0.00        32\n",
            "          22       0.00      0.00      0.00        42\n",
            "          23       1.00      0.84      0.91        37\n",
            "          24       1.00      1.00      1.00        39\n",
            "          25       0.20      1.00      0.34        37\n",
            "          26       1.00      1.00      1.00        35\n",
            "          27       1.00      0.84      0.91        38\n",
            "          28       0.00      0.00      0.00        36\n",
            "          29       0.00      0.00      0.00        44\n",
            "          30       1.00      0.07      0.12        46\n",
            "          31       0.86      1.00      0.92        42\n",
            "          32       0.41      1.00      0.58        40\n",
            "          33       1.00      0.86      0.92        28\n",
            "          34       1.00      1.00      1.00        27\n",
            "          35       0.25      1.00      0.40        29\n",
            "          36       1.00      1.00      1.00        33\n",
            "          37       1.00      1.00      1.00        26\n",
            "          38       0.32      1.00      0.49        37\n",
            "          39       1.00      1.00      1.00        39\n",
            "          40       0.00      0.00      0.00        26\n",
            "\n",
            "    accuracy                           0.68      1476\n",
            "   macro avg       0.65      0.70      0.64      1476\n",
            "weighted avg       0.64      0.68      0.62      1476\n",
            "\n"
          ]
        },
        {
          "output_type": "stream",
          "name": "stderr",
          "text": [
            "/usr/local/lib/python3.7/dist-packages/sklearn/metrics/_classification.py:1318: UndefinedMetricWarning: Precision and F-score are ill-defined and being set to 0.0 in labels with no predicted samples. Use `zero_division` parameter to control this behavior.\n",
            "  _warn_prf(average, modifier, msg_start, len(result))\n",
            "/usr/local/lib/python3.7/dist-packages/sklearn/metrics/_classification.py:1318: UndefinedMetricWarning: Precision and F-score are ill-defined and being set to 0.0 in labels with no predicted samples. Use `zero_division` parameter to control this behavior.\n",
            "  _warn_prf(average, modifier, msg_start, len(result))\n",
            "/usr/local/lib/python3.7/dist-packages/sklearn/metrics/_classification.py:1318: UndefinedMetricWarning: Precision and F-score are ill-defined and being set to 0.0 in labels with no predicted samples. Use `zero_division` parameter to control this behavior.\n",
            "  _warn_prf(average, modifier, msg_start, len(result))\n"
          ]
        }
      ]
    },
    {
      "cell_type": "code",
      "execution_count": null,
      "metadata": {
        "colab": {
          "base_uri": "https://localhost:8080/"
        },
        "id": "KUa4jOsrd9gx",
        "outputId": "b1bb6b8c-5be7-42fa-f1c1-8f643ff03bc0"
      },
      "outputs": [
        {
          "output_type": "execute_result",
          "data": {
            "text/plain": [
              "Perceptron(penalty='elasticnet')"
            ]
          },
          "metadata": {},
          "execution_count": 127
        }
      ],
      "source": [
        "p1=Perceptron(penalty='elasticnet')\n",
        "p1.fit(train_x1_sc,train_y1)\n",
        "Perceptron(penalty='elasticnet')"
      ]
    },
    {
      "cell_type": "code",
      "execution_count": null,
      "metadata": {
        "colab": {
          "base_uri": "https://localhost:8080/"
        },
        "id": "0-ZyXy3ad9kF",
        "outputId": "fa605d0d-bfc7-43ba-e975-d345efbf7fa9"
      },
      "outputs": [
        {
          "output_type": "execute_result",
          "data": {
            "text/plain": [
              "Perceptron(penalty='elasticnet')"
            ]
          },
          "metadata": {},
          "execution_count": 128
        }
      ],
      "source": [
        "Perceptron(penalty='elasticnet')"
      ]
    },
    {
      "cell_type": "code",
      "execution_count": null,
      "metadata": {
        "colab": {
          "base_uri": "https://localhost:8080/"
        },
        "id": "gnNGY9H9d9np",
        "outputId": "e2442e3a-8976-4d16-d978-eede057be469"
      },
      "outputs": [
        {
          "output_type": "stream",
          "name": "stderr",
          "text": [
            "/usr/local/lib/python3.7/dist-packages/sklearn/base.py:444: UserWarning: X has feature names, but Perceptron was fitted without feature names\n",
            "  f\"X has feature names, but {self.__class__.__name__} was fitted without\"\n"
          ]
        }
      ],
      "source": [
        "train_predict_elasticnet= p1.predict(train_x1_sc)\n",
        "test_predict_en= p1.predict(test_x1)"
      ]
    },
    {
      "cell_type": "code",
      "execution_count": null,
      "metadata": {
        "colab": {
          "base_uri": "https://localhost:8080/"
        },
        "id": "_OdEF5cJiCpJ",
        "outputId": "b4c44ba1-383b-4fa8-d915-64ce0e4794c5"
      },
      "outputs": [
        {
          "output_type": "stream",
          "name": "stdout",
          "text": [
            "Training accuracy 100.0\n",
            "Testing accuracy 68.36043360433605\n"
          ]
        }
      ],
      "source": [
        "print(\"Training accuracy\",accuracy_score(train_y1,train_predict)*100)\n",
        "print(\"Testing accuracy\",accuracy_score(test_y1,test_predict)*100)"
      ]
    },
    {
      "cell_type": "code",
      "source": [
        "plt.figure(figsize=(20,20))\n",
        "sns.heatmap(cm, annot=True)\n",
        "plt.title(\"Confusion Matrix for Perceptron Classifier on Test Data\")\n",
        "plt.show()"
      ],
      "metadata": {
        "colab": {
          "base_uri": "https://localhost:8080/",
          "height": 1000
        },
        "id": "Yr-Mh_I18RSF",
        "outputId": "ca59179e-4409-4852-ba44-cf574d2dedb0"
      },
      "execution_count": null,
      "outputs": [
        {
          "output_type": "display_data",
          "data": {
            "text/plain": [
              "<Figure size 1440x1440 with 2 Axes>"
            ],
            "image/png": "[encoded data removed]"
          },
          "metadata": {
            "needs_background": "light"
          }
        }
      ]
    },
    {
      "cell_type": "code",
      "execution_count": null,
      "metadata": {
        "colab": {
          "base_uri": "https://localhost:8080/"
        },
        "id": "Nt_KsxnBd9rG",
        "outputId": "fa39cd92-981a-4445-a5b4-263eff34b1d2"
      },
      "outputs": [
        {
          "output_type": "execute_result",
          "data": {
            "text/plain": [
              "(3444, 132)"
            ]
          },
          "metadata": {},
          "execution_count": 133
        }
      ],
      "source": [
        "from sklearn.svm import SVC\n",
        "svc=SVC()\n",
        "train_x1_sc.shape"
      ]
    },
    {
      "cell_type": "code",
      "execution_count": null,
      "metadata": {
        "colab": {
          "base_uri": "https://localhost:8080/"
        },
        "id": "Tfwql3BKivvg",
        "outputId": "1946ba9d-fe98-4884-ebd6-89465656d9fe"
      },
      "outputs": [
        {
          "output_type": "execute_result",
          "data": {
            "text/plain": [
              "SVC()"
            ]
          },
          "metadata": {},
          "execution_count": 134
        }
      ],
      "source": [
        "train_y1.shape\n",
        "svc.fit(train_x1_sc,train_y1)"
      ]
    },
    {
      "cell_type": "code",
      "execution_count": null,
      "metadata": {
        "colab": {
          "base_uri": "https://localhost:8080/"
        },
        "id": "dOfhdXU5d9uN",
        "outputId": "90190b96-117e-4dc9-f449-18bdcc8b9519"
      },
      "outputs": [
        {
          "output_type": "stream",
          "name": "stderr",
          "text": [
            "/usr/local/lib/python3.7/dist-packages/sklearn/base.py:444: UserWarning: X has feature names, but SVC was fitted without feature names\n",
            "  f\"X has feature names, but {self.__class__.__name__} was fitted without\"\n"
          ]
        }
      ],
      "source": [
        "train_pred_svc=svc.predict(train_x1_sc)\n",
        "test_pred_svc=svc.predict(test_x1)"
      ]
    },
    {
      "cell_type": "code",
      "execution_count": null,
      "metadata": {
        "colab": {
          "base_uri": "https://localhost:8080/"
        },
        "id": "BLCi-28pd9xW",
        "outputId": "b390e166-b850-4617-bf5a-def378a32ad8"
      },
      "outputs": [
        {
          "output_type": "stream",
          "name": "stdout",
          "text": [
            "Training 99.91289198606272\n",
            "Test 16.802168021680217\n"
          ]
        }
      ],
      "source": [
        "print(\"Training\",accuracy_score(train_pred_svc,train_y1)*100)\n",
        "print(\"Test\",accuracy_score(test_pred_svc,test_y1)*100)"
      ]
    },
    {
      "cell_type": "code",
      "source": [
        "cm_svc = confusion_matrix(test_y1,test_pred_svc)\n",
        "print(cm_svc)\n",
        "print(classification_report(test_y1,test_pred_svc))"
      ],
      "metadata": {
        "colab": {
          "base_uri": "https://localhost:8080/"
        },
        "id": "8cwKi1ZgaYYn",
        "outputId": "e7413279-c0ec-416b-98a5-f432b00b2457"
      },
      "execution_count": null,
      "outputs": [
        {
          "output_type": "stream",
          "name": "stdout",
          "text": [
            "[[0 0 0 ... 0 0 0]\n",
            " [0 0 0 ... 0 0 0]\n",
            " [0 0 0 ... 0 0 0]\n",
            " ...\n",
            " [0 0 0 ... 0 0 0]\n",
            " [0 0 0 ... 0 0 0]\n",
            " [0 0 0 ... 0 0 0]]\n",
            "              precision    recall  f1-score   support\n",
            "\n",
            "           0       0.00      0.00      0.00        30\n",
            "           1       0.00      0.00      0.00        34\n",
            "           2       0.00      0.00      0.00        32\n",
            "           3       0.00      0.00      0.00        29\n",
            "           4       0.00      0.00      0.00        43\n",
            "           5       0.00      0.00      0.00        44\n",
            "           6       0.00      0.00      0.00        47\n",
            "           7       0.00      0.00      0.00        44\n",
            "           8       0.03      0.03      0.03        38\n",
            "           9       0.01      0.03      0.02        34\n",
            "          10       0.00      0.00      0.00        28\n",
            "          11       0.00      0.00      0.00        33\n",
            "          12       0.00      0.00      0.00        44\n",
            "          13       0.00      0.00      0.00        38\n",
            "          14       0.00      0.00      0.00        34\n",
            "          15       0.00      0.00      0.00        37\n",
            "          16       0.00      0.00      0.00        39\n",
            "          17       0.00      0.00      0.00        41\n",
            "          18       0.02      0.63      0.04        35\n",
            "          19       0.00      0.00      0.00        30\n",
            "          20       0.06      0.07      0.06        29\n",
            "          21       0.02      0.09      0.03        32\n",
            "          22       0.00      0.00      0.00        42\n",
            "          23       0.00      0.00      0.00        37\n",
            "          24       0.00      0.00      0.00        39\n",
            "          25       0.00      0.00      0.00        37\n",
            "          26       0.00      0.00      0.00        35\n",
            "          27       0.00      0.00      0.00        38\n",
            "          28       0.00      0.00      0.00        36\n",
            "          29       0.03      0.07      0.04        44\n",
            "          30       0.00      0.00      0.00        46\n",
            "          31       0.00      0.00      0.00        42\n",
            "          32       0.00      0.00      0.00        40\n",
            "          33       0.00      0.00      0.00        28\n",
            "          34       0.00      0.00      0.00        27\n",
            "          35       0.00      0.00      0.00        29\n",
            "          36       0.00      0.00      0.00        33\n",
            "          37       0.00      0.00      0.00        26\n",
            "          38       0.00      0.00      0.00        37\n",
            "          39       0.00      0.00      0.00        39\n",
            "          40       0.00      0.00      0.00        26\n",
            "\n",
            "    accuracy                           0.02      1476\n",
            "   macro avg       0.00      0.02      0.01      1476\n",
            "weighted avg       0.00      0.02      0.01      1476\n",
            "\n"
          ]
        },
        {
          "output_type": "stream",
          "name": "stderr",
          "text": [
            "/usr/local/lib/python3.7/dist-packages/sklearn/metrics/_classification.py:1318: UndefinedMetricWarning: Precision and F-score are ill-defined and being set to 0.0 in labels with no predicted samples. Use `zero_division` parameter to control this behavior.\n",
            "  _warn_prf(average, modifier, msg_start, len(result))\n",
            "/usr/local/lib/python3.7/dist-packages/sklearn/metrics/_classification.py:1318: UndefinedMetricWarning: Precision and F-score are ill-defined and being set to 0.0 in labels with no predicted samples. Use `zero_division` parameter to control this behavior.\n",
            "  _warn_prf(average, modifier, msg_start, len(result))\n",
            "/usr/local/lib/python3.7/dist-packages/sklearn/metrics/_classification.py:1318: UndefinedMetricWarning: Precision and F-score are ill-defined and being set to 0.0 in labels with no predicted samples. Use `zero_division` parameter to control this behavior.\n",
            "  _warn_prf(average, modifier, msg_start, len(result))\n"
          ]
        }
      ]
    },
    {
      "cell_type": "code",
      "execution_count": null,
      "metadata": {
        "colab": {
          "base_uri": "https://localhost:8080/"
        },
        "id": "tJReql1NjFv8",
        "outputId": "ef9df852-c3d1-4219-b89a-8df4e733d630"
      },
      "outputs": [
        {
          "output_type": "stream",
          "name": "stderr",
          "text": [
            "/usr/local/lib/python3.7/dist-packages/sklearn/base.py:444: UserWarning: X has feature names, but SVC was fitted without feature names\n",
            "  f\"X has feature names, but {self.__class__.__name__} was fitted without\"\n"
          ]
        }
      ],
      "source": [
        "\n",
        "svc1=SVC(kernel=\"rbf\",C=0.5)\n",
        "svc1.fit(train_x1_sc,train_y1)\n",
        "train_pred_svc1=svc1.predict(train_x1_sc)\n",
        "test_pred_svc1=svc1.predict(test_x1)"
      ]
    },
    {
      "cell_type": "code",
      "execution_count": null,
      "metadata": {
        "colab": {
          "base_uri": "https://localhost:8080/"
        },
        "id": "QMYO0-j6jJtD",
        "outputId": "dd51c54a-0dc8-4760-d3a2-f6a5e7f571a6"
      },
      "outputs": [
        {
          "output_type": "stream",
          "name": "stdout",
          "text": [
            "Test 16.802168021680217\n"
          ]
        }
      ],
      "source": [
        "print(\"Test\",accuracy_score(test_pred_svc1,test_y1)*100)"
      ]
    },
    {
      "cell_type": "code",
      "execution_count": null,
      "metadata": {
        "id": "ViRBoqaWj_E5",
        "colab": {
          "base_uri": "https://localhost:8080/",
          "height": 1000
        },
        "outputId": "34d9c01f-f871-4965-a8f6-deed72abf639"
      },
      "outputs": [
        {
          "output_type": "display_data",
          "data": {
            "text/plain": [
              "<Figure size 1440x1440 with 2 Axes>"
            ],
            "image/png": "[encoded data removed]"
          },
          "metadata": {
            "needs_background": "light"
          }
        }
      ],
      "source": [
        "#SVC\n",
        "import seaborn as sns\n",
        "import matplotlib.pyplot as plt\n",
        "plt.figure(figsize=(20,20))\n",
        "sns.heatmap(cm_svc, annot=True)\n",
        "plt.title(\"Confusion Matrix for SVM Classifier on Test Data\")\n",
        "plt.show()"
      ]
    },
    {
      "cell_type": "markdown",
      "source": [],
      "metadata": {
        "id": "ekBlXqkhjW04"
      }
    },
    {
      "cell_type": "code",
      "execution_count": null,
      "metadata": {
        "colab": {
          "base_uri": "https://localhost:8080/"
        },
        "id": "9b-C2TNjVIBN",
        "outputId": "7ab4c8b5-dbc6-4238-b9c2-ba7f46cf3d0d"
      },
      "outputs": [
        {
          "output_type": "stream",
          "name": "stderr",
          "text": [
            "/usr/local/lib/python3.7/dist-packages/sklearn/base.py:444: UserWarning: X has feature names, but KNeighborsClassifier was fitted without feature names\n",
            "  f\"X has feature names, but {self.__class__.__name__} was fitted without\"\n"
          ]
        }
      ],
      "source": [
        "from sklearn.neighbors import KNeighborsClassifier\n",
        "knn=KNeighborsClassifier(n_neighbors=3)\n",
        "knn.fit(train_x1_sc,train_y1)\n",
        "train_pred_knn=knn.predict(train_x1_sc)\n",
        "test_pred_knn=knn.predict(test_x1)\n"
      ]
    },
    {
      "cell_type": "code",
      "execution_count": null,
      "metadata": {
        "colab": {
          "base_uri": "https://localhost:8080/"
        },
        "id": "CBBLoBKukDti",
        "outputId": "84221ca9-95dd-4b15-9284-7d7db37bf249"
      },
      "outputs": [
        {
          "output_type": "stream",
          "name": "stdout",
          "text": [
            "Training accuracy: 100.0\n",
            "testing accuracy: 14.092140921409213\n"
          ]
        }
      ],
      "source": [
        "print(\"Training accuracy:\",accuracy_score(train_pred_knn,train_y1)*100)\n",
        "print(\"testing accuracy:\",accuracy_score(test_pred_knn,test_y1)*100)"
      ]
    },
    {
      "cell_type": "code",
      "source": [
        "cm_knn = confusion_matrix(test_y1,test_pred_knn)\n",
        "print(cm_knn)\n",
        "print(classification_report(test_y1,test_pred_knn))"
      ],
      "metadata": {
        "colab": {
          "base_uri": "https://localhost:8080/"
        },
        "id": "gO-pJgW_bPAJ",
        "outputId": "2772dd72-88d2-44f8-f519-c928eb27608f"
      },
      "execution_count": null,
      "outputs": [
        {
          "output_type": "stream",
          "name": "stdout",
          "text": [
            "[[0 0 0 ... 0 0 0]\n",
            " [0 0 0 ... 0 0 0]\n",
            " [0 0 0 ... 0 0 0]\n",
            " ...\n",
            " [0 0 0 ... 0 0 0]\n",
            " [0 0 0 ... 0 0 0]\n",
            " [0 0 0 ... 0 0 0]]\n",
            "              precision    recall  f1-score   support\n",
            "\n",
            "           0       0.00      0.00      0.00        30\n",
            "           1       0.00      0.00      0.00        34\n",
            "           2       0.00      0.00      0.00        32\n",
            "           3       0.00      0.00      0.00        29\n",
            "           4       0.00      0.00      0.00        43\n",
            "           5       0.00      0.00      0.00        44\n",
            "           6       0.00      0.00      0.00        47\n",
            "           7       0.00      0.00      0.00        44\n",
            "           8       0.00      0.00      0.00        38\n",
            "           9       0.25      1.00      0.40        34\n",
            "          10       0.00      0.00      0.00        28\n",
            "          11       0.00      0.00      0.00        33\n",
            "          12       0.00      0.00      0.00        44\n",
            "          13       0.00      0.00      0.00        38\n",
            "          14       0.00      0.00      0.00        34\n",
            "          15       0.00      0.00      0.00        37\n",
            "          16       0.00      0.00      0.00        39\n",
            "          17       0.00      0.00      0.00        41\n",
            "          18       0.04      1.00      0.07        35\n",
            "          19       0.00      0.00      0.00        30\n",
            "          20       0.15      1.00      0.26        29\n",
            "          21       0.38      0.94      0.54        32\n",
            "          22       0.00      0.00      0.00        42\n",
            "          23       0.00      0.00      0.00        37\n",
            "          24       0.00      0.00      0.00        39\n",
            "          25       0.00      0.00      0.00        37\n",
            "          26       0.00      0.00      0.00        35\n",
            "          27       0.00      0.00      0.00        38\n",
            "          28       0.97      1.00      0.99        36\n",
            "          29       0.46      1.00      0.63        44\n",
            "          30       0.00      0.00      0.00        46\n",
            "          31       0.00      0.00      0.00        42\n",
            "          32       0.00      0.00      0.00        40\n",
            "          33       0.00      0.00      0.00        28\n",
            "          34       0.00      0.00      0.00        27\n",
            "          35       0.00      0.00      0.00        29\n",
            "          36       0.00      0.00      0.00        33\n",
            "          37       0.00      0.00      0.00        26\n",
            "          38       0.00      0.00      0.00        37\n",
            "          39       0.00      0.00      0.00        39\n",
            "          40       0.00      0.00      0.00        26\n",
            "\n",
            "    accuracy                           0.14      1476\n",
            "   macro avg       0.05      0.14      0.07      1476\n",
            "weighted avg       0.06      0.14      0.07      1476\n",
            "\n"
          ]
        },
        {
          "output_type": "stream",
          "name": "stderr",
          "text": [
            "/usr/local/lib/python3.7/dist-packages/sklearn/metrics/_classification.py:1318: UndefinedMetricWarning: Precision and F-score are ill-defined and being set to 0.0 in labels with no predicted samples. Use `zero_division` parameter to control this behavior.\n",
            "  _warn_prf(average, modifier, msg_start, len(result))\n",
            "/usr/local/lib/python3.7/dist-packages/sklearn/metrics/_classification.py:1318: UndefinedMetricWarning: Precision and F-score are ill-defined and being set to 0.0 in labels with no predicted samples. Use `zero_division` parameter to control this behavior.\n",
            "  _warn_prf(average, modifier, msg_start, len(result))\n",
            "/usr/local/lib/python3.7/dist-packages/sklearn/metrics/_classification.py:1318: UndefinedMetricWarning: Precision and F-score are ill-defined and being set to 0.0 in labels with no predicted samples. Use `zero_division` parameter to control this behavior.\n",
            "  _warn_prf(average, modifier, msg_start, len(result))\n"
          ]
        }
      ]
    },
    {
      "cell_type": "code",
      "source": [
        "plt.figure(figsize=(20,20))\n",
        "sns.heatmap(cm_knn, annot=True)\n",
        "plt.title(\"Confusion Matrix for KNN Classifier on Test Data\")\n",
        "plt.show()"
      ],
      "metadata": {
        "colab": {
          "base_uri": "https://localhost:8080/",
          "height": 1000
        },
        "id": "r5OKyZMR82yz",
        "outputId": "3d86374a-d686-408a-f49a-6e281d3422e5"
      },
      "execution_count": null,
      "outputs": [
        {
          "output_type": "display_data",
          "data": {
            "text/plain": [
              "<Figure size 1440x1440 with 2 Axes>"
            ],
            "image/png": "[encoded data removed]"
          },
          "metadata": {
            "needs_background": "light"
          }
        }
      ]
    },
    {
      "cell_type": "code",
      "execution_count": null,
      "metadata": {
        "colab": {
          "base_uri": "https://localhost:8080/"
        },
        "id": "MrWtEVTmmQdo",
        "outputId": "ca2a4506-041a-48dd-c60d-a0b26ff6e713"
      },
      "outputs": [
        {
          "output_type": "stream",
          "name": "stdout",
          "text": [
            "Training 100.0\n",
            "testing 11.991869918699187\n"
          ]
        },
        {
          "output_type": "stream",
          "name": "stderr",
          "text": [
            "/usr/local/lib/python3.7/dist-packages/sklearn/base.py:444: UserWarning: X has feature names, but DecisionTreeClassifier was fitted without feature names\n",
            "  f\"X has feature names, but {self.__class__.__name__} was fitted without\"\n"
          ]
        }
      ],
      "source": [
        "from sklearn.tree import DecisionTreeClassifier\n",
        "dt=DecisionTreeClassifier()\n",
        "dt.fit(train_x1_sc,train_y1)\n",
        "train_pred_dt=dt.predict(train_x1_sc)\n",
        "test_pred_dt=dt.predict(test_x1)\n",
        "print(\"Training\",accuracy_score(train_pred_dt,train_y1)*100)\n",
        "print(\"testing\",accuracy_score(test_pred_dt,test_y1)*100)"
      ]
    },
    {
      "cell_type": "code",
      "source": [
        "cm_dt = confusion_matrix(test_y1,test_pred_dt)\n",
        "print(cm_dt)\n",
        "print(classification_report(test_y1,test_pred_dt))"
      ],
      "metadata": {
        "colab": {
          "base_uri": "https://localhost:8080/"
        },
        "id": "KuiAxJdubvpG",
        "outputId": "f1245d01-89aa-4095-e5d6-fb6f799803f0"
      },
      "execution_count": null,
      "outputs": [
        {
          "output_type": "stream",
          "name": "stdout",
          "text": [
            "[[0 0 0 ... 0 0 0]\n",
            " [0 0 0 ... 0 0 0]\n",
            " [0 0 0 ... 0 0 0]\n",
            " ...\n",
            " [0 0 0 ... 0 0 0]\n",
            " [0 0 0 ... 0 0 0]\n",
            " [0 0 0 ... 0 0 0]]\n",
            "              precision    recall  f1-score   support\n",
            "\n",
            "           0       0.00      0.00      0.00        30\n",
            "           1       0.00      0.00      0.00        34\n",
            "           2       0.00      0.00      0.00        32\n",
            "           3       0.45      0.97      0.62        29\n",
            "           4       0.00      0.00      0.00        43\n",
            "           5       0.00      0.00      0.00        44\n",
            "           6       0.06      1.00      0.11        47\n",
            "           7       0.00      0.00      0.00        44\n",
            "           8       0.00      0.00      0.00        38\n",
            "           9       0.14      1.00      0.25        34\n",
            "          10       0.00      0.00      0.00        28\n",
            "          11       0.00      0.00      0.00        33\n",
            "          12       0.00      0.00      0.00        44\n",
            "          13       0.00      0.00      0.00        38\n",
            "          14       0.00      0.00      0.00        34\n",
            "          15       0.00      0.00      0.00        37\n",
            "          16       0.00      0.00      0.00        39\n",
            "          17       0.00      0.00      0.00        41\n",
            "          18       0.00      0.00      0.00        35\n",
            "          19       0.00      0.00      0.00        30\n",
            "          20       0.16      0.83      0.26        29\n",
            "          21       0.00      0.00      0.00        32\n",
            "          22       0.00      0.00      0.00        42\n",
            "          23       0.00      0.00      0.00        37\n",
            "          24       0.00      0.00      0.00        39\n",
            "          25       0.00      0.00      0.00        37\n",
            "          26       0.00      0.00      0.00        35\n",
            "          27       0.00      0.00      0.00        38\n",
            "          28       0.00      0.00      0.00        36\n",
            "          29       0.00      0.00      0.00        44\n",
            "          30       0.24      0.96      0.38        46\n",
            "          31       0.00      0.00      0.00        42\n",
            "          32       0.00      0.00      0.00        40\n",
            "          33       0.00      0.00      0.00        28\n",
            "          34       0.00      0.00      0.00        27\n",
            "          35       0.00      0.00      0.00        29\n",
            "          36       0.00      0.00      0.00        33\n",
            "          37       0.00      0.00      0.00        26\n",
            "          38       0.00      0.00      0.00        37\n",
            "          39       0.00      0.00      0.00        39\n",
            "          40       0.00      0.00      0.00        26\n",
            "\n",
            "    accuracy                           0.12      1476\n",
            "   macro avg       0.03      0.12      0.04      1476\n",
            "weighted avg       0.02      0.12      0.04      1476\n",
            "\n"
          ]
        },
        {
          "output_type": "stream",
          "name": "stderr",
          "text": [
            "/usr/local/lib/python3.7/dist-packages/sklearn/metrics/_classification.py:1318: UndefinedMetricWarning: Precision and F-score are ill-defined and being set to 0.0 in labels with no predicted samples. Use `zero_division` parameter to control this behavior.\n",
            "  _warn_prf(average, modifier, msg_start, len(result))\n",
            "/usr/local/lib/python3.7/dist-packages/sklearn/metrics/_classification.py:1318: UndefinedMetricWarning: Precision and F-score are ill-defined and being set to 0.0 in labels with no predicted samples. Use `zero_division` parameter to control this behavior.\n",
            "  _warn_prf(average, modifier, msg_start, len(result))\n",
            "/usr/local/lib/python3.7/dist-packages/sklearn/metrics/_classification.py:1318: UndefinedMetricWarning: Precision and F-score are ill-defined and being set to 0.0 in labels with no predicted samples. Use `zero_division` parameter to control this behavior.\n",
            "  _warn_prf(average, modifier, msg_start, len(result))\n"
          ]
        }
      ]
    },
    {
      "cell_type": "code",
      "source": [
        "plt.figure(figsize=(20,20))\n",
        "sns.heatmap(cm_dt, annot=True)\n",
        "plt.title(\"Confusion Matrix for Decision Tree Classifier on Test Data\")\n",
        "plt.show()"
      ],
      "metadata": {
        "colab": {
          "base_uri": "https://localhost:8080/",
          "height": 1000
        },
        "id": "GNdN7oru9F5t",
        "outputId": "10d2444b-8857-49e6-d015-bb536d98c5e4"
      },
      "execution_count": null,
      "outputs": [
        {
          "output_type": "display_data",
          "data": {
            "text/plain": [
              "<Figure size 1440x1440 with 2 Axes>"
            ],
            "image/png": "[encoded data removed]"
          },
          "metadata": {
            "needs_background": "light"
          }
        }
      ]
    },
    {
      "cell_type": "code",
      "execution_count": null,
      "metadata": {
        "colab": {
          "base_uri": "https://localhost:8080/"
        },
        "id": "Tu6Uj1GJmVHq",
        "outputId": "d6ea4857-e3c3-4637-a530-0961ed4bda5a"
      },
      "outputs": [
        {
          "output_type": "stream",
          "name": "stdout",
          "text": [
            "Training 100.0\n",
            "testing 30.758807588075882\n"
          ]
        },
        {
          "output_type": "stream",
          "name": "stderr",
          "text": [
            "/usr/local/lib/python3.7/dist-packages/sklearn/base.py:444: UserWarning: X has feature names, but DecisionTreeClassifier was fitted without feature names\n",
            "  f\"X has feature names, but {self.__class__.__name__} was fitted without\"\n"
          ]
        }
      ],
      "source": [
        "dt1=DecisionTreeClassifier(criterion='entropy')\n",
        "dt1.fit(train_x1_sc,train_y1)\n",
        "train_pred_dt1=dt1.predict(train_x1_sc)\n",
        "test_pred_dt1=dt1.predict(test_x1)\n",
        "print(\"Training\",accuracy_score(train_pred_dt1,train_y1)*100)\n",
        "print(\"testing\",accuracy_score(test_pred_dt1,test_y1)*100)"
      ]
    },
    {
      "cell_type": "code",
      "execution_count": null,
      "metadata": {
        "colab": {
          "base_uri": "https://localhost:8080/"
        },
        "id": "slHk_ltQmVD0",
        "outputId": "fb2328a5-cc7c-4fbb-fa4e-322e6bdcae24"
      },
      "outputs": [
        {
          "output_type": "stream",
          "name": "stdout",
          "text": [
            "Training 100.0\n",
            "Testing 14.43089430894309\n"
          ]
        },
        {
          "output_type": "stream",
          "name": "stderr",
          "text": [
            "/usr/local/lib/python3.7/dist-packages/sklearn/base.py:444: UserWarning: X has feature names, but DecisionTreeClassifier was fitted without feature names\n",
            "  f\"X has feature names, but {self.__class__.__name__} was fitted without\"\n"
          ]
        }
      ],
      "source": [
        "dt2=DecisionTreeClassifier(criterion='gini')\n",
        "dt2.fit(train_x1_sc,train_y1)\n",
        "train_pred_dt2=dt2.predict(train_x1_sc)\n",
        "test_pred_dt2=dt2.predict(test_x1)\n",
        "print(\"Training\",accuracy_score(train_pred_dt2,train_y1)*100)\n",
        "print(\"Testing\",accuracy_score(test_pred_dt2,test_y1)*100)"
      ]
    },
    {
      "cell_type": "code",
      "execution_count": null,
      "metadata": {
        "colab": {
          "base_uri": "https://localhost:8080/"
        },
        "id": "m15lVDycmU_2",
        "outputId": "b3e89086-503a-4a2f-8a17-184c99d1d2d4"
      },
      "outputs": [
        {
          "output_type": "stream",
          "name": "stdout",
          "text": [
            "Training 100.0\n",
            "Testing 40.71815718157182\n"
          ]
        },
        {
          "output_type": "stream",
          "name": "stderr",
          "text": [
            "/usr/local/lib/python3.7/dist-packages/sklearn/base.py:444: UserWarning: X has feature names, but RandomForestClassifier was fitted without feature names\n",
            "  f\"X has feature names, but {self.__class__.__name__} was fitted without\"\n"
          ]
        }
      ],
      "source": [
        "from sklearn.ensemble import RandomForestClassifier\n",
        "rf=RandomForestClassifier()\n",
        "rf.fit(train_x1_sc,train_y1)\n",
        "train_pred_rf=rf.predict(train_x1_sc)\n",
        "test_pred_rf=rf.predict(test_x1)\n",
        "print(\"Training\",accuracy_score(train_pred_rf,train_y1)*100)\n",
        "print(\"Testing\",accuracy_score(test_pred_rf,test_y1)*100)"
      ]
    },
    {
      "cell_type": "code",
      "source": [
        "cm_rf = confusion_matrix(test_y1,test_pred_rf)\n",
        "print(cm_rf)\n",
        "print(classification_report(test_y1,test_pred_rf))"
      ],
      "metadata": {
        "colab": {
          "base_uri": "https://localhost:8080/"
        },
        "id": "lsW7g6a5cAl_",
        "outputId": "96ced8f9-fd4e-473e-f184-9b2221d61d87"
      },
      "execution_count": null,
      "outputs": [
        {
          "output_type": "stream",
          "name": "stdout",
          "text": [
            "[[30  0  0 ...  0  0  0]\n",
            " [ 0 33  0 ...  0  0  0]\n",
            " [ 0  0  0 ...  0  0  0]\n",
            " ...\n",
            " [ 0  0  0 ...  0  0  0]\n",
            " [ 0  0  0 ...  0 36  0]\n",
            " [ 0  0  0 ...  0  0  0]]\n",
            "              precision    recall  f1-score   support\n",
            "\n",
            "           0       0.44      1.00      0.61        30\n",
            "           1       0.80      0.97      0.88        34\n",
            "           2       0.00      0.00      0.00        32\n",
            "           3       1.00      0.93      0.96        29\n",
            "           4       0.57      0.88      0.69        43\n",
            "           5       0.00      0.00      0.00        44\n",
            "           6       1.00      0.83      0.91        47\n",
            "           7       0.00      0.00      0.00        44\n",
            "           8       0.30      1.00      0.46        38\n",
            "           9       0.52      1.00      0.68        34\n",
            "          10       0.00      0.00      0.00        28\n",
            "          11       0.00      0.00      0.00        33\n",
            "          12       0.00      0.00      0.00        44\n",
            "          13       0.15      1.00      0.26        38\n",
            "          14       0.00      0.00      0.00        34\n",
            "          15       0.00      0.00      0.00        37\n",
            "          16       0.00      0.00      0.00        39\n",
            "          17       0.32      0.83      0.47        41\n",
            "          18       0.00      0.00      0.00        35\n",
            "          19       0.00      0.00      0.00        30\n",
            "          20       0.48      1.00      0.64        29\n",
            "          21       0.38      0.84      0.52        32\n",
            "          22       0.00      0.00      0.00        42\n",
            "          23       0.00      0.00      0.00        37\n",
            "          24       0.00      0.00      0.00        39\n",
            "          25       0.00      0.00      0.00        37\n",
            "          26       0.00      0.00      0.00        35\n",
            "          27       0.23      0.97      0.37        38\n",
            "          28       1.00      1.00      1.00        36\n",
            "          29       1.00      0.84      0.91        44\n",
            "          30       0.00      0.00      0.00        46\n",
            "          31       0.00      0.00      0.00        42\n",
            "          32       0.29      0.85      0.43        40\n",
            "          33       0.97      1.00      0.98        28\n",
            "          34       0.00      0.00      0.00        27\n",
            "          35       0.00      0.00      0.00        29\n",
            "          36       0.00      0.00      0.00        33\n",
            "          37       0.96      1.00      0.98        26\n",
            "          38       0.00      0.00      0.00        37\n",
            "          39       0.25      0.92      0.40        39\n",
            "          40       0.00      0.00      0.00        26\n",
            "\n",
            "    accuracy                           0.41      1476\n",
            "   macro avg       0.26      0.41      0.30      1476\n",
            "weighted avg       0.26      0.41      0.29      1476\n",
            "\n"
          ]
        },
        {
          "output_type": "stream",
          "name": "stderr",
          "text": [
            "/usr/local/lib/python3.7/dist-packages/sklearn/metrics/_classification.py:1318: UndefinedMetricWarning: Precision and F-score are ill-defined and being set to 0.0 in labels with no predicted samples. Use `zero_division` parameter to control this behavior.\n",
            "  _warn_prf(average, modifier, msg_start, len(result))\n",
            "/usr/local/lib/python3.7/dist-packages/sklearn/metrics/_classification.py:1318: UndefinedMetricWarning: Precision and F-score are ill-defined and being set to 0.0 in labels with no predicted samples. Use `zero_division` parameter to control this behavior.\n",
            "  _warn_prf(average, modifier, msg_start, len(result))\n",
            "/usr/local/lib/python3.7/dist-packages/sklearn/metrics/_classification.py:1318: UndefinedMetricWarning: Precision and F-score are ill-defined and being set to 0.0 in labels with no predicted samples. Use `zero_division` parameter to control this behavior.\n",
            "  _warn_prf(average, modifier, msg_start, len(result))\n"
          ]
        }
      ]
    },
    {
      "cell_type": "code",
      "source": [
        "plt.figure(figsize=(20,20))\n",
        "sns.heatmap(cm_rf, annot=True)\n",
        "plt.title(\"Confusion Matrix for Random Forest Classifier on Test Data\")\n",
        "plt.show()"
      ],
      "metadata": {
        "colab": {
          "base_uri": "https://localhost:8080/",
          "height": 1000
        },
        "id": "eqIGeBAA9PZR",
        "outputId": "600ce580-fc3a-46b1-b42d-dd66f0d45405"
      },
      "execution_count": null,
      "outputs": [
        {
          "output_type": "display_data",
          "data": {
            "text/plain": [
              "<Figure size 1440x1440 with 2 Axes>"
            ],
            "image/png": "[encoded data removed]"
          },
          "metadata": {
            "needs_background": "light"
          }
        }
      ]
    },
    {
      "cell_type": "code",
      "source": [
        "p=Perceptron()\n",
        "rf=RandomForestClassifier()\n",
        "dt=DecisionTreeClassifier(criterion='entropy')"
      ],
      "metadata": {
        "id": "knmwjq9EFdgT"
      },
      "execution_count": null,
      "outputs": []
    },
    {
      "cell_type": "code",
      "execution_count": null,
      "metadata": {
        "id": "BfYRVFOLmU1b",
        "colab": {
          "base_uri": "https://localhost:8080/"
        },
        "outputId": "d31716cd-5b69-4dfe-cbdf-f548db92bcb1"
      },
      "outputs": [
        {
          "output_type": "stream",
          "name": "stdout",
          "text": [
            "Training 100.0\n",
            "Testing 78.38753387533876\n"
          ]
        },
        {
          "output_type": "stream",
          "name": "stderr",
          "text": [
            "/usr/local/lib/python3.7/dist-packages/sklearn/base.py:444: UserWarning: X has feature names, but Perceptron was fitted without feature names\n",
            "  f\"X has feature names, but {self.__class__.__name__} was fitted without\"\n",
            "/usr/local/lib/python3.7/dist-packages/sklearn/base.py:444: UserWarning: X has feature names, but RandomForestClassifier was fitted without feature names\n",
            "  f\"X has feature names, but {self.__class__.__name__} was fitted without\"\n",
            "/usr/local/lib/python3.7/dist-packages/sklearn/base.py:444: UserWarning: X has feature names, but DecisionTreeClassifier was fitted without feature names\n",
            "  f\"X has feature names, but {self.__class__.__name__} was fitted without\"\n"
          ]
        }
      ],
      "source": [
        "#Voting Classifier\n",
        "from sklearn.ensemble import VotingClassifier\n",
        "vc=VotingClassifier(estimators=[('perceptron',p),('randomforestclassifier',rf),('decisiontreeclassifier',dt)],voting='hard', weights=[3,2,1])\n",
        "vc.fit(train_x1_sc,train_y1)\n",
        "train_pred_vc=vc.predict(train_x1_sc)\n",
        "test_pred_vc=vc.predict(test_x1)\n",
        "print(\"Training\",accuracy_score(train_pred_vc,train_y1)*100)\n",
        "print(\"Testing\",accuracy_score(test_pred_vc,test_y1)*100)"
      ]
    },
    {
      "cell_type": "code",
      "execution_count": null,
      "metadata": {
        "id": "1a2q7pp-mUxo"
      },
      "outputs": [],
      "source": []
    },
    {
      "cell_type": "code",
      "execution_count": null,
      "metadata": {
        "id": "_PGrrUiNmUtm"
      },
      "outputs": [],
      "source": []
    },
    {
      "cell_type": "code",
      "execution_count": null,
      "metadata": {
        "id": "tTwOWzAmmUpg"
      },
      "outputs": [],
      "source": []
    },
    {
      "cell_type": "code",
      "execution_count": null,
      "metadata": {
        "id": "_sp_dkNJmUlk"
      },
      "outputs": [],
      "source": []
    },
    {
      "cell_type": "code",
      "execution_count": null,
      "metadata": {
        "id": "gJez46bImUhd"
      },
      "outputs": [],
      "source": []
    },
    {
      "cell_type": "code",
      "execution_count": null,
      "metadata": {
        "id": "RfPYGyz0mUc7"
      },
      "outputs": [],
      "source": []
    },
    {
      "cell_type": "code",
      "execution_count": null,
      "metadata": {
        "id": "KcJ-fRRNmUP8"
      },
      "outputs": [],
      "source": []
    }
  ],
  "metadata": {
    "colab": {
      "collapsed_sections": [],
      "provenance": [],
      "include_colab_link": true
    },
    "kernelspec": {
      "display_name": "Python 3",
      "name": "python3"
    },
    "language_info": {
      "name": "python"
    }
  },
  "nbformat": 4,
  "nbformat_minor": 0
}